{
 "cells": [
  {
   "cell_type": "markdown",
   "id": "bc454190-07a8-412c-be7b-bb3d3cee45ff",
   "metadata": {},
   "source": [
    "# Python pour biochimistes: un langage de programmation abordable pour tous\n",
    "\n",
    "## Introduction au concept des fonctions: automatiser les opérations récurrentes\n",
    "\n",
    "Lorsqu'on développe des solutions destinées à une certaine permanence ou bien lorsqu'on écrit, script après script, des routines qui utilisent des logiques récurrentes, il devient très utile d'utiliser des fonctions permettant de réutiliser la logique nécessaire au besoin. Un autre avantage est de permettre une modularisation de l'exécution d'un script, rendant plus facile son déboguage.\n",
    "\n",
    "On peut écrire une fonction à tout endroit d'un script MAIS, et ça peut paraitre évident, il ne faut jamais mettre la fonction après son invocation dans le script."
   ]
  },
  {
   "cell_type": "code",
   "execution_count": 6,
   "id": "9688cd5f-4018-402f-9b52-e594af40c18c",
   "metadata": {
    "tags": []
   },
   "outputs": [
    {
     "name": "stdout",
     "output_type": "stream",
     "text": [
      "Ca marche!!\n"
     ]
    }
   ],
   "source": [
    "#\n",
    "# On peut mettre des parametres pour etre traités par la fonction\n",
    "# entre les parenthèses\n",
    "#\n",
    "def uneFonction():\n",
    "    print(\"Ca marche!!\")\n",
    "\n",
    "uneFonction()"
   ]
  },
  {
   "cell_type": "code",
   "execution_count": 1,
   "id": "d63adce8-9485-4547-870b-9ba3f110a93e",
   "metadata": {
    "tags": []
   },
   "outputs": [
    {
     "ename": "NameError",
     "evalue": "name 'uneFonction' is not defined",
     "output_type": "error",
     "traceback": [
      "\u001b[0;31m---------------------------------------------------------------------------\u001b[0m",
      "\u001b[0;31mNameError\u001b[0m                                 Traceback (most recent call last)",
      "Cell \u001b[0;32mIn[1], line 4\u001b[0m\n\u001b[1;32m      1\u001b[0m \u001b[38;5;66;03m#\u001b[39;00m\n\u001b[1;32m      2\u001b[0m \u001b[38;5;66;03m# Ca ne marchera pas\u001b[39;00m\n\u001b[1;32m      3\u001b[0m \u001b[38;5;66;03m#\u001b[39;00m\n\u001b[0;32m----> 4\u001b[0m \u001b[43muneFonction\u001b[49m()\n\u001b[1;32m      6\u001b[0m \u001b[38;5;28;01mdef\u001b[39;00m \u001b[38;5;21muneFonction\u001b[39m():\n\u001b[1;32m      7\u001b[0m     \u001b[38;5;28mprint\u001b[39m(\u001b[38;5;124m\"\u001b[39m\u001b[38;5;124mCa marche!!\u001b[39m\u001b[38;5;124m\"\u001b[39m)\n",
      "\u001b[0;31mNameError\u001b[0m: name 'uneFonction' is not defined"
     ]
    }
   ],
   "source": [
    "#\n",
    "# Ça, ça ne marchera pas\n",
    "#\n",
    "uneFonction()\n",
    "\n",
    "def uneFonction():\n",
    "    print(\"Ca marche!!\")"
   ]
  },
  {
   "cell_type": "markdown",
   "id": "d1a9ff10-f401-4c24-9220-4c93ba6637c3",
   "metadata": {},
   "source": [
    "## Comment ça marche? Une fonction dans votre script\n",
    "\n",
    "Comme écrit ci-dessus, simplement écrire la ou les fonctions selon votre inspiration. Par exemple, vérifions la conformité d'un fichier au format FASTA."
   ]
  },
  {
   "cell_type": "code",
   "execution_count": 1,
   "id": "2ce7f6e8-3eb5-4871-88b4-4929ccf62561",
   "metadata": {
    "tags": []
   },
   "outputs": [
    {
     "name": "stdout",
     "output_type": "stream",
     "text": [
      "Le fichier est un fichier en format FASTA!\n"
     ]
    }
   ],
   "source": [
    "def checkFasta(aFile):\n",
    "    allLines = aFile.readlines()\n",
    "    if \">\" in allLines[0]:\n",
    "        return True\n",
    "    else:\n",
    "        return False\n",
    "\n",
    "aFile = open(\"../z.misc_files/data_seq/h.sapiens.cttn.iso.a.aa.fa\",\"r\")\n",
    "\n",
    "if checkFasta(aFile):\n",
    "    print(\"Le fichier est un fichier en format FASTA!\")\n",
    "else:\n",
    "    print(\"Le fichier n'est pas un fichier en format FASTA!\")"
   ]
  },
  {
   "cell_type": "markdown",
   "id": "2006e0b0-d71f-4e3a-8b87-08991a78b27c",
   "metadata": {},
   "source": [
    "## Comment ça marche? Une fonction dans un script externe\n",
    "\n",
    "Sommes-nous obligé d'écrire une fonction dans le fichier qui l'exécute? Non :-) C'est très utile de mettre des fonctions passe-partout dans un script externe qu'on appelle lorsque nécessaire dans un autre script qui en a besoin. Imaginons que nous avons un script appelé fastaTools.py qui se trouve au même niveau dans le système de fichiers. fastaTools.py contient une série de fonctions qui servent à n'importe quel autre script à gérer les séquences FASTA."
   ]
  },
  {
   "cell_type": "code",
   "execution_count": null,
   "id": "c4342ce3-259a-4b7a-9abc-04dde39a4e00",
   "metadata": {},
   "outputs": [],
   "source": [
    "#\n",
    "# Vérifions le contenu du fichier fastaTools\n",
    "#\n",
    "!less fastaTools.py"
   ]
  },
  {
   "cell_type": "code",
   "execution_count": 2,
   "id": "930f3d90-d5d1-43bc-aa7f-f592d24a200e",
   "metadata": {},
   "outputs": [
    {
     "name": "stdout",
     "output_type": "stream",
     "text": [
      "Le fichier n'est pas dans le bon format!\n"
     ]
    }
   ],
   "source": [
    "#\n",
    "# Utilisons maitenant la fonction dans notre cellule de code\n",
    "#\n",
    "# On importe toutes les fonctions qui seraient contenu dans fastaTools\n",
    "import fastaTools as f\n",
    "\n",
    "aFile = open(\"../z.misc_files/data_seq/h.sapiens.cttn.iso.a.cdna.bad.fa\",\"r\")\n",
    "\n",
    "#\n",
    "# Il faut metttre le raccourci \"f\" pour que le script fonctionne\n",
    "#\n",
    "if f.checkFasta(aFile):\n",
    "    print(\"Le fichier est dans le bon format!\")\n",
    "else:\n",
    "    print(\"Le fichier n'est pas dans le bon format!\")"
   ]
  },
  {
   "cell_type": "code",
   "execution_count": 3,
   "id": "4607c066-9cef-4ba4-9610-a3dd20fde014",
   "metadata": {},
   "outputs": [
    {
     "name": "stdout",
     "output_type": "stream",
     "text": [
      "Le fichier est dans le bon format!\n"
     ]
    }
   ],
   "source": [
    "#\n",
    "# Utilisons maitenant la fonction dans notre cellule de code\n",
    "#\n",
    "# Si on ne veut que quelques fonctions, on les appelle individuellement:\n",
    "from fastaTools import checkFasta\n",
    "\n",
    "aFile = open(\"../z.misc_files/data_seq/h.sapiens.cttn.iso.a.aa.fa\",\"r\")\n",
    "\n",
    "if checkFasta(aFile):\n",
    "    print(\"Le fichier est dans le bon format!\")\n",
    "else:\n",
    "    print(\"Le fichier n'est pas dans le bon format!\")"
   ]
  },
  {
   "cell_type": "code",
   "execution_count": null,
   "id": "152ae4fc-b44d-45a0-b62d-783a6d4a26c1",
   "metadata": {},
   "outputs": [],
   "source": []
  }
 ],
 "metadata": {
  "kernelspec": {
   "display_name": "Python 3 (ipykernel)",
   "language": "python",
   "name": "python3"
  },
  "language_info": {
   "codemirror_mode": {
    "name": "ipython",
    "version": 3
   },
   "file_extension": ".py",
   "mimetype": "text/x-python",
   "name": "python",
   "nbconvert_exporter": "python",
   "pygments_lexer": "ipython3",
   "version": "3.12.1"
  }
 },
 "nbformat": 4,
 "nbformat_minor": 5
}
