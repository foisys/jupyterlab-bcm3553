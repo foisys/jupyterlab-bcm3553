{
 "cells": [
  {
   "cell_type": "markdown",
   "id": "407dc987",
   "metadata": {},
   "source": [
    "# Python pour biochimistes: définitions des variables booléennes\n",
    "\n",
    "## Qu'est-ce qu'une variable booléenne?\n",
    "\n",
    "Très simplement, c'est une variable qui ne peut avoir que deux valeurs : TRUE (vrai) ou FALSE (faux). Et à quoi est-ce utile? Dans un tas de circonstance, une série d'actions ne se fera que si et seulement si une ou plusieurs conditions sont respectées; un autre exemple serait plutôt que cette série se fasse tant et aussi longtemps que les mêmes conditions sont respectées. On verra dans quelques pages comment on utilise tout ça :-)\n",
    "\n",
    "Un exemple:"
   ]
  },
  {
   "cell_type": "code",
   "execution_count": 6,
   "id": "b70f8419",
   "metadata": {
    "tags": []
   },
   "outputs": [
    {
     "name": "stdout",
     "output_type": "stream",
     "text": [
      "0\n",
      "2\n",
      "4\n",
      "6\n",
      "8\n",
      "10\n"
     ]
    }
   ],
   "source": [
    "# On veut avoir une suite de 0 à 10\n",
    "for i in range(11):\n",
    "  # Remarquez le ==\n",
    "  # Selon la situation, il faut que \n",
    "  # le contenu de la condition retourne TRUE ou FALSE\n",
    "  if(i%2==0):\n",
    "    print(i)"
   ]
  },
  {
   "cell_type": "markdown",
   "id": "7724adc8-6bc2-4f2c-98f0-3901a87dc99f",
   "metadata": {},
   "source": [
    "## Jouez avec les conditions!\n",
    "\n",
    "Comment manipuler tout ça? On peut spéficier l'éavaluation de la condition selon qu'on veut avoir une VRAI ou un FAUX\n",
    "\n",
    "- Si on veut tester notre condition avec un VRAI, on utilise la double égalité (==);\n",
    "- Si on veut tester avec un FAUX, on utilise != qui sera évaluer comme \"n'est pas égal à\"\n",
    "- Dans l'évaluation de conditions numériques, on peut utiliser: \">\" et \"<\",\">=\" et \"<=\"\n",
    "\n",
    "Est-il possible de mettre plusieurs conditions à resepecter dans une seule évaluation? Oui! Contrairement à des languages comme C++ ou Java, qui utilise des syntaxes particulières comme le ET logique (\"&&\") ou le OU logique (\"||\"), on utilise spécifiquement les mots clé OR et AND en minuscules pour combiner des conditions. Ça peut mener à des situations assez complexes et il peut-etre utile d'utiliser des parenthèses pour séparer les conditions à évaluer. \n",
    "\n",
    "En exemple:"
   ]
  },
  {
   "cell_type": "code",
   "execution_count": 7,
   "id": "75a2c606-69b8-49ad-89ec-7b922918764c",
   "metadata": {
    "tags": []
   },
   "outputs": [
    {
     "name": "stdout",
     "output_type": "stream",
     "text": [
      "6\n",
      "8\n",
      "10\n"
     ]
    }
   ],
   "source": [
    "# On veut avoir une suite de 0 à 10\n",
    "for i in range(11):\n",
    "  # Remarquez le ==\n",
    "  # Selon la situation, il faut que \n",
    "  # le contenu de la condition retourne TRUE ou FALSE\n",
    "  if(i%2==0 and i>=5):\n",
    "    print(i)"
   ]
  }
 ],
 "metadata": {
  "kernelspec": {
   "display_name": "Python 3 (ipykernel)",
   "language": "python",
   "name": "python3"
  },
  "language_info": {
   "codemirror_mode": {
    "name": "ipython",
    "version": 3
   },
   "file_extension": ".py",
   "mimetype": "text/x-python",
   "name": "python",
   "nbconvert_exporter": "python",
   "pygments_lexer": "ipython3",
   "version": "3.10.12"
  }
 },
 "nbformat": 4,
 "nbformat_minor": 5
}
