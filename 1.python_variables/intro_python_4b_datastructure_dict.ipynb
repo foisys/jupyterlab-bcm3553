{
 "cells": [
  {
   "cell_type": "markdown",
   "id": "7bb4b6ec-03cd-4bdd-8b82-cc4e6d7dbc63",
   "metadata": {},
   "source": [
    "# Python pour biochimistes: les structures de données\n",
    "\n",
    "## Structures de données: stocker vos informations de manière accessible\n",
    "\n",
    "Donc, c'est facile de créer des variables :-) La plupart du temps cependant, nous voulons aller plus loin; par exemple, comment représenter des infos sur une personne ou un objet ou bien représenter un ensemble de variables similaires (ou pas!). On se doit d'utiliser des variables un peu spéciales appelées structures de données. Tous les languages de programmation possèdent des façons de créer ces structures de données et Python n'est pas exception. Voici les types les plus courants de structures de données:\n",
    "\n",
    "- Les listes;\n",
    "- Les tuples;\n",
    "- Les sets ou ensembles;\n",
    "- Les dictionnaires."
   ]
  },
  {
   "cell_type": "markdown",
   "id": "966be151-3c15-4248-bd49-da186448ffc3",
   "metadata": {
    "tags": []
   },
   "source": [
    "## Utilisations des dictionnaires¶\n",
    "\n",
    "Un dictionnaire en Python est similaire à un tableau associatif en C++ ou en Java: un item, quel qu'il soit, est identifié à un type dans une relation clé => valeur,\n",
    "\n",
    "- Un dictionnaire peut contenir n'importe quoi sans que ce soit des variables de même type. Par ex.: un dictionnaire peut contenir un autre dictionnaire.\n",
    "- Les items du dictionnaire sont toujours ordonnés en ordre alphabétique des clés.\n",
    "- Les items du dictionnaire sont modifiables: on peut en retirer ou en insérer tout autant qu'on peut modifier le contenu d'un des items du dictionnaire.\n",
    "- Un dictionnaire ne peut contenir de doublons des clés.\n",
    "\n",
    "### Comment créer des dictionnaires?\n",
    "\n",
    "Prenons un exmple classique: un répertoire de personnes avec prénom, nom, téléphone et courriel."
   ]
  },
  {
   "cell_type": "code",
   "execution_count": 2,
   "id": "b28e2c74-b4fc-4226-987e-cc45e677152d",
   "metadata": {
    "tags": []
   },
   "outputs": [
    {
     "name": "stdout",
     "output_type": "stream",
     "text": [
      "Vader,Darth\n"
     ]
    }
   ],
   "source": [
    "# Notez l'utilisation des accolades\n",
    "bottin = {}\n",
    "bottin[\"prenom\"] = \"Darth\"\n",
    "bottin[\"nom\"] = \"Vader\"\n",
    "bottin[\"tel\"] = \"213-555-1234\"\n",
    "bottin[\"mail\"] = \"darth.vader@evilempire.org\"\n",
    "print(bottin[\"nom\"]+\",\"+bottin[\"prenom\"])"
   ]
  },
  {
   "cell_type": "code",
   "execution_count": 3,
   "id": "6ac6bdff-525f-4697-b337-a1190b578413",
   "metadata": {
    "tags": []
   },
   "outputs": [
    {
     "name": "stdout",
     "output_type": "stream",
     "text": [
      "prenom: Darth\n",
      "nom: Vader\n",
      "tel: 213-555-1234\n",
      "mail: darth.vader@evilempire.org\n"
     ]
    }
   ],
   "source": [
    "bottin = {}\n",
    "bottin[\"prenom\"] = \"Darth\"\n",
    "bottin[\"nom\"] = \"Vader\"\n",
    "bottin[\"tel\"] = \"213-555-1234\"\n",
    "bottin[\"mail\"] = \"darth.vader@evilempire.org\"\n",
    "\n",
    "# Pour imprimer tout le contenu du dictionnaire\n",
    "# Utilisons l'itérateur implicite du dictionnaire\n",
    "for aKey in bottin:\n",
    "    print(aKey+\": \"+bottin[aKey])"
   ]
  },
  {
   "cell_type": "code",
   "execution_count": 8,
   "id": "0c33abad-cb51-407a-9426-ab8db385952c",
   "metadata": {
    "tags": []
   },
   "outputs": [
    {
     "name": "stdout",
     "output_type": "stream",
     "text": [
      "prenom: Anakin\n",
      "nom: Skywalker\n",
      "tel: 212-555-1234\n",
      "mail: darth.vader@evilempire.org\n"
     ]
    }
   ],
   "source": [
    "# Attention! une clé ne peut existée qu'une seule fois dans un\n",
    "# dictionnaire. Si on tente le coup, la valeur d'origine sera modifiée\n",
    "bottin[\"nom\"] = \"Skywalker\"\n",
    "bottin[\"prenom\"] = \"Anakin\"\n",
    "for aKey in bottin:\n",
    "    print(aKey+\": \"+bottin[aKey])"
   ]
  },
  {
   "cell_type": "markdown",
   "id": "ead3b1d5-a220-40db-9deb-16ac0d9c55a3",
   "metadata": {},
   "source": [
    "### Comment stocker des dictionnaires en mémoire?\n",
    "\n",
    "On a deux options:\n",
    "\n",
    "Dans une liste et alors chaque dictionnaire pourra être lû selon son index à partir de la position zéro (0). Cependant celà ouvre la porte à la présence de doublons, c'est à dire d'entrées identiques.\n",
    "Dans un dictionnaire en soi. Comme une clé ne peut être présente qu'une seule fois, on peut créer une clé synthétique (par ex.: nom+prenom) et vérifier que la clé exite dans le dictionnaire."
   ]
  },
  {
   "cell_type": "code",
   "execution_count": 1,
   "id": "38a49827-7afc-4e89-997b-ff5d48ba183f",
   "metadata": {
    "tags": []
   },
   "outputs": [],
   "source": [
    "aList = []\n",
    "allDict = {}\n",
    "\n",
    "# Notez une manière alternative de construire un dictionnaire\n",
    "bottin = {\n",
    "  'prenom' : \"Leia\",\n",
    "  'nom' : \"Princess\",\n",
    "  'tel' : \"213-555-4321\",\n",
    "  'mail' : \"princess.leia@rebellion.org\"\n",
    "}\n",
    "\n",
    "aList.append(bottin)\n",
    "allDict = {\n",
    "  'nomprenom' : bottin[\"nom\"]+\",\"+bottin[\"prenom\"],\n",
    "  'aPerson' : bottin\n",
    "} "
   ]
  },
  {
   "cell_type": "code",
   "execution_count": 2,
   "id": "4e4c952e-2d65-4074-97ca-9683ac2a04e4",
   "metadata": {
    "tags": []
   },
   "outputs": [
    {
     "name": "stdout",
     "output_type": "stream",
     "text": [
      "[{'prenom': 'Leia', 'nom': 'Princess', 'tel': '213-555-4321', 'mail': 'princess.leia@rebellion.org'}]\n",
      "{'nomprenom': 'Princess,Leia', 'aPerson': {'prenom': 'Leia', 'nom': 'Princess', 'tel': '213-555-4321', 'mail': 'princess.leia@rebellion.org'}}\n"
     ]
    }
   ],
   "source": [
    "print(aList)\n",
    "print(allDict)"
   ]
  }
 ],
 "metadata": {
  "kernelspec": {
   "display_name": "Python 3 (ipykernel)",
   "language": "python",
   "name": "python3"
  },
  "language_info": {
   "codemirror_mode": {
    "name": "ipython",
    "version": 3
   },
   "file_extension": ".py",
   "mimetype": "text/x-python",
   "name": "python",
   "nbconvert_exporter": "python",
   "pygments_lexer": "ipython3",
   "version": "3.10.12"
  }
 },
 "nbformat": 4,
 "nbformat_minor": 5
}
