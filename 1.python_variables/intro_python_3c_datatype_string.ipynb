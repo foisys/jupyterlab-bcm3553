{
 "cells": [
  {
   "cell_type": "markdown",
   "id": "bc454190-07a8-412c-be7b-bb3d3cee45ff",
   "metadata": {
    "id": "bc454190-07a8-412c-be7b-bb3d3cee45ff"
   },
   "source": [
    "# Python pour biochimistes: comment travailler avec les chaines de caractères comme variables\n",
    "\n",
    "## Introduction\n",
    "\n",
    "Une chaîne de caractères est un ensemble de valeurs alphanumériques défini entre deux types de balises: soit des guillements simples ('x'), soit des guillements doubles (\"x\"). Une chaine de caractères peut ne contenir qu'un seul caractère; la limite manipulable dépend de la ménoire vive disponible pour la contenir (en théorie sur un système 64 bit, ça donne 263-1 caractères et ça occupe 9Tb de mémoire :-)).\n",
    "\n",
    "Exemples:"
   ]
  },
  {
   "cell_type": "code",
   "execution_count": null,
   "id": "52129ccd-b109-430f-87bb-8fda5fa21810",
   "metadata": {
    "id": "52129ccd-b109-430f-87bb-8fda5fa21810",
    "outputId": "d6e04228-47b4-463c-b9fa-38baba31c1be",
    "tags": []
   },
   "outputs": [
    {
     "name": "stdout",
     "output_type": "stream",
     "text": [
      "UdeM\n",
      "UdeM\n"
     ]
    }
   ],
   "source": [
    "x = \"UdeM\"\n",
    "print(x)\n",
    "# Juste pour montrer l'équivalence...\n",
    "x = 'UdeM'\n",
    "print(x)"
   ]
  },
  {
   "cell_type": "markdown",
   "id": "e526afef-4ce0-422c-942b-13198aa078e7",
   "metadata": {
    "id": "e526afef-4ce0-422c-942b-13198aa078e7"
   },
   "source": [
    "## Manipulations fréquentes\n",
    "\n",
    "On peut faire toute une variété d'opérations sur des chaines de caractères, un peu à la manière des valeurs numériques. Voici quelques exemples...\n",
    "\n",
    "### Déterminer la longueur d'une chaine de caractéres"
   ]
  },
  {
   "cell_type": "code",
   "execution_count": null,
   "id": "32a62f6d-712d-47ac-b3c5-c7f7903904b4",
   "metadata": {
    "id": "32a62f6d-712d-47ac-b3c5-c7f7903904b4",
    "outputId": "e12f5550-ce01-4c1f-a213-40ea7916e08f",
    "tags": []
   },
   "outputs": [
    {
     "name": "stdout",
     "output_type": "stream",
     "text": [
      "4\n",
      "5\n"
     ]
    }
   ],
   "source": [
    "x = \"UdeM\"\n",
    "print(len(x))\n",
    "# Remarquez l'espace supplémentaire...\n",
    "x = \"UdeM \"\n",
    "# Ça change la longueur car l'espace EST un caractère...\n",
    "print(len(x))"
   ]
  },
  {
   "cell_type": "markdown",
   "id": "a8dec9d2-07a5-4020-b118-890cac21bdb5",
   "metadata": {
    "id": "a8dec9d2-07a5-4020-b118-890cac21bdb5"
   },
   "source": [
    "### Concaténer (== additioner) deux chaînes de caractères - Méthode 1\n",
    "\n",
    "Il y a plus d'une façon de de concaténer des chaînes de caractères en Python ;-) La façon la plus simple est de simplement utiliser l'opérateur '+'! Ça fonctionne parce que les chaînes de caractères sont en fait des listes et que des listes peuvent s'additionner comme ça."
   ]
  },
  {
   "cell_type": "code",
   "execution_count": 4,
   "id": "408d192b-0d46-472d-adb5-1e39e1d5f42b",
   "metadata": {
    "id": "408d192b-0d46-472d-adb5-1e39e1d5f42b",
    "outputId": "0fa2e2b7-d2aa-4b99-ebc6-90a8a8ffccc1",
    "tags": []
   },
   "outputs": [
    {
     "name": "stdout",
     "output_type": "stream",
     "text": [
      "Concaténation - Methode 1\n",
      "Essai 1:\n",
      "UdeMDept de biochimie\n",
      "Essai 2 - On ajoute un espace:\n",
      "UdeM Dept de biochimie\n",
      "Essai 3 - On insère un retour de chariot:\n",
      "UdeM\n",
      "Dept de biochimie\n"
     ]
    }
   ],
   "source": [
    "x = \"UdeM\"\n",
    "y = \"Dept de biochimie\"\n",
    "# Il y a toujours un retour de chariot\n",
    "# implicite avec la fonction print()\n",
    "print(\"Concaténation - Methode 1\")\n",
    "print(\"Essai 1:\")\n",
    "print(x+y)\n",
    "# Un peu plus beau...\n",
    "print(\"Essai 2 - On ajoute un espace:\")\n",
    "print(x+\" \"+y)\n",
    "# Encore mieux...\n",
    "# Remarquer le \\n: un retour de chariot EST un caractère...\n",
    "print(\"Essai 3 - On insère un retour de chariot:\")\n",
    "print(x+\"\\n\"+y)"
   ]
  },
  {
   "cell_type": "markdown",
   "id": "b5dc1597-cc45-4df9-acdd-a379f34fb3f9",
   "metadata": {
    "id": "a8dec9d2-07a5-4020-b118-890cac21bdb5"
   },
   "source": [
    "### Concaténer (== additioner) deux chaines de caractères - Méthode 2\n",
    "\n",
    "Une autre façon est d'utiliser le nom des variables représentant les chaînes de caractères en utilisant l'opérateur 'f' et en mettant le texte désiré entre guillemets, en incluant les variables délimitées par des accolades ('{' et '}')."
   ]
  },
  {
   "cell_type": "code",
   "execution_count": 5,
   "id": "46ba840e-a1c1-4f99-8e1b-89727efb529e",
   "metadata": {
    "id": "408d192b-0d46-472d-adb5-1e39e1d5f42b",
    "outputId": "0fa2e2b7-d2aa-4b99-ebc6-90a8a8ffccc1",
    "tags": []
   },
   "outputs": [
    {
     "name": "stdout",
     "output_type": "stream",
     "text": [
      "Concaténation - Methode 2\n",
      "Essai 1:\n",
      "UdeMDept de biochimie\n",
      "Essai 2 - On ajoute un espace:\n",
      "UdeM Dept de biochimie\n",
      "Essai 3 - On insère un retour de chariot:\n",
      "UdeM\n",
      "Dept de biochimie\n"
     ]
    }
   ],
   "source": [
    "x = \"UdeM\"\n",
    "y = \"Dept de biochimie\"\n",
    "# Il y a toujours un retour de chariot\n",
    "# implicite avec la fonction print()\n",
    "print(\"Concaténation - Methode 2\")\n",
    "print(\"Essai 1:\")\n",
    "print(f\"{x}{y}\")\n",
    "# Un peu plus beau...\n",
    "print(\"Essai 2 - On ajoute un espace:\")\n",
    "print(f\"{x} {y}\")\n",
    "# Encore mieux...\n",
    "# Remarquer le \\n: un retour de chariot EST un caractère...\n",
    "print(\"Essai 3 - On insère un retour de chariot:\")\n",
    "print(f\"{x}\\n{y}\")"
   ]
  },
  {
   "cell_type": "markdown",
   "id": "0654f772-8470-4625-98ce-41cb9ca0811d",
   "metadata": {
    "id": "0654f772-8470-4625-98ce-41cb9ca0811d"
   },
   "source": [
    "### Extraire les infos d'une chaine de caractères pour traitement - Méthode par séparateurs\n",
    "\n",
    "Cette opération est fréquemment mise en pratique en sciences: par exemple, lire un fichier de données tabulées, séparées par espace | tabulation | virgule ou point-virgule dans un tableau"
   ]
  },
  {
   "cell_type": "code",
   "execution_count": 1,
   "id": "e152bc76-963c-413d-aac9-cf3839d69bea",
   "metadata": {
    "id": "e152bc76-963c-413d-aac9-cf3839d69bea",
    "outputId": "ea70dc4c-411c-479a-8dfc-0d5ebf5ea41f",
    "tags": []
   },
   "outputs": [
    {
     "name": "stdout",
     "output_type": "stream",
     "text": [
      "Ligne à séparer: UdeM;Dept de biochimie;Montreal\n",
      "['UdeM', 'Dept de biochimie', 'Montreal']\n",
      "Type de la variable arr :<class 'list'>\n"
     ]
    }
   ],
   "source": [
    "# J'utilise un ; comme caractère délimitant\n",
    "x = \"UdeM;Dept de biochimie;Montreal\"\n",
    "print(\"Ligne à séparer: \"+x)\n",
    "# La méthode split() fonctionne sur une chaine de caracteres\n",
    "arr = x.split(\";\")\n",
    "print(arr)\n",
    "# Remarquer la nature de arr...\n",
    "# Assignation de type(arr) comme une chaine de caracteres\n",
    "print (\"Type de la variable arr :\"+str(type(arr)))"
   ]
  },
  {
   "cell_type": "markdown",
   "id": "dd816607-80b2-45f0-9bfd-bca8165c0ccd",
   "metadata": {
    "id": "dd816607-80b2-45f0-9bfd-bca8165c0ccd"
   },
   "source": [
    "### Extraire les infos d'une chaine de caractères pour traitement - Méthode par position\n",
    "\n",
    "On peut délimiter une portion d'une chaine de caractères en spécifiant le point de départ et la longueur à partir de ce point. Attention! Comme tout bon language de programmation, la position d'un item dans une chaine de caractères comment à 0 (zéro) et non 1...  "
   ]
  },
  {
   "cell_type": "code",
   "execution_count": 9,
   "id": "7a176089-73e0-4877-b76f-0bccb49a8f4f",
   "metadata": {
    "id": "7a176089-73e0-4877-b76f-0bccb49a8f4f",
    "outputId": "e8b04693-ca43-4d89-eaec-5f3e6bfa693b",
    "tags": []
   },
   "outputs": [
    {
     "name": "stdout",
     "output_type": "stream",
     "text": [
      "UdeM;Dept de biochimie;Montreal\n",
      "UdeM\n",
      "Montreal\n",
      "CTTGC\n"
     ]
    }
   ],
   "source": [
    "x = \"UdeM;Dept de biochimie;Montreal\"\n",
    "print(x)\n",
    "# On veut avoir les 4 premiers caractères de x\n",
    "y = x[0:4]\n",
    "print(y)\n",
    "# On veut avoir le mot Montreal, qui se trouve à l'indice 23\n",
    "# L'absence d'infos après le caractère ':' indique que l'on veut tout \n",
    "# le texte jusqu'à la fin\n",
    "z = x[23:]\n",
    "print(z)\n",
    "\n",
    "# Imaginons une chaine de caractères scientifique\n",
    "z = \"ACCTTGCAACGTTGCATCGCATTAGATTC\"\n",
    "\n",
    "# Je veux cette sous-sequence: CTTGC\n",
    "b = z[2:7]\n",
    "print(b)"
   ]
  },
  {
   "cell_type": "markdown",
   "id": "ebc45bba-c77f-4f95-809e-05e832e91b10",
   "metadata": {
    "id": "ebc45bba-c77f-4f95-809e-05e832e91b10"
   },
   "source": [
    "### Remplacer des caractères\n",
    "\n",
    "Simplement utiliser la méthode `replace()` sur la chaine de caractères. Noter que toutes les occurences de la sous-chaine recherchée seront remplacées par la sous-chaine de remplacement."
   ]
  },
  {
   "cell_type": "code",
   "execution_count": null,
   "id": "66199f4f-b2eb-4906-99aa-80ad4b5561d6",
   "metadata": {
    "id": "66199f4f-b2eb-4906-99aa-80ad4b5561d6",
    "outputId": "2539b609-7b9e-4ec7-fe25-6d57975af984",
    "tags": []
   },
   "outputs": [
    {
     "name": "stdout",
     "output_type": "stream",
     "text": [
      "Avant: UdeM;Dept de biochimie;Montreal\n",
      "Après: UQAM;Dept de biochimie;Montreal\n",
      "Avant: UQAM;Dept de biochimie;Montreal;UQAM\n",
      "Après: UdeM;Dept de biochimie;Montreal;UdeM\n"
     ]
    }
   ],
   "source": [
    "x = \"UdeM;Dept de biochimie;Montreal\"\n",
    "print(\"Avant: \"+x)\n",
    "y = x.replace(\"UdeM\",\"UQAM\")\n",
    "print(\"Après: \"+y)\n",
    "\n",
    "z = \"UQAM;Dept de biochimie;Montreal;UQAM\"\n",
    "print(\"Avant: \"+z)\n",
    "a = z.replace(\"UQAM\",\"UdeM\")\n",
    "print(\"Après: \"+a)"
   ]
  },
  {
   "cell_type": "markdown",
   "id": "97ace41f-259b-47e4-92f5-41c19efd331d",
   "metadata": {
    "id": "97ace41f-259b-47e4-92f5-41c19efd331d"
   },
   "source": [
    "### Rechercher une sous-chaîne - Méthode find\n",
    "\n",
    "Il y a deux façons de faire des recherches de sous-chaînes de caractéres en Python: via la méthode `find()` qui recherchera rextuellement la sous-chaîne dans le plus grande ou bien via la méthode `regex()` du module `re` qui recherchera des possibilités de patrons via une expression régulière. Commençons avec `find()` ;-)\n",
    "\n",
    "Qunad un patron est retrouvé, la valeur retournée est la position du début de l'occurence, en comptant à partir de 0 (zéro)."
   ]
  },
  {
   "cell_type": "code",
   "execution_count": 3,
   "id": "738a1409-fff7-443e-8be0-d1cad63154dd",
   "metadata": {
    "id": "738a1409-fff7-443e-8be0-d1cad63154dd",
    "outputId": "1827cedf-f9c3-4d1d-9ca8-1f80fc189710"
   },
   "outputs": [
    {
     "name": "stdout",
     "output_type": "stream",
     "text": [
      "0\n",
      "4\n",
      "3\n",
      "-1\n"
     ]
    }
   ],
   "source": [
    "# Soit la chaine de caractère suivante\n",
    "a = \"HOH OHO;J4T T5D;V6Y 8J9\"\n",
    "# Utilisation de la méthode find()\n",
    "print(a.find(\"HOH\"))\n",
    "# Amusons-nous avec les espaces...\n",
    "print(a.find(\"OHO\"))\n",
    "# L'espace compte dans le décompte de la position.\n",
    "print(a.find(\" OHO\"))\n",
    "# Valeur si la sous-chaine n'est pas trouvée...\n",
    "print(a.find(\":\"))"
   ]
  },
  {
   "cell_type": "markdown",
   "id": "7d84e4c9-cbd9-4a8b-9d54-00917fa89adc",
   "metadata": {
    "id": "97ace41f-259b-47e4-92f5-41c19efd331d"
   },
   "source": [
    "### Rechercher une sous-chaîne - Méthode regex\n",
    "\n",
    "Il y a deux façons de faire des recherches de sous-chaînes de caractéres en Python: via la méthode find() qui recherchera rextuellement la sous-chaîne dans le plus grande ou bien via la méthode regex() du module re qui recherchera des possibilités de patrons via une expression régulière.\n",
    "\n",
    "Trés (trop?) souvent, une recherche de sous-chaine n'est pas aussi simple... Un exemple: comment valider un code postal canadien? En biologie moléculaire, comment recherche des sites de coupure sur une molécule d'ADN pour un enzyme de restriction ayant une séquence de reconnaissance avec une dégénérescence? On doit alors utiliser une recherche par expression régulière! De qu'est-ce que c'est, une epxression régulière? Une expression régulière est une chaine de caractère écrite de telle manière (en utilisant une syntaxe) qu'elle représente plusieurs possibilités de recherche. Le sujet est vaste et la syntaxe à utiliser est complexe mais un avant-goût se trouve ici.\n",
    "\n",
    "En utilisant l'exemple des code postaux, une chaine de caractères décrivant potentiellement TOUS les codes possibles est: \n",
    "\n",
    "`^[A-Z]\\d[A-Z] \\d[A-Z]\\d`\n",
    "\n",
    "Qu'est-ce que ça veux dire?\n",
    "\n",
    "- Les caractères ^ et $ spécifient que la chaine à trouver doit se trouver en un seul bloc distinct et non pas \"noyer\" dans une plus grande chaine.\n",
    "- Le bloc [A-Z] veut dire toute les letrtes de A à Z en majuscules.\n",
    "- Le bloc \"\\d\" veut dire n'importe quel nombre de 0 à 9.\n",
    "\n",
    "Pour l'exemple qui suivra dans le code Python, j'utiliserai le site de coupure pour l'enzyme AvaI: GGWCC. Évidemment, où est notre problème? La lettre W n'est pas un seul nucléotide mais plutôt le code IUPAC pour un choix entre A ou T. Comment écrire notre expression régulière? La chaine suivante décrit le site en question: GG[AT]CC; alors comment faire notre recherche?\n",
    "\n",
    "BTW, ceci est une introduction toute simple; plusieurs possiblités de traitement sont possibles."
   ]
  },
  {
   "cell_type": "code",
   "execution_count": 7,
   "id": "c9b3c2b1-d049-407e-bbd9-fd29e91699f0",
   "metadata": {
    "id": "c9b3c2b1-d049-407e-bbd9-fd29e91699f0",
    "outputId": "0a22a520-fca4-4132-b77f-292a8cf338ef",
    "tags": []
   },
   "outputs": [
    {
     "name": "stdout",
     "output_type": "stream",
     "text": [
      "==> Sequence: ACCTATTCGGACCTACGTACGGTCCAGCACCTATTCGGACCTACGTACGGTCCAGC\n",
      "==> Liste de tous les motifs trouvés dans la séquence:\n",
      "['GGACC', 'GGTCC', 'GGACC', 'GGTCC']\n",
      "==> Pour chaque motif trouvé, quelle est sa position?\n",
      "GGACC : 9\n",
      "GGTCC : 21\n",
      "GGACC : 37\n",
      "GGTCC : 49\n"
     ]
    }
   ],
   "source": [
    "# Notre moteur de recherche\n",
    "import re\n",
    "\n",
    "# Notre site de restriction\n",
    "ava1 = \"GG[AT]CC\"\n",
    "# Des sites sont présents dans cette sequence?\n",
    "aSeq1 = \"ACCTATTCGGACCTACGTACGGTCCAGCACCTATTCGGACCTACGTACGGTCCAGC\"\n",
    "print(f\"==> Sequence: {aSeq1}\")\n",
    "# On crée un objet pour faire la recherche\n",
    "# Juste en cas, on décide de ne pas se préoccuper de la casse...\n",
    "eng = re.compile(ava1, re.IGNORECASE)\n",
    "\n",
    "# plusieurs actions sont possibles maintenant\n",
    "# Voir https://docs.python.org/3/howto/regex.html\n",
    "rez = eng.findall(aSeq1)\n",
    "print(\"==> Liste de tous les motifs trouvés dans la séquence:\")\n",
    "print(rez)\n",
    "iter = eng.finditer(aSeq1)\n",
    "print(\"==> Pour chaque motif trouvé, quelle est sa position?\")\n",
    "for i in iter:\n",
    "    pos = i.start() + 1 # Pourquoi le +1?\n",
    "    print(i.group()+\" : \"+str(pos))"
   ]
  }
 ],
 "metadata": {
  "colab": {
   "provenance": []
  },
  "kernelspec": {
   "display_name": "Python 3 (ipykernel)",
   "language": "python",
   "name": "python3"
  },
  "language_info": {
   "codemirror_mode": {
    "name": "ipython",
    "version": 3
   },
   "file_extension": ".py",
   "mimetype": "text/x-python",
   "name": "python",
   "nbconvert_exporter": "python",
   "pygments_lexer": "ipython3",
   "version": "3.12.2"
  }
 },
 "nbformat": 4,
 "nbformat_minor": 5
}
