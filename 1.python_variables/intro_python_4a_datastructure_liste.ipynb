{
 "cells": [
  {
   "cell_type": "markdown",
   "id": "bc454190-07a8-412c-be7b-bb3d3cee45ff",
   "metadata": {},
   "source": [
    "# Python pour biochimistes: les structures de données\n",
    "\n",
    "## Structures de données: stocker vos informations de manière accessible\n",
    "\n",
    "Donc, c'est facile de créer des variables :-) La plupart du temps cependant, nous voulons aller plus loin; par exemple, comment représenter des infos sur une personne ou un objet ou bien représenter un ensemble de variables similaires (ou pas!). On se doit d'utiliser des variables un peu spéciales appelées structures de données. Tous les languages de programmation possèdent des façons de créer ces structures de données et Python n'est pas exception. Voici les types les plus courants de structures de données:\n",
    "\n",
    "- Les listes;\n",
    "- Les tuples;\n",
    "- Les sets ou ensembles;\n",
    "- Les dictionnaires."
   ]
  },
  {
   "cell_type": "markdown",
   "id": "966be151-3c15-4248-bd49-da186448ffc3",
   "metadata": {
    "tags": []
   },
   "source": [
    "## Utilisations des listes et des tuples\n",
    "\n",
    "Une liste ou un tuple est un type de variable qui contient plusieurs autres variables (duh!). Ils ont certaines propriétés:\n",
    "\n",
    "- Une liste ou un tuple peut contenir n'importe quoi sans que ce soit des variables de même type. Par ex.: une liste peut contenir une autre liste.\n",
    "- Les items de la liste ou du tuple sont toujours ordonnés en ordre de création via un processus d'indexation où le premier item à toujours l'index 0 (zéro).\n",
    "- Les items d'une liste sont modifiables: on peut en retirer ou en insérer tout autant qu'on peut modifier le contenu d'un des items de la liste. Les tuples sont cependant immuables.\n",
    "- Une liste ou un tuple peut contenir des doublons.\n",
    "- Deux listes ou deux tuples peuvent être concaténés en utilisant l'opérateur \"+\". Évidemment, une liste ET un tuple ne peuvent être concaténés ensembles...\n",
    "\n",
    "### Liste ou tuple?\n",
    "\n",
    "Quand utiliser l'un ou l'autre? Ça dépend des besoins:\n",
    "\n",
    "Comme les tuples sont immuables, c'est pratique pour y stocker des données statiques comme des valeurs constantes ou des paramétres d'éxécution de scripts;\n",
    "Un corollaire: l'immutabilité assure l'intégrité des données qui pourraient être modifiées par inadvertance dans une liste;\n",
    "Finalement, les tuples sont plus économes en espaces mémoire comparé avec les listes ce qui peut êrte un avantage dans un système aux ressources limitées (par exemple: microcontroleur)\n",
    "\n",
    "### Comment créer des listes et des tuples?"
   ]
  },
  {
   "cell_type": "code",
   "execution_count": 2,
   "id": "fcf74dec-1e2d-43a4-a67b-bec26afdc981",
   "metadata": {
    "tags": []
   },
   "outputs": [
    {
     "name": "stdout",
     "output_type": "stream",
     "text": [
      "['yoda', 'luke', 'indy', 'salah']\n",
      "[0, 1, 2, 3, 4]\n",
      "('Mando', 3, 'Grogu', 6, 'etc')\n"
     ]
    }
   ],
   "source": [
    "# On peut créer des listes de deux manières différentes\n",
    "\n",
    "# Primo de manière explicite avec les crochets\n",
    "uneListe1 = [\"yoda\",\"luke\",\"indy\",\"salah\"]\n",
    "print(uneListe1)\n",
    "\n",
    "# Secundo, en créant une liste vide via un constructeur\n",
    "# qui sera remplie programmatiquement\n",
    "uneListe2 = list()\n",
    "for i in range(5):\n",
    "    # Remarquez la fonction append qui s'applique à une liste\n",
    "    uneListe2.append(i)\n",
    "print(uneListe2)\n",
    "\n",
    "# Créons un tuple\n",
    "unTuple1 = ('Mando',3,'Grogu',6,'etc')\n",
    "print(unTuple1)\n",
    "\n",
    "# Erreur! Retirer le # pour tester\n",
    "# Comme uneListe1 est modifiable, on ne peut ajouter un object immuable\n",
    "#print(uneListe1 + unTuple1)"
   ]
  },
  {
   "cell_type": "markdown",
   "id": "4378e04a-54e7-4541-94d6-e23dc59f1c10",
   "metadata": {},
   "source": [
    "### Comment accéder au contenu d'une liste ou d'un tuple?\n",
    "\n",
    "Il y a différentes façons d'obtenir les éléments d'une liste ou d'un tuple:\n",
    "\n",
    "- Par position ordinale, en spécifiant l'index d'un objet ou un intervalle d'index\n",
    "  - Rappel: comme dans tout language, on part de 0 (zéro) et non de 1...\n",
    "  - Si on utilise des valeurs négatives, on part de la fin plutôt que du début :-)\n",
    "  - Un intervalle s'écrit [i:j] où i est l'index de premier item et j est l'index de l'item APRÈS le dernier item souhaité \n",
    "- En utilisant l'itérateur implicitement créé lorsque la variable à été créée. "
   ]
  },
  {
   "cell_type": "code",
   "execution_count": 10,
   "id": "4888023c-eb4d-4221-a927-dd79c3f08a70",
   "metadata": {
    "tags": []
   },
   "outputs": [
    {
     "name": "stdout",
     "output_type": "stream",
     "text": [
      "En partant du début: indy\n",
      "['yoda', 'luke']\n",
      "En partant de la fin: indy\n",
      "Iterations sur la liste uneListe1\n",
      "yoda\n",
      "luke\n",
      "indy\n",
      "salah\n"
     ]
    }
   ],
   "source": [
    "# Spécifions un index\n",
    "print(\"En partant du début: \"+uneListe1[2])\n",
    "\n",
    "# Spécifions un intervalle\n",
    "# qui est une autre liste :-)\n",
    "print(uneListe1[0:2])\n",
    "\n",
    "# Valeurs négatives\n",
    "#\n",
    "print(\"En partant de la fin: \"+uneListe1[-2])\n",
    "\n",
    "# Utilison l'itérateur qui parcourera\n",
    "# la liste du début jusqu'à la fin\n",
    "print(\"Iterations sur la liste uneListe1\")\n",
    "for i in uneListe1:\n",
    "    print(i)"
   ]
  },
  {
   "cell_type": "markdown",
   "id": "f2eb1693-5dd5-4455-92de-4072680b3a06",
   "metadata": {},
   "source": [
    "### Comment changer (addition / délétion) le contenu d'une liste?\n",
    "\n",
    "Très simplement! \n",
    "\n",
    "- En changeant spécifiquement un item via son index;\n",
    "- En insérant ou ajoutant un élément via diverses fonctions de liste.\n",
    "  "
   ]
  },
  {
   "cell_type": "code",
   "execution_count": 11,
   "id": "c29c566b-59cc-4824-b70b-17465bbed363",
   "metadata": {
    "tags": []
   },
   "outputs": [
    {
     "name": "stdout",
     "output_type": "stream",
     "text": [
      "['ben kenobi', 'luke', 'indy', 'salah']\n"
     ]
    }
   ],
   "source": [
    "# Changeons yoda pour ben kenobi\n",
    "uneListe1[0] = \"ben kenobi\"\n",
    "print(uneListe1)"
   ]
  },
  {
   "cell_type": "code",
   "execution_count": 12,
   "id": "0612fd42-43cf-496d-9b32-945207089d18",
   "metadata": {
    "tags": []
   },
   "outputs": [
    {
     "name": "stdout",
     "output_type": "stream",
     "text": [
      "['ben kenobi', 'luke', 'leia', 'indy', 'salah']\n"
     ]
    }
   ],
   "source": [
    "# Insérons maintenant leia entre luke et indy\n",
    "uneListe1.insert(2,\"leia\")\n",
    "print(uneListe1)"
   ]
  },
  {
   "cell_type": "code",
   "execution_count": 11,
   "id": "d5e257a3-a4e4-4330-83d8-e29e333bc54d",
   "metadata": {
    "tags": []
   },
   "outputs": [
    {
     "name": "stdout",
     "output_type": "stream",
     "text": [
      "['ben kenobi', 'luke', 'leaia', 'indy', 'salah', 'vader', 'maul']\n"
     ]
    }
   ],
   "source": [
    "# Ajoutons deux items à cette liste\n",
    "# avec append(). Ils seront insérés à la fin \n",
    "uneListe1.append(\"vader\")\n",
    "uneListe1.append(\"maul\")\n",
    "print(uneListe1)"
   ]
  },
  {
   "cell_type": "code",
   "execution_count": 12,
   "id": "65259b37-4c17-4351-b861-296217efb0ba",
   "metadata": {
    "tags": []
   },
   "outputs": [
    {
     "name": "stdout",
     "output_type": "stream",
     "text": [
      "['luke', 'leaia', 'indy', 'salah', 'maul']\n"
     ]
    }
   ],
   "source": [
    "# Pour enlever un item de la liste, deux\n",
    "# façons\n",
    "\n",
    "# Spécifiquement si on le connais avec remove()\n",
    "uneListe1.remove(\"vader\")\n",
    "\n",
    "# Ou bien via son index avec pop()\n",
    "uneListe1.pop(0)\n",
    "\n",
    "print(uneListe1)"
   ]
  },
  {
   "cell_type": "markdown",
   "id": "dbc776cd-cfd6-4290-92a8-bcb40d39e095",
   "metadata": {},
   "source": [
    "### Comment cloner/copier des listes?\n",
    "Encore très simplement! Mais il faut être prudent...</p>"
   ]
  },
  {
   "cell_type": "code",
   "execution_count": 2,
   "id": "bcab3db6-ee85-4627-98e8-a02d03fd9d0b",
   "metadata": {
    "tags": []
   },
   "outputs": [
    {
     "name": "stdout",
     "output_type": "stream",
     "text": [
      "['yoda', 'luke', 'indy', 'salah']\n",
      "['yoda', 'luke', 'indy']\n",
      "['yoda', 'luke', 'indy']\n"
     ]
    }
   ],
   "source": [
    "# Une simple liste :-)\n",
    "uneListe1 = [\"yoda\",\"luke\",\"indy\",\"salah\"]\n",
    "print(uneListe1)\n",
    "# Imaginons que nous voulons cloner uneListe1\n",
    "# par une égalité...\n",
    "uneListe2 = uneListe1\n",
    "\n",
    "# Retirons le dernier élément de uneListe1\n",
    "uneListe1.pop()\n",
    "\n",
    "# On constate que le contenu de uneListe2 est attaché  \n",
    "# au contenu de uneListe1... Il n'y a qu'un seul contenu\n",
    "print(uneListe1)\n",
    "print(uneListe2)"
   ]
  },
  {
   "cell_type": "code",
   "execution_count": 1,
   "id": "c5eff98d-4d07-401e-811a-d028b92e273e",
   "metadata": {
    "tags": []
   },
   "outputs": [
    {
     "name": "stdout",
     "output_type": "stream",
     "text": [
      "[0, 1, 2, 3, 4]\n",
      "[0, 1, 2, 3, 4, 5]\n",
      "[0, 1, 2, 3, 4]\n",
      "[0, 1, 2, 3, 4, 5]\n"
     ]
    }
   ],
   "source": [
    "# La fonction copy() sur une liste nous donnera une vraie copie\n",
    "# indépendante\n",
    "# Créons une liste\n",
    "uneListe1 = [0,1,2,3,4]\n",
    "print(uneListe1)\n",
    "uneListe1.append(5)\n",
    "\n",
    "# On vérifie le résultat de la fonction append()\n",
    "print(uneListe1)\n",
    "\n",
    "# On fait la copie\n",
    "uneListe2 = uneListe1.copy()\n",
    "\n",
    "# On retire la derniere valeur de uneListe2\n",
    "# pop() sans index retire le dernier élément de la liste\n",
    "uneListe1.pop()\n",
    "\n",
    "# On vérifie le résultat de la fonction pop()\n",
    "print(uneListe1)\n",
    "\n",
    "# uneListe2 est vraiment une copie intacte\n",
    "print(uneListe2)"
   ]
  },
  {
   "cell_type": "markdown",
   "id": "e8c4ef4e-b90c-441f-8cb3-001277ddb504",
   "metadata": {},
   "source": [
    "### Comment fusionner deux listes?\n",
    "\n",
    "Encore très simplement!\n"
   ]
  },
  {
   "cell_type": "code",
   "execution_count": 19,
   "id": "7375453f-4dd8-4eec-88bf-3dadf5e725b8",
   "metadata": {
    "tags": []
   },
   "outputs": [
    {
     "name": "stdout",
     "output_type": "stream",
     "text": [
      "['yoda', 'luke', 'indy', 'salah', 'mando', 'grogu', 0, 100]\n",
      "['yoda', 'luke', 'indy', 'salah', 'ahsoka', 'sabine', 'ezra', 'kanan']\n"
     ]
    }
   ],
   "source": [
    "uneListe1 = [\"yoda\",\"luke\",\"indy\",\"salah\"]\n",
    "uneListe2 = [\"mando\",\"grogu\",0,100]\n",
    "uneListe3 = [\"ahsoka\",\"sabine\",\"ezra\",\"kanan\"]\n",
    "#\n",
    "# Pour fusionner deux listes, deux méthodes:\n",
    "# Simplement par concaténation\n",
    "#\n",
    "uneListe4 = uneListe1+uneListe2\n",
    "print(uneListe4)\n",
    "#\n",
    "# Ou avec la méthode extend()\n",
    "# Allongée du contenu de uneListe3\n",
    "#\n",
    "uneListe1.extend(uneListe3)\n",
    "print(uneListe1)"
   ]
  },
  {
   "cell_type": "code",
   "execution_count": null,
   "id": "d2f97454-59db-40a4-915a-882721430d0c",
   "metadata": {},
   "outputs": [],
   "source": []
  }
 ],
 "metadata": {
  "kernelspec": {
   "display_name": "Python 3 (ipykernel)",
   "language": "python",
   "name": "python3"
  },
  "language_info": {
   "codemirror_mode": {
    "name": "ipython",
    "version": 3
   },
   "file_extension": ".py",
   "mimetype": "text/x-python",
   "name": "python",
   "nbconvert_exporter": "python",
   "pygments_lexer": "ipython3",
   "version": "3.12.2"
  }
 },
 "nbformat": 4,
 "nbformat_minor": 5
}
