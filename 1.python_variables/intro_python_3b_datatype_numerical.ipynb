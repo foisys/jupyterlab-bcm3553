{
 "cells": [
  {
   "cell_type": "markdown",
   "id": "bc454190-07a8-412c-be7b-bb3d3cee45ff",
   "metadata": {},
   "source": [
    "# Python pour biochimistes: comment travailler avec les variables numériques\n",
    "\n",
    "## Types de valeurs numériques\n",
    "\n",
    "Dans plusieurs languages de programmation, une variable numérique doit être construite en tenant compte de certaines caractéristiques; par exemple, est-ce un nombre entier ou réel. De la même manière, il faut parfois préciser les balises extrèmes; par exemple, en Java, une valeur réelle peut être de type `float` ou de type `double`, la différence étant que le premier (32 bits) est moins grand que le deuxième (64 bits) et occupe donc moins de place en mémoire. En Python, il n'existe que des valeurs, entières ou réelles, à 64 bits. Ceci étant dit, est-il possible de convertir l'un en l'autre ou vice versa? Sans problème: via la notion de conversion explicite (*type casting* en langue de Shakespeare). Exceptionnellement en Python, il existe une troisième type, `complex`, qui représente les nombres complexes (duh!). Pour ce type de nombre, aucune conversion n'est possible.\n",
    "\n",
    "Exemples:"
   ]
  },
  {
   "cell_type": "code",
   "execution_count": 5,
   "id": "dbe36070-a454-47e3-884e-5d1492455eda",
   "metadata": {
    "tags": []
   },
   "outputs": [
    {
     "name": "stdout",
     "output_type": "stream",
     "text": [
      "<class 'int'>\n",
      "5\n",
      "<class 'float'>\n",
      "3.1416\n"
     ]
    }
   ],
   "source": [
    "i = 5\n",
    "j = 3.141592653589793238\n",
    "print(type(i))\n",
    "print(i)\n",
    "print(type(j))\n",
    "print(j)"
   ]
  },
  {
   "cell_type": "code",
   "execution_count": 8,
   "id": "67e1c0d4-c9fe-470e-9974-f97de3bbf09a",
   "metadata": {
    "tags": []
   },
   "outputs": [
    {
     "name": "stdout",
     "output_type": "stream",
     "text": [
      "5.0\n",
      "3\n"
     ]
    }
   ],
   "source": [
    "#\n",
    "# Exemples et effets de la conversion\n",
    "#\n",
    "print(float(i)) # Remarquez l'ajout du zéro pour représenter une valeur réelle\n",
    "print(int(j)) # Remarquez la troncation à la seule valeur entière"
   ]
  },
  {
   "cell_type": "code",
   "execution_count": 18,
   "id": "ab9d926a-9f69-47fb-a9f9-7938a6ad2581",
   "metadata": {
    "tags": []
   },
   "outputs": [
    {
     "name": "stdout",
     "output_type": "stream",
     "text": [
      "<class 'float'>\n",
      "3.1416\n",
      "<class 'str'>\n",
      "3.141593\n"
     ]
    }
   ],
   "source": [
    "# Si vous voulez limiter la précision d'uen valeur réelle\n",
    "# utiliser la fonction round()\n",
    "# Ici, k demeure uen valeur réelle\n",
    "j = 3.141592653589793238\n",
    "k = round(j,4)\n",
    "#\n",
    "print(type(k))\n",
    "print(k)\n",
    "# Une autre méthode est l'utilisation de la méthode format() sur la sortie\n",
    "# Dans ce cas, m deviendra une chaine de caractères\n",
    "m = format(j,\".6f\")\n",
    "#\n",
    "print(type(m))\n",
    "print(m)"
   ]
  },
  {
   "cell_type": "markdown",
   "id": "5b45c446-58c2-4da8-af40-346868528525",
   "metadata": {},
   "source": [
    "## Opérations possibles sur des variables numériques\n",
    "\n",
    "Il est évidemment possible de faire toute une variété d'opérations sur des variables numériques :-) Les plus utilisées sont les opérations arithmétiques et les opérations de comparaison/logique.\n",
    "\n",
    "Une opération arithmétique est très simple:\n",
    "\n"
   ]
  },
  {
   "cell_type": "code",
   "execution_count": 3,
   "id": "7f963dda-b7e7-45e3-b233-07474ef03dc2",
   "metadata": {
    "tags": []
   },
   "outputs": [
    {
     "name": "stdout",
     "output_type": "stream",
     "text": [
      "8\n",
      "2\n",
      "15\n",
      "1.6666666666666667\n",
      "1.67\n",
      "2\n",
      "125\n"
     ]
    }
   ],
   "source": [
    "#\n",
    "# Définissons deux variables\n",
    "#\n",
    "i = 5\n",
    "j = 3\n",
    "#\n",
    "# Addition\n",
    "#\n",
    "k = i + j\n",
    "print(k)\n",
    "#\n",
    "# Soustraction\n",
    "#\n",
    "k = i - j\n",
    "print(k)\n",
    "#\n",
    "# Multiplication\n",
    "#\n",
    "k = i * j\n",
    "print(k)\n",
    "#\n",
    "# Division\n",
    "#\n",
    "k = i / j\n",
    "print(k)\n",
    "#\n",
    "# Division avec formatage du nombre\n",
    "# de décimales\n",
    "#\n",
    "k = \"{:.2f}\".format(k)\n",
    "print(k)\n",
    "#\n",
    "# Modulo (reste d'une division)\n",
    "#\n",
    "k = i % j\n",
    "print(k)\n",
    "#\n",
    "# Puissance\n",
    "#\n",
    "k = i ** j\n",
    "print(k)"
   ]
  },
  {
   "cell_type": "markdown",
   "id": "4119faae-b225-42b0-ae97-db0a91a6b5cc",
   "metadata": {},
   "source": [
    "Une extension des ces opérations sont les opérations d'incrémentation (très utiles pour la création de compteurs):"
   ]
  },
  {
   "cell_type": "code",
   "execution_count": 38,
   "id": "87e30fc5-4474-4cdd-9976-87a8afb437e9",
   "metadata": {
    "tags": []
   },
   "outputs": [
    {
     "name": "stdout",
     "output_type": "stream",
     "text": [
      "4\n",
      "2\n",
      "8\n"
     ]
    }
   ],
   "source": [
    "#\n",
    "# Définissons deux variables\n",
    "#\n",
    "i = 3\n",
    "j = 3\n",
    "#\n",
    "# On prend l'opérateur arithmétique suivi du symbole \"=\"\n",
    "#\n",
    "# Ajouter 1 de la valeur j\n",
    "i += 1\n",
    "print(i)\n",
    "# Soustraire 1 de la valeur j\n",
    "j-=1\n",
    "print(j)\n",
    "# Multiplier i par 2\n",
    "# Remarquez que i = 4 maintenant :-)\n",
    "i*=2\n",
    "print(i)"
   ]
  },
  {
   "cell_type": "markdown",
   "id": "48f9b957-9286-43da-aa41-e13ee7990abb",
   "metadata": {},
   "source": [
    "Une opération logique est essentiellement une comparaison entre deux valeurs. Remarquer que l'égalité demande de mettre \"==\" et non pas seulement \"=\"; si on veut montrer que deux valeurs NE SONT PAS égales, on utilise l'opérateur \"!=\". Une opération logique ne peut retourner que deux valeurs possibles: VRAI (True) ou FAUX (False). Ces opérations sont critiques dans le fonctionnement des boucles d'exécutions (if..., for..., while...)."
   ]
  },
  {
   "cell_type": "code",
   "execution_count": 39,
   "id": "34398751-cfb6-42d6-9a1f-ac8b01e76187",
   "metadata": {
    "tags": []
   },
   "outputs": [
    {
     "name": "stdout",
     "output_type": "stream",
     "text": [
      "False\n",
      "True\n",
      "False\n",
      "True\n",
      "False\n",
      "True\n"
     ]
    }
   ],
   "source": [
    "#\n",
    "# Définissons deux variables\n",
    "#\n",
    "i = 3\n",
    "j = 4\n",
    "print(i == j)\n",
    "print(i < j)\n",
    "print(i > j)\n",
    "print(i <= j)\n",
    "print(i >= j)\n",
    "print(i != j)"
   ]
  }
 ],
 "metadata": {
  "kernelspec": {
   "display_name": "Python 3 (ipykernel)",
   "language": "python",
   "name": "python3"
  },
  "language_info": {
   "codemirror_mode": {
    "name": "ipython",
    "version": 3
   },
   "file_extension": ".py",
   "mimetype": "text/x-python",
   "name": "python",
   "nbconvert_exporter": "python",
   "pygments_lexer": "ipython3",
   "version": "3.12.2"
  }
 },
 "nbformat": 4,
 "nbformat_minor": 5
}
