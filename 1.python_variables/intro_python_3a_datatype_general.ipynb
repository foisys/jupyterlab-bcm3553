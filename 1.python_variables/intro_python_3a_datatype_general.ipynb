{
 "cells": [
  {
   "cell_type": "markdown",
   "id": "bc454190-07a8-412c-be7b-bb3d3cee45ff",
   "metadata": {},
   "source": [
    "# Python pour biochimistes: les variables\n",
    "\n",
    "## Qu'est-ce qu'une variable?\n",
    "\n",
    "En programmation, une variable est un élément stocké en mémoire qui contient une information d'un certain type. On peut faire des opérations sur ces variables pour les modifier, en créer de nouvelles ou les utiliser pour faire un certain traitement. Contrairement à d'autres languages de programmation, une variable dans un script Python n'a pas besoin d'être déclarée d'avance, pas plus qu'il n'est nécessaire de déclare son type.\n",
    "\n",
    "Par exemple:"
   ]
  },
  {
   "cell_type": "code",
   "execution_count": 1,
   "id": "fe0b875d-1523-4771-af0e-80b06cba09dd",
   "metadata": {
    "tags": []
   },
   "outputs": [
    {
     "name": "stdout",
     "output_type": "stream",
     "text": [
      "1\n",
      "1\n"
     ]
    }
   ],
   "source": [
    "#\n",
    "#\n",
    "#\n",
    "i = 1\n",
    "# Vous pouvez utiliser les guillements simples ou doubles\n",
    "j = '1' \n",
    "print(i)\n",
    "print(j)"
   ]
  },
  {
   "cell_type": "markdown",
   "id": "5622d59f-f545-461e-b4d4-058e6f19b150",
   "metadata": {},
   "source": [
    "Des points importants à observer... Primo, même si on voit que 1 et '1' représentent la même chose, Python les traite différemment."
   ]
  },
  {
   "cell_type": "code",
   "execution_count": 2,
   "id": "09db02b9-2d88-4e1b-b0b4-890658078344",
   "metadata": {
    "tags": []
   },
   "outputs": [
    {
     "ename": "TypeError",
     "evalue": "unsupported operand type(s) for +: 'int' and 'str'",
     "output_type": "error",
     "traceback": [
      "\u001b[0;31m---------------------------------------------------------------------------\u001b[0m",
      "\u001b[0;31mTypeError\u001b[0m                                 Traceback (most recent call last)",
      "Cell \u001b[0;32mIn[2], line 8\u001b[0m\n\u001b[1;32m      6\u001b[0m j \u001b[38;5;241m=\u001b[39m \u001b[38;5;124m'\u001b[39m\u001b[38;5;124m1\u001b[39m\u001b[38;5;124m'\u001b[39m \n\u001b[1;32m      7\u001b[0m \u001b[38;5;66;03m# Cette ligne ne donnera pas 2 mais une erreur\u001b[39;00m\n\u001b[0;32m----> 8\u001b[0m k\u001b[38;5;241m=\u001b[39m \u001b[43mi\u001b[49m\u001b[38;5;241;43m+\u001b[39;49m\u001b[43mj\u001b[49m\n\u001b[1;32m      9\u001b[0m \u001b[38;5;28mprint\u001b[39m(k)\n",
      "\u001b[0;31mTypeError\u001b[0m: unsupported operand type(s) for +: 'int' and 'str'"
     ]
    }
   ],
   "source": [
    "#\n",
    "# Assignons des variables\n",
    "#\n",
    "i = 1\n",
    "# Vous pouvez utiliser les guillements simples ou doubles\n",
    "j = '1' \n",
    "# Cette ligne ne donnera pas 2 mais une erreur\n",
    "k= i+j\n",
    "print(k)"
   ]
  },
  {
   "cell_type": "markdown",
   "id": "fa7548f9-6834-4b0f-8dbd-4cdc2e69defe",
   "metadata": {},
   "source": [
    "Secundo, à tout moment, une variable peut changer de type:"
   ]
  },
  {
   "cell_type": "code",
   "execution_count": 1,
   "id": "77006f3d-d2b7-42c8-9e70-f091940fbcb9",
   "metadata": {
    "tags": []
   },
   "outputs": [
    {
     "name": "stdout",
     "output_type": "stream",
     "text": [
      "4\n"
     ]
    }
   ],
   "source": [
    "#\n",
    "# Assignons des variables\n",
    "#\n",
    "i = 1\n",
    "# Vous pouvez utiliser les guillements simples ou doubles\n",
    "j = '3' \n",
    "# On transforme la nature de j\n",
    "# Un peu risqué quand même...\n",
    "j = int(j)\n",
    "# Donc, nous aurons 2 comme résultat\n",
    "k= i+j\n",
    "print(k)"
   ]
  },
  {
   "cell_type": "markdown",
   "id": "51c9388a-bed2-4b6c-9e1d-0b206237e5e4",
   "metadata": {},
   "source": [
    "Tertio, sans changer la valeur, on peut en changer le type; remarquez que l'\"addition\" de deux chaines de caractères est en fait une concaténation de ces deux chaines."
   ]
  },
  {
   "cell_type": "code",
   "execution_count": 4,
   "id": "ad9e4788-c00a-4bb8-af04-f400c403821c",
   "metadata": {
    "tags": []
   },
   "outputs": [
    {
     "name": "stdout",
     "output_type": "stream",
     "text": [
      "11\n"
     ]
    }
   ],
   "source": [
    "#\n",
    "# Assignons des variables\n",
    "#\n",
    "i = 1\n",
    "# Vous pouvez utiliser les guillements simples ou doubles\n",
    "j = '1' \n",
    "# On force i à devenir une chaine de caractères via l'assignation str()\n",
    "i = str(i)\n",
    "# Donc, nous n'aurons pas 2 comme résultat\n",
    "k= i+j\n",
    "print(k)"
   ]
  }
 ],
 "metadata": {
  "kernelspec": {
   "display_name": "Python 3 (ipykernel)",
   "language": "python",
   "name": "python3"
  },
  "language_info": {
   "codemirror_mode": {
    "name": "ipython",
    "version": 3
   },
   "file_extension": ".py",
   "mimetype": "text/x-python",
   "name": "python",
   "nbconvert_exporter": "python",
   "pygments_lexer": "ipython3",
   "version": "3.12.2"
  }
 },
 "nbformat": 4,
 "nbformat_minor": 5
}
