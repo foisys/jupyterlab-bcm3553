{
 "cells": [
  {
   "cell_type": "markdown",
   "id": "873b3cf1-1bcb-43ba-9c64-6e6640249568",
   "metadata": {
    "tags": []
   },
   "source": [
    "# Python pour biochimistes: bien écrire votre code\n",
    "\n",
    "## Introduction\n",
    "\n",
    "Écrire un script Python est aussi facile que d'écrire un fichier texte; vous pourriez le faire dans NotePad ou autre (SVP, pas dans Word!!!!!). Il faut cependant faire attention à certains détails...\n",
    "\n",
    "Primo, un script contiendra plusieurs items, réparti sur plusieurs lignes. Comment Python interprète vos instructions? Dans une majorité de languages, les blocs d'instructions sont séparés par des caractères spéciaux, tel que les accolades ('{' ou '}'). Python fonctionne différemment: on utilisera plutôt des indentations, c'est-à-dire des espaces qui séparerons les blocs.\n",
    "\n",
    "Note: l'indentation par défaut de Jupyter est de 4 espaces.\n",
    "\n",
    "## Comment bien faire les indentations\n",
    "\n",
    "Un exemple: "
   ]
  },
  {
   "cell_type": "code",
   "execution_count": 2,
   "id": "f56b6ddf-1df3-49b2-8574-05a109264c81",
   "metadata": {
    "tags": []
   },
   "outputs": [
    {
     "name": "stdout",
     "output_type": "stream",
     "text": [
      "Boucle 0\n",
      "Valeur de la boucle 0: 10\n",
      "Boucle 1\n",
      "Valeur de la boucle 1: 11\n",
      "Boucle 2\n",
      "Valeur de la boucle 2: 12\n",
      "Boucle 3\n",
      "Valeur de la boucle 3: 13\n",
      "Boucle 4\n",
      "Valeur de la boucle 4: 14\n",
      "Terminé!\n"
     ]
    }
   ],
   "source": [
    "#\n",
    "# La fonction range() permet de créer une itération, entre 0 et 5\n",
    "# dans notre cas\n",
    "#\n",
    "for i in range(5):\n",
    "    # Python est un peu bizarre dans sa \n",
    "    # façon de convertir ou pas les types...\n",
    "    # Ici, {} sera remplacé par la valeur de i\n",
    "    # print(\"Boucle \"+str(i)) fonctionnerait aussi :-)\n",
    "    print(\"Boucle {}\".format(i))\n",
    "    j = i+10\n",
    "    # Si on a plusieurs {}, l'ordre se fera selon la position\n",
    "    # dans la méthode format()\n",
    "    print(\"Valeur de la boucle {}: {}\".format(i,j))\n",
    "print(\"Terminé!\")    "
   ]
  },
  {
   "cell_type": "markdown",
   "id": "25359231-5bc0-459a-814a-029365e5cd7c",
   "metadata": {},
   "source": [
    "## Quand ça ne fonctionne pas...\n",
    "\n",
    "Que se passe-t-il si on n'a pas la bonne indentation? Ajoutons une indentation à notre 2ème ligne print() et un message d'erreur va être envoyé.\n",
    "\n",
    "Exemple:"
   ]
  },
  {
   "cell_type": "code",
   "execution_count": 2,
   "id": "380d1f26-65ca-46ee-8ace-555614215a3e",
   "metadata": {
    "tags": []
   },
   "outputs": [
    {
     "ename": "IndentationError",
     "evalue": "unexpected indent (2065149803.py, line 4)",
     "output_type": "error",
     "traceback": [
      "\u001b[0;36m  Cell \u001b[0;32mIn[2], line 4\u001b[0;36m\u001b[0m\n\u001b[0;31m    print(\"Valeur: \"+str(j))\u001b[0m\n\u001b[0m    ^\u001b[0m\n\u001b[0;31mIndentationError\u001b[0m\u001b[0;31m:\u001b[0m unexpected indent\n"
     ]
    }
   ],
   "source": [
    "for i in range(6):\n",
    "    print(\"Boucle \"+ str(i))\n",
    "    j = i+10\n",
    "        print(\"Valeur: \"+str(j))\n"
   ]
  },
  {
   "cell_type": "markdown",
   "id": "8938855b-2b7f-45d8-a262-f76788b8d752",
   "metadata": {},
   "source": [
    "Remarquez que la ligne \"Terminé!\" ne s'affiche que lorsque les instructions de la boucle for, qui ont la même indentation, ont été exécutées.  Plus d'informations sur les boucles à venir 😃\n",
    "\n",
    "## Comment bien faire les commentaires\n",
    "\n",
    "Une bonne pratique est l'utilisation de commentaires, expliquant le fonctionnement de votre code. Pourquoi? Deux raisons basées sur mon expérience:\n",
    "<ul>\n",
    "\n",
    "<li>Vous écrivez du code maintenant et vous y reviendrez probablement dans un mois ou un an... Pourquoi avez-vous fait ce que vous avez fait? Assez fréquemment, un élément de code aura demander de passer du temps pour chercher une solution alors pourquoi recréer la roue à chaque fois?</li>\n",
    "\n",
    "<li>Vous avez un code écrit par quelqu'un d'autre et la personne avant n'a pas mis de commentaires... Pourquoi le code fonctionne et surtout ne fonctionne plus?</li>\n",
    "</ul>\n",
    "\n",
    "Dans Python, on peut faire ça de deux manières différentes:"
   ]
  },
  {
   "cell_type": "code",
   "execution_count": 5,
   "id": "9bcd7957-bf18-4bef-beda-f2a961239bc3",
   "metadata": {
    "tags": []
   },
   "outputs": [
    {
     "name": "stdout",
     "output_type": "stream",
     "text": [
      "1ère ligne\n",
      "2ème ligne\n"
     ]
    }
   ],
   "source": [
    "#\n",
    "# Première manière: utilisation du caractère # devant une chaine de caractères\n",
    "# par ex, au début de chaque ligne...\n",
    "#\n",
    "print(\"1ère ligne\") # ... Ou bien à la fin d'une ligne :-)\n",
    "\n",
    "\"\"\"\n",
    "Deuxième manière: en utilisant trois double guillemets en début et à la fin pour\n",
    "définir un bloc en entier\n",
    "\"\"\"\n",
    "print(\"2ème ligne\")"
   ]
  },
  {
   "cell_type": "markdown",
   "id": "05b6bb51-1729-4434-aa78-eaa9da89c6f3",
   "metadata": {},
   "source": [
    "## Comment créer des blocs de code réutilisables?\n",
    "\n",
    "Il est très pratique de \"briser\" son script en blocs modulaires: les <i>fonctions</i>. Comment faire? En utilisant le mot magique <b>def</b>. On peut écrire une fonction dans n'importe quelle portion du script à une condition: la fonction doit toujours précédée l'invocation de la fonction."
   ]
  },
  {
   "cell_type": "code",
   "execution_count": 1,
   "id": "c9c08a41-7a45-43cb-9703-bb44af547bce",
   "metadata": {
    "tags": []
   },
   "outputs": [
    {
     "name": "stdout",
     "output_type": "stream",
     "text": [
      "Valeur en parametre:10\n"
     ]
    }
   ],
   "source": [
    "# Ça, ça marche\n",
    "def uneFonction(i):\n",
    "    print(\"Valeur en parametre:\"+str(i))\n",
    "\n",
    "k = 10\n",
    "uneFonction(k)"
   ]
  },
  {
   "cell_type": "code",
   "execution_count": 4,
   "id": "56c050d7-040e-404c-8fcd-0dbdd5fe37b4",
   "metadata": {
    "tags": []
   },
   "outputs": [
    {
     "ename": "NameError",
     "evalue": "name 'uneFonction2' is not defined",
     "output_type": "error",
     "traceback": [
      "\u001b[0;31m---------------------------------------------------------------------------\u001b[0m",
      "\u001b[0;31mNameError\u001b[0m                                 Traceback (most recent call last)",
      "Cell \u001b[0;32mIn[4], line 3\u001b[0m\n\u001b[1;32m      1\u001b[0m \u001b[38;5;66;03m# Ça, ça marche pas\u001b[39;00m\n\u001b[1;32m      2\u001b[0m k \u001b[38;5;241m=\u001b[39m \u001b[38;5;241m11\u001b[39m\n\u001b[0;32m----> 3\u001b[0m \u001b[43muneFonction2\u001b[49m(k)\n\u001b[1;32m      5\u001b[0m \u001b[38;5;28;01mdef\u001b[39;00m \u001b[38;5;21muneFonction2\u001b[39m(i):\n\u001b[1;32m      6\u001b[0m     \u001b[38;5;28mprint\u001b[39m(\u001b[38;5;124m\"\u001b[39m\u001b[38;5;124mValeur en parametre:\u001b[39m\u001b[38;5;124m\"\u001b[39m\u001b[38;5;241m+\u001b[39m\u001b[38;5;28mstr\u001b[39m(i))\n",
      "\u001b[0;31mNameError\u001b[0m: name 'uneFonction2' is not defined"
     ]
    }
   ],
   "source": [
    "# Ça, ça marche pas\n",
    "k = 11\n",
    "uneFonction2(k)\n",
    "\n",
    "def uneFonction2(i):\n",
    "    print(\"Valeur en parametre:\"+str(i))\n"
   ]
  },
  {
   "cell_type": "markdown",
   "id": "cc38f54b-b0d6-42ac-ad03-9479bcd11499",
   "metadata": {},
   "source": [
    "## Comment utiliser des modules apportant de nouvelles fonctions dans votre script?\n",
    "\n",
    "Est-il nécessaire d'écrire à nouveau des traitements d'informations qui ont été faits ad nauseaum? Un tas de gens ont créé un tas de codes réutilisés sous la forme de modules qu'il est facile d'utiliser. La meilleure façcon d'obtenir les caractéristiques de chaque module est de regarder la doc du module!\n",
    "\n",
    "Par exemple: comment avoir la date?"
   ]
  },
  {
   "cell_type": "code",
   "execution_count": 1,
   "id": "0aae2574-e05c-4351-b5d7-b846b1e89aef",
   "metadata": {
    "tags": []
   },
   "outputs": [
    {
     "name": "stdout",
     "output_type": "stream",
     "text": [
      "11 04 2025 - 08:21:25\n"
     ]
    }
   ],
   "source": [
    "from datetime import datetime\n",
    "\n",
    "now = datetime.today()\n",
    "\n",
    "formatted = now.strftime(\"%d %m %Y - %H:%M:%S\")\n",
    "\n",
    "print(formatted)"
   ]
  },
  {
   "cell_type": "code",
   "execution_count": null,
   "id": "872ff536-e60d-4e7f-af4e-b20e95468f10",
   "metadata": {},
   "outputs": [],
   "source": []
  }
 ],
 "metadata": {
  "kernelspec": {
   "display_name": "Python 3 (ipykernel)",
   "language": "python",
   "name": "python3"
  },
  "language_info": {
   "codemirror_mode": {
    "name": "ipython",
    "version": 3
   },
   "file_extension": ".py",
   "mimetype": "text/x-python",
   "name": "python",
   "nbconvert_exporter": "python",
   "pygments_lexer": "ipython3",
   "version": "3.12.1"
  }
 },
 "nbformat": 4,
 "nbformat_minor": 5
}
