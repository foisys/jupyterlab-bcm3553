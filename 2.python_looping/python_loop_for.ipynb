{
 "cells": [
  {
   "cell_type": "markdown",
   "id": "de9de83d-661c-4352-b789-5313abfd475c",
   "metadata": {},
   "source": [
    "# Python pour biochimistes: les boucles\n",
    "\n",
    "## Introduction\n",
    "\n",
    "Les boucles sont des éléments incontornables dans le processus de traitement des données dans le contexte de l'exécution d'un script. Comme tout autre language, Python possède divers mécanismes permettant d'exécuter (ou pas) des tâches:\n",
    "\n",
    "- Les boucles if;\n",
    "- Les boucles for;\n",
    "- Les boucles while.\n",
    "\n",
    "## Les boucles For ... in ...\n",
    "\n",
    "Une autre utilisation des boucles est l'itération sur un ensemble de données qui seront traitées de manière identiques ou différenciées, par exemple: l'écriture d'un rapport. C'est là que la commande for sera très utile; de plus, elle utilise souvent les itérateurs implicites qui se trouvent derrière certains types de variables."
   ]
  },
  {
   "cell_type": "code",
   "execution_count": 9,
   "id": "35f801d2-e75e-4e93-a6fd-c30a47a8c8bc",
   "metadata": {
    "tags": []
   },
   "outputs": [
    {
     "name": "stdout",
     "output_type": "stream",
     "text": [
      "0\n",
      "le nombre i est pair\n",
      "1\n",
      "le nombre i est impair\n",
      "2\n",
      "le nombre i est pair\n",
      "3\n",
      "le nombre i est impair\n",
      "4\n",
      "le nombre i est pair\n",
      "5\n",
      "le nombre i est impair\n",
      "6\n",
      "le nombre i est pair\n",
      "7\n",
      "le nombre i est impair\n",
      "8\n",
      "le nombre i est pair\n"
     ]
    }
   ],
   "source": [
    "#\n",
    "# Prenons un intervalle entre 1 et 9\n",
    "#\n",
    "for i in range(9):\n",
    "    print(i)\n",
    "    if (i%2==0):\n",
    "        print(\"le nombre i est pair\")\n",
    "    else:\n",
    "        print(\"le nombre i est impair\")"
   ]
  },
  {
   "cell_type": "markdown",
   "id": "1a5c7f8d-a683-4039-8c64-183ffb11b167",
   "metadata": {},
   "source": [
    "À tout moment, à l'atteinte d'une certaine condition, une boucle *for*, comme pour une boucle *while*, peut être stoppée grâce à la commande *break*:"
   ]
  },
  {
   "cell_type": "code",
   "execution_count": 12,
   "id": "e1adce87-3181-4d6a-9675-69c1827b14d7",
   "metadata": {
    "tags": []
   },
   "outputs": [
    {
     "name": "stdout",
     "output_type": "stream",
     "text": [
      "0\n",
      "le nombre i est pair\n",
      "1\n",
      "le nombre i est impair\n",
      "2\n",
      "le nombre i est pair\n",
      "3\n",
      "le nombre i est impair\n",
      "4\n",
      "le nombre i est pair\n",
      "5\n",
      "le nombre i est impair\n"
     ]
    }
   ],
   "source": [
    "#\n",
    "# Prenons un intervalle entre 1 et 9\n",
    "#\n",
    "for i in range(9):\n",
    "    if (i > 5):\n",
    "        break \n",
    "    print(i)\n",
    "    if (i%2==0):\n",
    "        print(\"le nombre i est pair\")\n",
    "    else:\n",
    "        print(\"le nombre i est impair\")"
   ]
  },
  {
   "cell_type": "code",
   "execution_count": null,
   "id": "d59d308b-7fc8-438a-a398-0cbc551aaaa4",
   "metadata": {},
   "outputs": [],
   "source": []
  }
 ],
 "metadata": {
  "kernelspec": {
   "display_name": "Python 3 (ipykernel)",
   "language": "python",
   "name": "python3"
  },
  "language_info": {
   "codemirror_mode": {
    "name": "ipython",
    "version": 3
   },
   "file_extension": ".py",
   "mimetype": "text/x-python",
   "name": "python",
   "nbconvert_exporter": "python",
   "pygments_lexer": "ipython3",
   "version": "3.12.1"
  }
 },
 "nbformat": 4,
 "nbformat_minor": 5
}
