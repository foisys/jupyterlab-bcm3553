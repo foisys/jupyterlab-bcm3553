{
 "cells": [
  {
   "cell_type": "markdown",
   "id": "89d3db96-e148-40e2-9178-fa065b515ea5",
   "metadata": {},
   "source": [
    "# Python pour biochimistes: les boucles\n",
    "\n",
    "## Introduction\n",
    "\n",
    "Les boucles sont des éléments incontornables dans le processus de traitement des données dans le contexte de l'exécution d'un script. Comme tout autre language, Python possède divers mécanismes permettant d'exécuter (ou pas) des tâches:\n",
    "\n",
    "- Les boucles if;\n",
    "- Les boucles for;\n",
    "- Les boucles while.\n",
    "\n",
    "## Les boucles While\n",
    "\n",
    "Les boucles while sont un peu l'antithèse des boucles if: tant et aussi longtemps qu'une ocndition est respectée alors exécuter les commandes qui suivent. Comme la plupart du temps, la condition initiale est vraie (true), ça assure que les commandes dans la boucle seront exécutées au moins une fois."
   ]
  },
  {
   "cell_type": "code",
   "execution_count": 8,
   "id": "d2277100-54c5-4f33-921f-f59b19f47272",
   "metadata": {
    "tags": []
   },
   "outputs": [
    {
     "name": "stdout",
     "output_type": "stream",
     "text": [
      "0...1...2...3...4...5\n"
     ]
    }
   ],
   "source": [
    "# Spécifions une variable avec une valeur initiale\n",
    "i = 1\n",
    "message = \"0\"\n",
    "while i < 6:\n",
    "  message = message + \"...\"+str(i)\n",
    "  i += 1\n",
    "print(message)"
   ]
  },
  {
   "cell_type": "markdown",
   "id": "eec3d5fe-dab9-4b11-95ff-35ba5616dd47",
   "metadata": {},
   "source": [
    "À tout moment, à; l'atteinte d'une certaine condition, une boucle *while* peut être stoppée grâce à la commande *break*:"
   ]
  },
  {
   "cell_type": "code",
   "execution_count": 9,
   "id": "f42c2c19-2b08-4fe2-913c-e661ca9b76e8",
   "metadata": {
    "tags": []
   },
   "outputs": [
    {
     "name": "stdout",
     "output_type": "stream",
     "text": [
      "0...1...2...3\n"
     ]
    }
   ],
   "source": [
    "# Spécifions une variable avec une valeur initiale\n",
    "i = 1\n",
    "message = \"0\"\n",
    "while i < 6:\n",
    "#  print(i)\n",
    "  message = message + \"...\"+str(i)\n",
    "  i += 1\n",
    "  if (i > 3):\n",
    "    break\n",
    "print(message)"
   ]
  }
 ],
 "metadata": {
  "kernelspec": {
   "display_name": "Python 3 (ipykernel)",
   "language": "python",
   "name": "python3"
  },
  "language_info": {
   "codemirror_mode": {
    "name": "ipython",
    "version": 3
   },
   "file_extension": ".py",
   "mimetype": "text/x-python",
   "name": "python",
   "nbconvert_exporter": "python",
   "pygments_lexer": "ipython3",
   "version": "3.12.1"
  }
 },
 "nbformat": 4,
 "nbformat_minor": 5
}
