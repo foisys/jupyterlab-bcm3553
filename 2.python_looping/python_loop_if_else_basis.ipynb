{
 "cells": [
  {
   "cell_type": "markdown",
   "id": "bc454190-07a8-412c-be7b-bb3d3cee45ff",
   "metadata": {},
   "source": [
    "# Python pour biochimistes: les boucles\n",
    "\n",
    "## Introduction\n",
    "\n",
    "Les boucles sont des éléments incontornables dans le processus de traitement des données dans le contexte de l'exécution d'un script. Comme tout autre language, Python possède divers mécanismes permettant d'exécuter (ou pas) des tâches:\n",
    "\n",
    "- Les boucles if;\n",
    "- Les boucles for;\n",
    "- Les boucles while.\n",
    "- Les boucles If\n",
    "\n",
    "Très souvent, on devra rendre l'exécution d'une suite d'opérations conditionnelle au respect d'une condition qui sera évaluée sous la forme d'une opération booléenne. Par exemple: si `x > i`, alors on fait quelque chose; si non, on ne fera rien."
   ]
  },
  {
   "cell_type": "code",
   "execution_count": 6,
   "id": "f56b6ddf-1df3-49b2-8574-05a109264c81",
   "metadata": {
    "tags": []
   },
   "outputs": [
    {
     "name": "stdin",
     "output_type": "stream",
     "text": [
      "Entrer un entier i entre 0 et 9 : 3\n"
     ]
    },
    {
     "name": "stdout",
     "output_type": "stream",
     "text": [
      "i est inférieur à 5\n"
     ]
    }
   ],
   "source": [
    "# Méthode interactive\n",
    "# Le script attendra l'entrée faite par l'usager\n",
    "#\n",
    "i = input(\"Entrer un entier i entre 0 et 9 :\")\n",
    "# Pourquoi le typecasting?\n",
    "if (int(i)<5):\n",
    "    print(\"i est inférieur à 5\")\n",
    "\n",
    "# On peut mettre plus de conditions avec les mots clé \"and\" ou \"or\"\n",
    "if (int(i)<5 and int(i)%2 == 0):\n",
    "    print(\"i est inférieur à 5 et est pair\")"
   ]
  },
  {
   "cell_type": "markdown",
   "id": "c29a2a63-d4ee-42a8-89ad-4d0382b5fb6f",
   "metadata": {},
   "source": [
    "## Les boucles If ... Else\n",
    "Ces boucles sont une extension du concept de la boucle conditionnelle *if*: si la condition est respectée, faite A, si non (*else*), faite B."
   ]
  },
  {
   "cell_type": "code",
   "execution_count": 2,
   "id": "87ed0e64-0943-410c-8627-0cbbc8f40a0b",
   "metadata": {},
   "outputs": [
    {
     "name": "stdin",
     "output_type": "stream",
     "text": [
      "Entrer un entier i entre 0 et 9 : 5\n"
     ]
    },
    {
     "name": "stdout",
     "output_type": "stream",
     "text": [
      "i est supérieur ou égal à 5\n"
     ]
    }
   ],
   "source": [
    "# Méthode interactive\n",
    "# Le script attendra l'entrée faite par l'usager\n",
    "#\n",
    "i = input(\"Entrer un entier i entre 0 et 9 :\")\n",
    "# Pourquoi le typecasting?\n",
    "if (int(i)<5):\n",
    "    print(\"i est inférieur à 5\")\n",
    "else:\n",
    "    print(\"i est supérieur ou égal à 5\")"
   ]
  },
  {
   "cell_type": "markdown",
   "id": "12a826ce-9206-46de-b23f-ccaf9d3b4d9f",
   "metadata": {},
   "source": [
    "## Les boucles If...elif...else\n",
    "On peut faire un suite d'évaluations conditionnelles en utilisant la commande *elif*:"
   ]
  },
  {
   "cell_type": "code",
   "execution_count": 4,
   "id": "200b2faf-67ae-45df-84b7-b17b62175608",
   "metadata": {
    "tags": []
   },
   "outputs": [
    {
     "name": "stdin",
     "output_type": "stream",
     "text": [
      "Entrer un entier i entre 0 et 100 : 40\n"
     ]
    },
    {
     "name": "stdout",
     "output_type": "stream",
     "text": [
      "i est inférieur à 50\n"
     ]
    }
   ],
   "source": [
    "# Méthode interactive\n",
    "# Le script attendra l'entrée faite par l'usager\n",
    "#\n",
    "i = input(\"Entrer un entier i entre 0 et 100 :\")\n",
    "# Pourquoi le typecasting?\n",
    "if (int(i)<50):\n",
    "    print(\"i est inférieur à 50\")\n",
    "elif (int(i)<25):\n",
    "    print(\"i est inférieur à 25\")\n",
    "elif (int(i)<12):\n",
    "    print(\"i est inférieur à 12\")\n",
    "else:\n",
    "    print(\"i est supérieur ou égal à 50\")"
   ]
  },
  {
   "cell_type": "markdown",
   "id": "a9299a63-a864-4b3e-aabd-4c549d3e1f51",
   "metadata": {},
   "source": [
    "Pourquoi le *elif* pourrait être utile? Contrairement à C++ ou Java, Python n'a pas de commandes *case* ou *switch*, souvent utilisées pour passer au travers d'une série de conditions lors de l'exécution d'un script. Dans ce contexte, *elif* peut joué ce rôle. Dans certains cas, selon le type de variables à évaluer, on peut profiter d'un itérateur implicit:"
   ]
  },
  {
   "cell_type": "code",
   "execution_count": 1,
   "id": "fd11377c-a86d-43da-8a4b-592501d613e4",
   "metadata": {
    "tags": []
   },
   "outputs": [
    {
     "name": "stdout",
     "output_type": "stream",
     "text": [
      "info -2 n'existe pas\n"
     ]
    }
   ],
   "source": [
    "# Imaginons une variable acquise en amont dans l'éxecution, variable faisant \n",
    "# partie d'une structure de données\n",
    "info = -2\n",
    "\n",
    "if info in [-3,-1,0,2,4,7] :\n",
    "    print ('info', info, 'existe')\n",
    "else :\n",
    "    print ('info', info, \"n'existe pas\")"
   ]
  },
  {
   "cell_type": "code",
   "execution_count": null,
   "id": "5d49989e-17de-4fa6-85ad-84bcaca92ccb",
   "metadata": {},
   "outputs": [],
   "source": []
  }
 ],
 "metadata": {
  "kernelspec": {
   "display_name": "Python 3 (ipykernel)",
   "language": "python",
   "name": "python3"
  },
  "language_info": {
   "codemirror_mode": {
    "name": "ipython",
    "version": 3
   },
   "file_extension": ".py",
   "mimetype": "text/x-python",
   "name": "python",
   "nbconvert_exporter": "python",
   "pygments_lexer": "ipython3",
   "version": "3.12.1"
  }
 },
 "nbformat": 4,
 "nbformat_minor": 5
}
