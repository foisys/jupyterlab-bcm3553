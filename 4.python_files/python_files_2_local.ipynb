{
 "cells": [
  {
   "cell_type": "markdown",
   "id": "0fc2193d-25fb-48d1-82e2-3933dc538080",
   "metadata": {},
   "source": [
    "# Python pour biochimistes: Comment lire, créer et gérer des fichiers (ou des flux de données)\n",
    "\n",
    "La plus grande partie du travail que nous faisons nécessite l'emploi de fichiers: on doit les lire, on doit en écrire, on doit en modifier. Comment faire en Python? Ce n'est pas très compliqué mais avant tout, il faut connaitre quelques rudiments de gestion d'un système de fichiers.\n",
    "\n",
    "## Comment lire un fichier texte simplement? \n",
    "\n",
    "Python possède des modules *built-in* pour ça! On utilise la fonction `open()` contenant en paramétres les informations minimales suivants:\n",
    "\n",
    "- Un nom de fichier contenant le chemin complet (le `path`) pour se rendre et trouver le fichier;\n",
    "- Un opérateur pour dire à `open()` quoi faire avec le reste.\n",
    "\n",
    "Qu'est-ce qu'on obtient en retour? Un objet de type `file` permettant avec des méthodes qui y sont associées, d'en retirer les informations recherchées. \n",
    "\n",
    "Il y a plusieurs opérateurs possibles:\n",
    "\n",
    "- \"r\": *read*, lire (valeur par défaut). Retourne une erreur si le fichier n'existe pas\n",
    "- \"a\": *append*, ajouter de l'information à la fin d'un fichier. Crée le fichier s'il n'existe pas\n",
    "- \"w\": *write*, écrire dans le fichier spécifié. Crée le fichier s'il n'existe pas\n",
    "- \"x\" : *create*, créer le fichier si ce dernier n'existe pas. Retourne une erreur si le fichier existe déjà.\n",
    "- \"b\": retourne un objet binaire parce que le fichier d'origine est binaire (ex. bioinformatique: un fichier de séquenceur en format AB1)\n",
    "- \"t\": retourne un objet textuel (valeur par défaut)"
   ]
  },
  {
   "cell_type": "code",
   "execution_count": 4,
   "id": "c7e77d55-1eca-4a77-a989-84a0bcb731eb",
   "metadata": {
    "tags": []
   },
   "outputs": [
    {
     "name": "stdout",
     "output_type": "stream",
     "text": [
      "<class '_io.TextIOWrapper'>\n"
     ]
    }
   ],
   "source": [
    "aFile = open(\"../z.misc_files/data_seq/h.sapiens.cttn.iso.a.aa.fa\",\"r\")\n",
    "print(type(aFile))"
   ]
  },
  {
   "cell_type": "code",
   "execution_count": 5,
   "id": "8840e50f-6b3a-443d-b701-e6cc593410b3",
   "metadata": {
    "tags": []
   },
   "outputs": [
    {
     "name": "stdout",
     "output_type": "stream",
     "text": [
      ">gi|20357552|ref|NP_005222.2| src substrate cortactin isoform a [Homo sapiens]\n",
      "MWKASAGHAVSIAQDDAGADDWETDPDFVNDVSEKEQRWGAKTVQGSGHQEHINIHKLRENVFQEHQTLK\n",
      "EKELETGPKASHGYGGKFGVEQDRMDKSAVGHEYQSKLSKHCSQVDSVRGFGGKFGVQMDRVDQSAVGFE\n",
      "YQGKTEKHASQKDYSSGFGGKYGVQADRVDKSAVGFDYQGKTEKHESQRDYSKGFGGKYGIDKDKVDKSA\n",
      "VGFEYQGKTEKHESQKDYVKGFGGKFGVQTDRQDKCALGWDHQEKLQLHESQKDYKTGFGGKFGVQSERQ\n",
      "DSAAVGFDYKEKLAKHESQQDYSKGFGGKYGVQKDRMDKNASTFEDVTQVSSAYQKTVPVEAVTSKTSNI\n",
      "RANFENLAKEKEQEDRRKAEAERAQRMAKERQEQEEARRKLEEQARAKTQTPPVSPAPQPTEERLPSSPV\n",
      "YEDAASFKAELSYRGPVSGTEPEPVYSMEAADYREASSQQGLAYATEAVYESAEAPGHYPAEDSTYDEYE\n",
      "NDLGITAVALYDYQAAGDDEISFDPDDIITNIEMIDDGWWRGVCKGRYGLFPANYVELRQ\n",
      "\n",
      "\n"
     ]
    }
   ],
   "source": [
    "# Méthode read()\n",
    "#\n",
    "# la méthode read capture le contenu de l'objet tel quel\n",
    "# en une seule longue chaine de caractères\n",
    "#\n",
    "# Rappel: le retour de chariot, \\n, n'apparait pas mais il\n",
    "# sera interprété comme tel; c'est pour ça que vous avez\n",
    "# plusieurs lignes ;-)\n",
    "aFile = open(\"../z.misc_files/data_seq/h.sapiens.cttn.iso.a.aa.fa\",\"r\")\n",
    "print(aFile.read())"
   ]
  },
  {
   "cell_type": "code",
   "execution_count": 6,
   "id": "cc4ba028-da8a-44ed-9d16-4177d9b9180c",
   "metadata": {
    "tags": []
   },
   "outputs": [
    {
     "name": "stdout",
     "output_type": "stream",
     "text": [
      "10\n",
      "['>gi|20357552|ref|NP_005222.2| src substrate cortactin isoform a [Homo sapiens]\\n', 'MWKASAGHAVSIAQDDAGADDWETDPDFVNDVSEKEQRWGAKTVQGSGHQEHINIHKLRENVFQEHQTLK\\n', 'EKELETGPKASHGYGGKFGVEQDRMDKSAVGHEYQSKLSKHCSQVDSVRGFGGKFGVQMDRVDQSAVGFE\\n', 'YQGKTEKHASQKDYSSGFGGKYGVQADRVDKSAVGFDYQGKTEKHESQRDYSKGFGGKYGIDKDKVDKSA\\n', 'VGFEYQGKTEKHESQKDYVKGFGGKFGVQTDRQDKCALGWDHQEKLQLHESQKDYKTGFGGKFGVQSERQ\\n', 'DSAAVGFDYKEKLAKHESQQDYSKGFGGKYGVQKDRMDKNASTFEDVTQVSSAYQKTVPVEAVTSKTSNI\\n', 'RANFENLAKEKEQEDRRKAEAERAQRMAKERQEQEEARRKLEEQARAKTQTPPVSPAPQPTEERLPSSPV\\n', 'YEDAASFKAELSYRGPVSGTEPEPVYSMEAADYREASSQQGLAYATEAVYESAEAPGHYPAEDSTYDEYE\\n', 'NDLGITAVALYDYQAAGDDEISFDPDDIITNIEMIDDGWWRGVCKGRYGLFPANYVELRQ\\n', '\\n']\n"
     ]
    }
   ],
   "source": [
    "# Méthode readlines()\n",
    "#\n",
    "# On peut extraire toute l'information du fichier d'un trait\n",
    "#\n",
    "aFile = open(\"../z.misc_files/data_seq/h.sapiens.cttn.iso.a.aa.fa\",\"r\")\n",
    "allLines = aFile.readlines()\n",
    "#\n",
    "# Les infos dans allFiles sont maintenant dans une liste\n",
    "# Une ligne par item de la liste\n",
    "# Remarquez que chaque ligne se termine par un retour de chariot, \\n, qui est \n",
    "# une sorte de caractère invisible... En tenir compte est important!!\n",
    "#\n",
    "print(len(allLines))\n",
    "print(allLines)"
   ]
  },
  {
   "cell_type": "markdown",
   "id": "145a59c4-2044-424f-956d-960afc10df59",
   "metadata": {
    "tags": []
   },
   "source": [
    "## Comment accéder à l'information contenue dans l'objet?\n",
    "\n",
    "Si on assume que l'objet contient l'information contenue dans un fichier de type texte (par ex., une séquence en format FASTA ou en Genbank), cette information est en fait une liste alors on y accède de la même manière que n'importe quel item de la liste"
   ]
  },
  {
   "cell_type": "code",
   "execution_count": 16,
   "id": "2ff98b84-f985-4d4b-869a-6de40ea41e85",
   "metadata": {
    "tags": []
   },
   "outputs": [
    {
     "name": "stdout",
     "output_type": "stream",
     "text": [
      ">gi|20357552|ref|NP_005222.2| src substrate cortactin isoform a [Homo sapiens]\n",
      "\n"
     ]
    }
   ],
   "source": [
    "# Méthode par indice\n",
    "#\n",
    "# Pour ensuite n'extraire que les infos nécessaires\n",
    "# Comme readlines() retourne une liste, il suffit de connaitre\n",
    "# l'indice de la ligne voulue dans la liste\n",
    "#\n",
    "print(allLines[0])"
   ]
  },
  {
   "cell_type": "code",
   "execution_count": 7,
   "id": "392a3b69-d5bd-4d43-a9d8-2f418d97af93",
   "metadata": {},
   "outputs": [
    {
     "name": "stdout",
     "output_type": "stream",
     "text": [
      "Longueur en acides amines: 550\n"
     ]
    }
   ],
   "source": [
    "# Méthode par itérateur\n",
    "#\n",
    "# On peut aussi utiliser l'itérateur implicite de l'objet aFile pour analyser le contenu\n",
    "# On se rappelle que \\n est un caractère que nous NE voulons PAS comptés!! Donc on\n",
    "# le remplace par rien.\n",
    "#w\n",
    "aFile = open(\"../z.misc_files/data_seq/h.sapiens.cttn.iso.a.aa.fa\",\"r\")\n",
    "aa = 0\n",
    "for aLine in aFile:\n",
    "    # rappel #1: on a un fichier FASTA, donc on NE veut PAS la 1ere ligne...\n",
    "    # Rappel #2: une variable de type str est en fait une liste\n",
    "    # Rappel #3: on NE veut PAS du caractère invisible \\n\n",
    "    if aLine[0]!='>':\n",
    "        aLine  = aLine.replace('\\n','')\n",
    "        aa = aa + len(aLine)\n",
    "print(\"Longueur en acides amines: \"+str(aa))"
   ]
  },
  {
   "cell_type": "markdown",
   "id": "6b9414c4-5d15-40e1-8e72-4e5b50138253",
   "metadata": {},
   "source": [
    "## Comment écrire dans un fichier?\n",
    "\n",
    "Écrire est aussi facile que de lire mais évidemment il faut faire un peu plus attention à ce que l'on fait... L'opérateur `w` est puissant: si le fichier existe déjà, la version antérieure sera détruite pour y mettre la nouvelle version!!"
   ]
  },
  {
   "cell_type": "code",
   "execution_count": 7,
   "id": "ead1f0c1-847a-4b27-8a07-ad7d3672b3c0",
   "metadata": {
    "tags": []
   },
   "outputs": [],
   "source": [
    "from datetime import datetime\n",
    "#\n",
    "# Créons un pointeur qui s'occupe de la création\n",
    "#\n",
    "aFile  = open(\"../z.misc_files/data_demo/ceciestunexemple.txt\",\"w\")\n",
    "\n",
    "now = datetime.today()\n",
    "formatted = now.strftime(\"%d %m %Y - %H:%M:%S\")\n",
    "aFile.write(formatted)\n",
    "aFile.close()"
   ]
  },
  {
   "cell_type": "code",
   "execution_count": null,
   "id": "32b16896-4c44-4d6b-99c7-be2d1b525493",
   "metadata": {
    "tags": []
   },
   "outputs": [
    {
     "name": "stdout",
     "output_type": "stream",
     "text": [
      "11 02 2025 - 14:17:01\n",
      "\u001b[7m../z.misc_files/data_demo/ceciestunexemple.txt (END)\u001b[m\u001b[K"
     ]
    }
   ],
   "source": [
    "#\n",
    "# Si on va voir le contenu du fichier\n",
    "#\n",
    "!less ../z.misc_files/data_demo/ceciestunexemple.txt"
   ]
  },
  {
   "cell_type": "code",
   "execution_count": null,
   "id": "1acb89df-3b2f-4130-8289-0d2fa3470a79",
   "metadata": {
    "tags": []
   },
   "outputs": [],
   "source": [
    "from datetime import datetime\n",
    "#\n",
    "# Créons un pointeur qui s'occupe de la création\n",
    "#\n",
    "aFile  = open(\"../z.misc_files/data_demo/ceciestunexemple.txt\",\"w\")\n",
    "\n",
    "now = datetime.today()\n",
    "formatted = now.strftime(\"%d %m %Y - %H:%M:%S\")\n",
    "aFile.write(\"Oups...\")\n",
    "aFile.write(formatted)\n",
    "aFile.close()"
   ]
  },
  {
   "cell_type": "code",
   "execution_count": null,
   "id": "aff6ea3d-3e30-43b4-82a7-a1889ac05e85",
   "metadata": {
    "tags": []
   },
   "outputs": [],
   "source": [
    "#\n",
    "# Si on retourne voir le contenu du fichier, on va voir\n",
    "# qu'il ne contient pas la même chose...\n",
    "#\n",
    "!less ../z.misc_files/data_demo/ceciestunexemple.txt"
   ]
  }
 ],
 "metadata": {
  "kernelspec": {
   "display_name": "Python 3 (ipykernel)",
   "language": "python",
   "name": "python3"
  },
  "language_info": {
   "codemirror_mode": {
    "name": "ipython",
    "version": 3
   },
   "file_extension": ".py",
   "mimetype": "text/x-python",
   "name": "python",
   "nbconvert_exporter": "python",
   "pygments_lexer": "ipython3",
   "version": "3.12.1"
  }
 },
 "nbformat": 4,
 "nbformat_minor": 5
}
