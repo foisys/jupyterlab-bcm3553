{
 "cells": [
  {
   "cell_type": "markdown",
   "id": "0fc2193d-25fb-48d1-82e2-3933dc538080",
   "metadata": {
    "tags": []
   },
   "source": [
    "# Python pour biochimistes: Comment lire, créer et gérer des fichiers (ou des flux de données)\n",
    "\n",
    "La plus grande partie du travail que nous faisons nécessite l'emploi de fichiers: on doit les lire, on doit en écrire, on doit en modifier. Comment faire en Python? Ce n'est pas très compliqué mais avant tout, il faut connaitre quelques rudiments de gestion d'un système de fichiers.\n",
    "\n",
    "## Comment utiliser l'Internet pour récupérer des fichiers simplement? \n",
    "\n",
    "Dans l'exemple précédent, on utilise le système de fichiers local, donc pas besoin d'utiliser une connexion externe. Mais très souvent, les infos recherchées sont ailleurs... Ici encore, la notion de permission est importante car évidemment on doit avoir, au minimum, les droits de lecture sur le fichier recherché. On peut s'y prendre de deux manières différentes:\n",
    "\n",
    "- Si le fichier est par exemple un simple fichier texte sur un serveur Web, on peut utiliser le module `requests`;\n",
    "- Si le fichier est sur un service de partage de fichier type SFTP, on peut utiliser le module `paramiko` (https://docs.paramiko.org/en/2.2/index.html ) via le protocole SSH v2. \n",
    "\n",
    "### Méthode *requests*\n",
    "\n",
    "Allons chercher un fichier: la liste des enzymes de restriction avec leur site de coupure. Mais ça ne marchera pas... La compagnie New England BioLab semble avoir rendu le téléchargement direct des données impossible :-( Mais j'ai mis le fichier correspondant ailleurs :-)"
   ]
  },
  {
   "cell_type": "code",
   "execution_count": 6,
   "id": "4416025f-7d5e-48d4-b3aa-d9d8789fe96e",
   "metadata": {
    "tags": []
   },
   "outputs": [],
   "source": [
    "import requests\n",
    "\n",
    "#\n",
    "# Ça pourrait avoir l'air de ça\n",
    "# Mais ça va cassé...\n",
    "#\n",
    "unURL = \"https://rebase.neb.com/rebase/link_striderc\"\n",
    "\n",
    "response = requests.get(unURL)\n",
    "\n",
    "aFile = open(\"../z.misc_files/data_misc/link_strider_from_neb.txt\",\"w\")\n",
    "\n",
    "# On capture ce qui nous revient: une suite de caractères...\n",
    "for aLine in response.text:\n",
    "    # ... qu'on écrit une ligne à la fois dans le fichier\n",
    "    aFile.write(aLine)\n",
    "\n",
    "aFile.close()"
   ]
  },
  {
   "cell_type": "markdown",
   "id": "0b73933e-590b-433e-bbf7-f8b41a0505fe",
   "metadata": {},
   "source": [
    "### Méthode *paramiko*\n",
    "\n",
    "Cette méthode dépend de l'installation du package du même nom:"
   ]
  },
  {
   "cell_type": "code",
   "execution_count": 8,
   "id": "56de02af-5411-42c4-a013-d1c6f56cedc9",
   "metadata": {
    "tags": []
   },
   "outputs": [
    {
     "name": "stdout",
     "output_type": "stream",
     "text": [
      "Requirement already satisfied: paramiko in /Library/Frameworks/Python.framework/Versions/3.12/lib/python3.12/site-packages (3.5.1)\n",
      "Requirement already satisfied: bcrypt>=3.2 in /Library/Frameworks/Python.framework/Versions/3.12/lib/python3.12/site-packages (from paramiko) (4.2.1)\n",
      "Requirement already satisfied: cryptography>=3.3 in /Library/Frameworks/Python.framework/Versions/3.12/lib/python3.12/site-packages (from paramiko) (44.0.1)\n",
      "Requirement already satisfied: pynacl>=1.5 in /Library/Frameworks/Python.framework/Versions/3.12/lib/python3.12/site-packages (from paramiko) (1.5.0)\n",
      "Requirement already satisfied: cffi>=1.12 in /Library/Frameworks/Python.framework/Versions/3.12/lib/python3.12/site-packages (from cryptography>=3.3->paramiko) (1.16.0)\n",
      "Requirement already satisfied: pycparser in /Library/Frameworks/Python.framework/Versions/3.12/lib/python3.12/site-packages (from cffi>=1.12->cryptography>=3.3->paramiko) (2.21)\n",
      "\n",
      "\u001b[1m[\u001b[0m\u001b[34;49mnotice\u001b[0m\u001b[1;39;49m]\u001b[0m\u001b[39;49m A new release of pip is available: \u001b[0m\u001b[31;49m24.3.1\u001b[0m\u001b[39;49m -> \u001b[0m\u001b[32;49m25.0.1\u001b[0m\n",
      "\u001b[1m[\u001b[0m\u001b[34;49mnotice\u001b[0m\u001b[1;39;49m]\u001b[0m\u001b[39;49m To update, run: \u001b[0m\u001b[32;49mpip install --upgrade pip\u001b[0m\n"
     ]
    }
   ],
   "source": [
    "!pip install paramiko"
   ]
  },
  {
   "cell_type": "markdown",
   "id": "bdfb6919-5b62-426c-8eca-07550739c128",
   "metadata": {},
   "source": [
    "Imaginons un serveur (totalement virtuel pour l'exemple) à l'adresse `10.175.49.165`, accessible à l'usager `bioubuntu`, avec le mot de passe identique (pas sécuritaire du tout mais c'est pour l'exemple!!). Dans ce compte usager, nous avons le fichier recherché, appellé `link_strider.txt`. Notre but: le télécharger et le sauvegarder localement dans `z.misc_files/demo_misc`."
   ]
  },
  {
   "cell_type": "code",
   "execution_count": 3,
   "id": "ba488d2d-97a4-4315-8e9d-6a9072a5f992",
   "metadata": {
    "tags": []
   },
   "outputs": [
    {
     "name": "stdout",
     "output_type": "stream",
     "text": [
      "Succes!!\n"
     ]
    }
   ],
   "source": [
    "import paramiko\n",
    "\n",
    "# Variables nécessaires pour la connexion\n",
    "# Evidemment, cet exemple ne fonctionnera que si\n",
    "# les trois lignes suivantes donnent accès à un serveur \n",
    "host = \"10.175.49.165\"\n",
    "user = \"bioubuntu\"\n",
    "passwd = \"bioubuntu\"\n",
    "\n",
    "# Le client SSH est l'outil qui nous permettra d'interagir avec le serveur\n",
    "client_ssh= paramiko.SSHClient()\n",
    "client_ssh.set_missing_host_key_policy(paramiko.AutoAddPolicy())\n",
    "client_ssh.connect(hostname=host, username=user, password=passwd)\n",
    "\n",
    "# Effectuons le telechargement\n",
    "client_sftp = client_ssh.open_sftp()\n",
    "localFile  = \"../z.misc_files/demo_misc/link_strider_remote_cvm.txt\"\n",
    "remoteFile = \"link_strider.txt\"\n",
    "try:\n",
    "  client_sftp.get(remoteFile, localFile)\n",
    "  print(\"Succes!!\")\n",
    "except FileNotFoundError as err:\n",
    "    print(f\"File: {remoteFile} was not found on the source server {self.__host}\")\n",
    "client_sftp.close()"
   ]
  }
 ],
 "metadata": {
  "kernelspec": {
   "display_name": "Python 3 (ipykernel)",
   "language": "python",
   "name": "python3"
  },
  "language_info": {
   "codemirror_mode": {
    "name": "ipython",
    "version": 3
   },
   "file_extension": ".py",
   "mimetype": "text/x-python",
   "name": "python",
   "nbconvert_exporter": "python",
   "pygments_lexer": "ipython3",
   "version": "3.12.1"
  }
 },
 "nbformat": 4,
 "nbformat_minor": 5
}
