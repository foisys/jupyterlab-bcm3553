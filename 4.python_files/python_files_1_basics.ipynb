{
 "cells": [
  {
   "cell_type": "markdown",
   "id": "0fc2193d-25fb-48d1-82e2-3933dc538080",
   "metadata": {},
   "source": [
    "# Python pour biochimistes: Comment lire, créer et gérer des fichiers (ou des flux de données)\n",
    "\n",
    "La plus grande partie du travail que nous faisons nécessite l'emploi de fichiers: on doit les lire, on doit en écrire, on doit en modifier. Comment faire en Python? Ce n'est pas très compliqué mais avant tout, il faut connaitre quelques rudiments de gestion d'un système de fichiers.\n",
    "\n",
    "## Qu'est-ce qu'un système de fichiers?\n",
    "\n",
    "Tous les systèmes en un un et certains (dans l'univers UNIX/Linux) peuvent en avoir plusieurs! C'est essentiellement la portion du système d'opération de l'ordinateur qui gère les éléments d'information contenu sur l'espace de stockage de l'ordinateur. Dans notre cas, le concept le plus important à comprendre est la notion des permissions: qui a le droit de faire quoi sur un ordinateur. Sous Linux, dans sa version la plus simple, chaque usager possède un espace usager (`$HOME`) où il peut faire pas mal tout ce qu'il veut. En plus, chacun fait partie d'un groupe d'usagers pouvant se partager de l'information et tous les usagers de tous les groupes sont aussi regroupés dans la catégorie `other`.\n",
    "\n",
    "Voici un exemple:"
   ]
  },
  {
   "cell_type": "code",
   "execution_count": 1,
   "id": "06e3968d-a2e5-473d-b016-cae28ebcb64f",
   "metadata": {
    "tags": []
   },
   "outputs": [
    {
     "name": "stdout",
     "output_type": "stream",
     "text": [
      "total 104\n",
      "-rw-r--r--  1 foisys  staff   6920 17 déc 14:52 python_files_1_basics.ipynb\n",
      "-rw-r--r--  1 foisys  staff   7956 30 mai  2024 python_files_2_local.ipynb\n",
      "-rw-r--r--  1 foisys  staff   9178 30 mai  2024 python_files_3_internet.ipynb\n",
      "-rw-r--r--  1 foisys  staff   8949 30 mai  2024 python_files_4_demo_SimpleSeqread1.ipynb\n",
      "-rw-r--r--  1 foisys  staff  10533 30 mai  2024 python_files_5_demo_SimpleSeqread2.ipynb\n"
     ]
    }
   ],
   "source": [
    "!ls -l"
   ]
  },
  {
   "cell_type": "markdown",
   "id": "22aea2aa-a1ce-4681-8f70-41d309223978",
   "metadata": {},
   "source": [
    "Vous voyez le groupe de lettres et de tirets sous `total`? Ce sont les permissions pour les fichiers contenus dans le répertoire présent. Donc:\n",
    "\n",
    "- Le premier tiret nous dit que le fichier `python_files_1.ipynb` est un fichier (duh!); si on voyait un `d`, ça nous dirait que ce serait un répertoire (un répertoire est un fait un fichier contenant des pointeurs vers un ensemble de fichiers: son contenu), si on voyait un `l`, ça nous dirait que c'est un lien symbolique (AKA un alias, un raccourci).\n",
    "- Suit ensuite un groupe de 9 symboles, divisé en 3 sous-groupes de 3: ce sont, de la gauche vers la droite, les permissions pour l'usager (groupe 1), le groupe (groupe 2) et tous les autres usagers (groupe 3).\n",
    "- Le reste qui est important est le nom de l'usager (`foisys`) et son groupe (`staff`, par défaut le groupe de tous les usagers dans Mac OS X; pour les autres saveurs de UNIX, c'est selon la version mais ça peut être n'importe quoi selon les spécifications de l'usager `root`).\n",
    "- Les lettres dans chaque groupe représente les permissions de lecture (`r`), d'écriture (`w`) ou d'exécution (`x`); en résumé noter fichier peut être lu et modifié par moi et lu par tous. Si un fichier avait un x comme permission, ça voudrait dire qu'il est exécutable: c'est un programme!"
   ]
  },
  {
   "cell_type": "code",
   "execution_count": 7,
   "id": "3b3d5f77-0645-4d0e-a003-199cda093967",
   "metadata": {
    "tags": []
   },
   "outputs": [
    {
     "name": "stdout",
     "output_type": "stream",
     "text": [
      "total 0\n",
      "-rw-r--r--  1 foisys  staff  0 12 aoû 10:11 yoda.txt\n",
      "Nous sommes ici:\n",
      "/Volumes/foisys/Documents/Cours_UdeM_CVM-Contenu/UdeM/BCM3553_Bio-informatique_pour_BCM/Jupyter-bcm3553/4.python_files\n",
      "Créons un fichier vide, juste pour...:\n",
      "Montrons que le fichier existe:\n",
      "total 0\n",
      "-rw-r--r--  1 foisys  staff  0 12 aoû 10:11 yoda.txt\n",
      "Copions le fichier dans le repertoire racine:\n",
      "total 0\n",
      "-rw-r--r--  1 foisys  staff  0 12 aoû 10:11 yoda.txt\n"
     ]
    }
   ],
   "source": [
    "!ls -l ../z.misc_files/data_demo/\n",
    "!echo \"Nous sommes ici:\"\n",
    "!pwd\n",
    "!echo \"Créons un fichier vide, juste pour...:\"\n",
    "!touch ../z.misc_files/data_demo/yoda.txt\n",
    "!echo \"Montrons que le fichier existe:\"\n",
    "!ls -l ../z.misc_files/data_demo\n",
    "!echo \"Copions le fichier dans le repertoire racine:\"\n",
    "!cp ../z.misc_files/data_demo/yoda.txt ../z.misc_files/\n",
    "!ls -l ../z.misc_files/data_demo"
   ]
  },
  {
   "cell_type": "markdown",
   "id": "5fc69afa-5434-4eb2-9ede-7a479cdb0726",
   "metadata": {},
   "source": [
    "Quelle conséquence pour nous? Évidemment, il faut s'assurer d'avoir les permissions nécessaires pour lire et écrire là ou nous le voulons :-)\n",
    "\n",
    "## Qu'est-ce qu'un fichier?\n",
    "\n",
    "Ça peut paraître tata mais qu'est-ce qu'un fichier? C'est un endroit dans le système de fichier contenant l'information nécessaire à notre travail mais c'est écrit comment? On va avoir deux possibilités:\n",
    "\n",
    "- Un ensemble de données écrit sous la forme de caractères simples: un fichier texte\n",
    "- Un ensemble de données écrit sous la forme de données binaires.\n",
    "\n",
    "Les deux formats sont lisibles en Python mais le 2ème est bien plus difficile: il faut connaitre la structure des données, bit par bit, pour extraire les infos. Par exemple: un fichier MS Word pourrait placé les données de formttage du 4ème paragraphe entre les bit x et x+y. La lecture des fichiers binaires se fait la plupart du temps à l'aide de modules spécialisés (on va revoir ça avec MS Excel et pandas).\n",
    "\n",
    "Comment savoir le format de notre fichier? Dans la console, on peut utiliser l'utilitaire `file`:"
   ]
  },
  {
   "cell_type": "code",
   "execution_count": 1,
   "id": "7a3251d3-5ddc-4bbf-a4ad-cde5ec02ec95",
   "metadata": {
    "tags": []
   },
   "outputs": [
    {
     "name": "stdout",
     "output_type": "stream",
     "text": [
      "../z.misc_files/data_seq/h.sapiens.cttn.iso.a.aa.fa: ASCII text\n"
     ]
    }
   ],
   "source": [
    "!file ../z.misc_files/data_seq/h.sapiens.cttn.iso.a.aa.fa"
   ]
  },
  {
   "cell_type": "code",
   "execution_count": 10,
   "id": "67902036-ceec-4c8c-b43c-12490f0d9042",
   "metadata": {
    "tags": []
   },
   "outputs": [
    {
     "name": "stdout",
     "output_type": "stream",
     "text": [
      "../z.misc_files/data_bin/output_auto_sequencer.ab1: data\n"
     ]
    }
   ],
   "source": [
    "!file ../z.misc_files/data_bin/output_auto_sequencer.ab1"
   ]
  }
 ],
 "metadata": {
  "kernelspec": {
   "display_name": "Python 3 (ipykernel)",
   "language": "python",
   "name": "python3"
  },
  "language_info": {
   "codemirror_mode": {
    "name": "ipython",
    "version": 3
   },
   "file_extension": ".py",
   "mimetype": "text/x-python",
   "name": "python",
   "nbconvert_exporter": "python",
   "pygments_lexer": "ipython3",
   "version": "3.12.1"
  }
 },
 "nbformat": 4,
 "nbformat_minor": 5
}
