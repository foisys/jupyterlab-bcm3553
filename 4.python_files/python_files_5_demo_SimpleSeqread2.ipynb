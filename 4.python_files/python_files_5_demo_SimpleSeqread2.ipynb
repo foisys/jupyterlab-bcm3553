{
 "cells": [
  {
   "cell_type": "markdown",
   "id": "a4648b28-72e7-42ef-b859-b40d0eb7f9b2",
   "metadata": {},
   "source": [
    "# Python pour biochimistes: comment lire un fichier texte, pareil mais différent"
   ]
  },
  {
   "cell_type": "markdown",
   "id": "561ed70d-7ebb-43f6-99c0-180c1db3f797",
   "metadata": {
    "tags": []
   },
   "source": [
    "## Introduction et concepts de base\n",
    "\n",
    "Ok, on a lu un fichier texte mais était-ce vraiment un fichier FASTA? Comment s'en assurer? En vérifiant que la première ligne du fichier contient le caractère `>`. L'exemple suivant montre également qu'il n'est pas nécessaire de lire tout le fichier d'un trait.\n",
    "\n",
    "Code de démonstration\n",
    "Étape 1: Acquérir le fichier en le pointant dans le système de fichiers\n",
    "\n",
    "On commence par lire un fichier:"
   ]
  },
  {
   "cell_type": "markdown",
   "id": "818a6ea1-aef4-423b-98f3-88bb12a206e4",
   "metadata": {},
   "source": [
    "## Code de démonstration"
   ]
  },
  {
   "cell_type": "markdown",
   "id": "12803007-ed22-41e1-b53f-2e1aa5d995ca",
   "metadata": {},
   "source": [
    "### Étape 1: Acquérir le fichier en le pointant dans le système de fichiers\n",
    "\n",
    "On commence par lire un fichier:"
   ]
  },
  {
   "cell_type": "code",
   "execution_count": 5,
   "id": "b68ffbd6-6618-46c9-a6bf-bbebf999b4aa",
   "metadata": {
    "tags": []
   },
   "outputs": [
    {
     "name": "stdin",
     "output_type": "stream",
     "text": [
      "PATH vers fichier? : /Volumes/foisys/Documents/Cours_UdeM_CVM-Contenu/UdeM/BCM3552_BCM6010_Bio-informatique_appliquee/1.intro_unix/materiel_unix/cttn_ncbi.fa\n"
     ]
    }
   ],
   "source": [
    "# Chargeons les librairies nécessaires\n",
    "import os.path\n",
    "import sys\n",
    "#\n",
    "# Méthode interactive\n",
    "# Le script attendra l'entrée faite par l'usager\n",
    "#\n",
    "seq = input(\"PATH vers fichier? :\")\n",
    "#\n",
    "# Il faut trouver ce que \"~\" veut dire... La méthode expanduser \"interprete\"\n",
    "# que \"~\" veut dire \"/Users/foisys\" sur Mac OS X :-)\n",
    "#\n",
    "seq = os.path.expanduser(seq)"
   ]
  },
  {
   "cell_type": "markdown",
   "id": "b85918f8-92ce-43dc-a40e-06f0416b5a5f",
   "metadata": {},
   "source": [
    "### Étape 2: N'affichez que le début du fichier mais tout de même lire toute la séquence\n",
    "\n",
    "En plus, on vérifie le format du fichier selon notre standard FASTA. Comme nous testons la première ligne, on n'a pas à lire le fichier en entier via la fonction readlines(). Ça sauve du temps si on a un grand fichier ;-)"
   ]
  },
  {
   "cell_type": "code",
   "execution_count": 2,
   "id": "9756d9c2-208f-4f5e-ad01-87ecec749793",
   "metadata": {
    "tags": []
   },
   "outputs": [
    {
     "name": "stdout",
     "output_type": "stream",
     "text": [
      ">gi|1519242654|ref|NM_005231.4| Homo sapiens cortactin (CTTN), transcript variant 1, mRNA\n",
      "GGAACCGGAAGTAGAGCCTGGTGCCTGGGAGCGGCTGGCGCGGCGGAATCCAGGGCCGACCCGGGCCGGA\n",
      "CCGACCCCAGGCGGCGACGGAATCAGTCCCCAATGCCTGGAAATTCCTCATTGGATTACTGTGTTTTAAA\n",
      "CAGAATTTCGTGAACAGCCTTTTATCTCCAAGCGGAAAGAAAGATGTGGAAAGCTTCAGCAGGCCACGCT\n",
      "GTGTCCATCGCCCAGGATGACGCGGGGGCCGATGACTGGGAGACCGACCCTGATTTTGTGAATGATGTGA\n",
      "GTGAGAAGGAGCAAAGATGGGGTGCCAAGACGGTGCAGGGCTCCGGGCACCAGGAGCATATCAACATACA\n",
      "CAAGCTGAGGGAGAATGTCTTTCAAGAGCATCAGACCCTTAAGGAGAAGGAACTTGAAACAGGACCAAAA\n",
      "GCTTCCCATGGCTATGGAGGGAAATTTGGTGTGGAACAAGACCGAATGGATAAGTCAGCTGTCGGCCACG\n",
      "AATATCAGTCGAAACTTTCCAAGCACTGCTCGCAGGTGGACTCGGTCCGTGGCTTCGGAGGCAAGTTTGG\n",
      "TGTCCAGATGGACAGAGTTGATCAGTCTGCTGTAGGCTTTGAATACCAGGGGAAGACTGAGAAGCATGCC\n",
      "TCCCAGAAAGACTACTCCAGTGGTTTTGGCGGCAAGTATGGCGTGCAGGCCGACCGAGTAGACAAGAGCG\n",
      "CGGTGGGCTTCGACTACCAGGGCAAGACGGAGAAGCACGAGTCACAGAGAGATTACTCCAAAGGTTTCGG\n",
      "blablabla...\n"
     ]
    }
   ],
   "source": [
    "#\n",
    "# Compteur utilisé ci-dessous\n",
    "#\n",
    "i = 0\n",
    "#\n",
    "# Variable vide à remplir\n",
    "#\n",
    "fullseq = \"\"\n",
    "# On crée la pointeur vers le fichier\n",
    "with open(seq, 'r') as file:\n",
    "    #\n",
    "    # Ici, on lit le fichier ligne par ligne plutôt que d'un trait\n",
    "    #\n",
    "    # Tant et aussi longtemps que le fichier contiendra une ligne\n",
    "    #\n",
    "    for aLine in file:\n",
    "      if(i<=11):\n",
    "        #\n",
    "        # On sait que le format FASTA spécifie que la 1ère ligne doit commencer \n",
    "        # par un \">\", donc si on ne trouve pas ce caractère dans la 1ère ligne lue...\n",
    "        #\n",
    "        if(i==0 and aLine.find(\">\")==-1):\n",
    "          # \n",
    "          # On force l'arrêt du script\n",
    "          #\n",
    "          sys.exit(\"Ce fichier n'est pas en format FASTA!! Vérifiez-le :-)\")\n",
    "        else:\n",
    "          print(aLine.strip())\n",
    "          # Ajoutons 1 à i à chaque ligne lue\n",
    "          # Pour ne pas tout affiché... On affiche seulement 10 lignes de sequence\n",
    "          i+=1\n",
    "      #\n",
    "      # On veut remplir la variable fullseq avec la séquence uniquement, sans la 1ère\n",
    "      # ligne\n",
    "      #\n",
    "      if aLine.find(\">\")==-1:\n",
    "        fullseq = fullseq+aLine.strip()\n",
    "    print(\"blablabla...\")"
   ]
  },
  {
   "cell_type": "markdown",
   "id": "b3e85c9f-3b11-49bb-ac76-529bc442a692",
   "metadata": {},
   "source": [
    "### Étape 3: Vérifier que nous avons tout de même lu toute la séquence..."
   ]
  },
  {
   "cell_type": "code",
   "execution_count": 3,
   "id": "2f3e23eb-b28f-4ac3-a76b-6250c99c729b",
   "metadata": {
    "tags": []
   },
   "outputs": [
    {
     "name": "stdout",
     "output_type": "stream",
     "text": [
      "Impression de la sequence:\n",
      "GGAACCGGAAGTAGAGCCTGGTGCCTGGGAGCGGCTGGCGCGGCGGAATCCAGGGCCGACCCGGGCCGGACCGACCCCAGGCGGCGACGGAATCAGTCCCCAATGCCTGGAAATTCCTCATTGGATTACTGTGTTTTAAACAGAATTTCGTGAACAGCCTTTTATCTCCAAGCGGAAAGAAAGATGTGGAAAGCTTCAGCAGGCCACGCTGTGTCCATCGCCCAGGATGACGCGGGGGCCGATGACTGGGAGACCGACCCTGATTTTGTGAATGATGTGAGTGAGAAGGAGCAAAGATGGGGTGCCAAGACGGTGCAGGGCTCCGGGCACCAGGAGCATATCAACATACACAAGCTGAGGGAGAATGTCTTTCAAGAGCATCAGACCCTTAAGGAGAAGGAACTTGAAACAGGACCAAAAGCTTCCCATGGCTATGGAGGGAAATTTGGTGTGGAACAAGACCGAATGGATAAGTCAGCTGTCGGCCACGAATATCAGTCGAAACTTTCCAAGCACTGCTCGCAGGTGGACTCGGTCCGTGGCTTCGGAGGCAAGTTTGGTGTCCAGATGGACAGAGTTGATCAGTCTGCTGTAGGCTTTGAATACCAGGGGAAGACTGAGAAGCATGCCTCCCAGAAAGACTACTCCAGTGGTTTTGGCGGCAAGTATGGCGTGCAGGCCGACCGAGTAGACAAGAGCGCGGTGGGCTTCGACTACCAGGGCAAGACGGAGAAGCACGAGTCACAGAGAGATTACTCCAAAGGTTTCGGCGGCAAATACGGTATCGACAAGGACAAAGTGGATAAGAGCGCCGTTGGCTTTGAGTATCAAGGCAAAACGGAGAAGCACGAGTCCCAGAAAGACTATGTGAAAGGGTTTGGAGGAAAATTTGGTGTGCAGACAGACAGACAAGACAAATGTGCCCTTGGCTGGGATCACCAGGAGAAATTGCAGCTGCATGAATCCCAAAAAGATTATAAGACTGGTTTTGGAGGCAAATTCGGTGTTCAGTCGGAGAGGCAGGACTCCGCTGCTGTGGGGTTTGATTACAAGGAGAAGCTGGCCAAGCACGAGTCCCAGCAAGACTACTCCAAAGGATTCGGCGGGAAGTATGGGGTGCAGAAGGATCGGATGGATAAGAATGCGTCAACCTTTGAGGATGTCACCCAGGTGTCCTCTGCCTACCAGAAGACAGTACCTGTCGAAGCTGTGACCAGCAAAACAAGTAACATCAGAGCTAACTTTGAAAACCTCGCTAAGGAGAAAGAGCAGGAGGACAGGCGGAAGGCGGAGGCGGAGAGAGCCCAGCGGATGGCCAAGGAGCGGCAGGAGCAGGAAGAGGCCAGGAGGAAGCTGGAGGAGCAAGCCAGAGCCAAAACGCAAACGCCCCCTGTGTCGCCCGCACCTCAGCCAACCGAGGAGAGGCTGCCCTCGAGCCCCGTCTATGAGGATGCGGCTTCCTTCAAGGCAGAGCTGAGCTACAGAGGCCCTGTGAGTGGGACGGAGCCGGAGCCCGTGTACAGCATGGAGGCCGCTGACTACCGAGAGGCCAGCAGCCAGCAGGGCCTGGCCTATGCCACAGAGGCTGTCTATGAAAGCGCAGAGGCCCCGGGCCACTATCCCGCAGAGGACAGCACCTACGATGAGTACGAGAACGATCTGGGGATCACAGCCGTCGCCCTGTACGACTACCAGGCTGCGGGCGATGATGAGATCTCATTTGACCCTGATGACATCATCACCAACATCGAGATGATTGACGACGGCTGGTGGCGCGGGGTGTGCAAGGGCCGGTACGGGCTCTTCCCAGCCAACTATGTGGAGCTGCGGCAGTAGGGCCCCCAGCCCCCCCCCGGAGCTGCGCCCTGGATCCTCACACTACAGATCAGGCCTTCTTTGGTTCTTGGGTGGTTTTGGGTTTTTTCTGTTTTTTTTTTTTTTTTTTTTTTTTTGAAGGTGGGGAGGGGAATATACACATTGCTTTTATATTTAATACTTTTGCTGATGCTTTTGAAAATGTTTATGCCACAGAATTTGCTAATATATTGTAATCACATTCCTTAGGAGGACTTTGGTAATTGGTTTTATGCATTGATGGTTTTTTTTTTCTTTTTTGCCAAATTGACTGTCACGCGGCAGCTTCAGGGAGCTCGCATTCTCTTGTGTTCGTGTTGCCCTCGTGCCCATCAAGTGCAGTCGGGACCTCCCAGGACAAGCACGAGGCCTCAGGTCGGCCCTGTGGCGGGTAGGCAGGAAGGACTGTCCCAGACGAGGGGCTTCCTCTAGAGTCTCACTGCTGGGGAGGAGAGGACTGGGCCTGATGGAAGTTAACCCGGAGCTAAGTCACCCAGAGCACAGGAGCTGCCATGTCAGATGGGAAATCTGCCTATGTCATACCGTGACAGCCCGCAGGATCAGGTGACTTCTAGCAGAGACCCTGGTTTTTTTCCTGTGCCCACTCCGGCTTGTCCTCATCTCTACCCATCCCCTGATGCCCAGGTCACCGGGAGGGCTGCTGGGAGCCTCTCCTGTCCCCGCCGGGCAGTGTCACTGAGTCCTTGAAATCCTCCCCTGCCCCGCGGGTCTCTGGATTGGGACGCACAGTGCAGTTGAGGTCTGCGTCGGGCTTGGCTTTTCACAAAGGCTGATGTCTTAACTGTCACCCATATGGTCCCTGGGCCACCGGGCAGCCTGGGGCGGTGTGTGTGCCATGTCACAGCATGGCCTCTCGGCCTTGGGAAGGAAGGCAGTGCCTGCTCTGCTGTGAGCCGCCAGGAACCCTCCTCCTGTCAATGGGGGTGTAGTATTTTTGCCAAAATATCATGTTCAATTTCAGTAGTTTGATCAGTTGAAGGCTAGAAGTGTGAAGTGCAGATGAGTGTGTGTTCTTCCCCAAGGTCCCCCCACAGCTCCAGGACACCGCTGTCCTGGCATTTGTGGCCACTCACTTTGTAGGAAACTCATCTCCTTCCTGAGGAGCCGGGAGGCTGGACCAGTCCCGTCGTGCAGTCAGGTGGGCGGTGTGTCTTTCCAGAAGGTCACGTGGAAATGTCTCGGGACTTGGGTCCCGGAGTGCCCGTGAAGCGTGTTTTTGCTCCTGAGGTGCATTTTCTCATCATCCTTGCTTTACCACAATGAGCAATGAGGTCGGGTTTTATATGCAACTTATTGTATCTGAATTCCTGTAGCACACCTCATAGGTATGATTTTTTTAAATTAAAGAATTCAGAATAAACATTTTTTGATCCA\n"
     ]
    }
   ],
   "source": [
    "print(\"Impression de la sequence:\")\n",
    "#\n",
    "# Prenez note: l'affichage se fait sur plusieurs lignes mais en fait, \n",
    "# ce n'est qu'une seule ligne que la fenêtre \"replie\" pour la faire \n",
    "# entrer dans l'espace\n",
    "#\n",
    "print(fullseq)"
   ]
  },
  {
   "cell_type": "code",
   "execution_count": 4,
   "id": "860b9cdc-e22c-4f18-a01a-6e04814297a6",
   "metadata": {
    "tags": []
   },
   "outputs": [
    {
     "name": "stdout",
     "output_type": "stream",
     "text": [
      "Taille de la sequence:\n",
      "3249\n"
     ]
    }
   ],
   "source": [
    "#\n",
    "# Comme fullseq est une simple chaine de caractères, on peut utiliser la\n",
    "# méthode len() pour en connaitre le nombre de bases/acides aminés\n",
    "#\n",
    "print(\"Taille de la sequence:\")\n",
    "print(len(fullseq))"
   ]
  }
 ],
 "metadata": {
  "kernelspec": {
   "display_name": "Python 3 (ipykernel)",
   "language": "python",
   "name": "python3"
  },
  "language_info": {
   "codemirror_mode": {
    "name": "ipython",
    "version": 3
   },
   "file_extension": ".py",
   "mimetype": "text/x-python",
   "name": "python",
   "nbconvert_exporter": "python",
   "pygments_lexer": "ipython3",
   "version": "3.12.1"
  }
 },
 "nbformat": 4,
 "nbformat_minor": 5
}
