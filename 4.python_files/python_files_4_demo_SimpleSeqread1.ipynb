{
 "cells": [
  {
   "cell_type": "markdown",
   "id": "a4648b28-72e7-42ef-b859-b40d0eb7f9b2",
   "metadata": {},
   "source": [
    "# Python pour biochimistes: comment lire un fichier texte"
   ]
  },
  {
   "cell_type": "markdown",
   "id": "561ed70d-7ebb-43f6-99c0-180c1db3f797",
   "metadata": {
    "jp-MarkdownHeadingCollapsed": true,
    "tags": []
   },
   "source": [
    "## Introduction et concepts de base\n",
    "\n",
    "Une des tâches les plus courantes faite en bio-informatique est la lecture et l'écriture de fichiers en format texte. Les deux types de fichiers les plus utilisés sont les fichiers de séquences et les fichiers contenant des données tabulées (grilles de valeurs). Dans les exemples qui suivent sur cette page, nous allons nous concentrer sur les fichiers de séquences.\n",
    "\n",
    "Un point des plus importants dans la lecture d'un fichier, quel qu'il soit est d'en connaitre la structure. Dans le cas d'un fichier de séquence, la séquence elle-même n'est qu'un élément de donnée contenu dans le fichier; les autres éléments sont les méta-données, c'est-à-dire les données sur la donnée. Il existe une multitude de formats de fichiers de séquence (un petit aperçu se trouve ici: https://emboss.sourceforge.net/docs/themes/SequenceFormats.html) mais celui qui sera surement celui que vous utiliserez le plus est le format FASTA.\n",
    "\n",
    "Créé pour le logiciel d'alignement du même nom, ce format est très simple en appliquant des éléments présentés plus tôt.\n",
    "\n",
    "- La première ligne d'une séquence commencera toujours par le caractère \">\" suivi d'une succession arbitraire d'informations sur une seule ligne, terminée par un retour de chariot. Comme le contenu de cette ligne n'a pas de structure fixe, il peut être difficile de trouver ce que l'on cherche. On peut cependant se baser sur les [spécifications utilisées par le NCBI](https://en.wikipedia.org/wiki/FASTA_format#NCBI_identifiers) pour la création de leurs fichiers FASTA.\n",
    "- Toutes les lignes qui suivront seront la séquence, une lettre par nucléotide ou par acide aminé (il faudra alors utilisé le code IUPAC à une lettre).  Il n'y a pas de règles strictes sur la longueur des lignes (souvent, on voit de 50 à 80 caractères/ligne) mais chaque ligne doit se terminer avec un retour de chariot.\n",
    "\n",
    "En sachant cela. il est alors très simple d'extraire les informations recherchées."
   ]
  },
  {
   "cell_type": "markdown",
   "id": "818a6ea1-aef4-423b-98f3-88bb12a206e4",
   "metadata": {},
   "source": [
    "## Code de démonstration"
   ]
  },
  {
   "cell_type": "markdown",
   "id": "12803007-ed22-41e1-b53f-2e1aa5d995ca",
   "metadata": {},
   "source": [
    "### Étape 1: Acquérir le fichier en le pointant dans le système de fichiers\n",
    "\n",
    "On peut le faire de plusieurs façons différentes mais ici, on se limitera à deux: statique (appel spécifique du fichier) et interactive via le méthode `input()`."
   ]
  },
  {
   "cell_type": "code",
   "execution_count": 1,
   "id": "b68ffbd6-6618-46c9-a6bf-bbebf999b4aa",
   "metadata": {
    "tags": []
   },
   "outputs": [
    {
     "name": "stdin",
     "output_type": "stream",
     "text": [
      "PATH vers fichier? : ~/Desktop/cttn_iso_a_h_sapiens.fna\n"
     ]
    }
   ],
   "source": [
    "# Chargeons les librairies nécessaires\n",
    "import os.path\n",
    "import sys\n",
    "\n",
    "#\n",
    "# Méthode interactive\n",
    "# Le script attendra l'entrée faite par l'usager\n",
    "#\n",
    "seq = input(\"PATH vers fichier? :\")\n",
    "\n",
    "#\n",
    "# Il faut trouver ce que \"~\" veut dire... La méthode expanduser \"interprete\"\n",
    "# que \"~\" veut dire \"/Users/foisys\" sur Mac OS X :-)\n",
    "#\n",
    "seq = os.path.expanduser(seq)"
   ]
  },
  {
   "cell_type": "markdown",
   "id": "0a911fc5-56cb-4e4b-ac90-62bd1e7d59b7",
   "metadata": {},
   "source": [
    "Maintenant, on va en lire le contenu:"
   ]
  },
  {
   "cell_type": "code",
   "execution_count": null,
   "id": "9756d9c2-208f-4f5e-ad01-87ecec749793",
   "metadata": {
    "tags": []
   },
   "outputs": [],
   "source": [
    "#\n",
    "# La fonction open()permettra de lire le fichier pour le mettre dans un objet\n",
    "# simplement appelé file\n",
    "#\n",
    "# La méthode readlines() permettra la lecture de toutes les lignes dans la\n",
    "# variables allLines sous la forme d'une liste, une ligne par item de la liste\n",
    "#\n",
    "with open(seq,'r') as file:\n",
    "    allLines = file.readlines()\n",
    "#\n",
    "# Remarque: allLines est une liste d'éléments, ici chacune des lignes du fichier\n",
    "#\n",
    "print(\"Nature de allLines: \"+str(type(allLines)))\n",
    "#\n",
    "# On affiche avec la fonction print()\n",
    "#\n",
    "# Remarque: observez les crochets carrés au début (\"[\") et à la fin (\"]\")\n",
    "#\n",
    "print(\"Contenu de \"+ allLines[0])\n",
    "print(allLines)"
   ]
  },
  {
   "cell_type": "markdown",
   "id": "b82911ac-5b28-4249-8a0a-5cc5aea1b328",
   "metadata": {},
   "source": [
    "### Étape 2: Rendre ça plus lisible...\n",
    "\n",
    "Bon, on a lu le fichier mais ce n'est pas très lisible... La variable `allLines` contient tout le texte contenu dans le fichier, y compris les retours de chariots. On pourrait remplacer tous ces caratères par autre chose mais ça, c'est pour un autre moment :-) Utilisons le fait que `allLines` est une liste qui possède une succession d'items identiques (des lignes de caractères) qui sont indexés dans l'ordre de la lecture des lignes pour n'écrire que les 10 premières lignes de la séquence."
   ]
  },
  {
   "cell_type": "code",
   "execution_count": null,
   "id": "16d97322-ab74-4586-9396-a795ee5917a6",
   "metadata": {
    "tags": []
   },
   "outputs": [],
   "source": [
    "# Chargeons la librairie nécessaire\n",
    "import os.path\n",
    "import sys\n",
    "#\n",
    "# Il faut trouver ce que \"~\" veut dire... La méthode expanduser \"interprete\"\n",
    "# que \"~\" veut dire \"/Users/foisys\" sur Mac OS X :-)\n",
    "#\n",
    "seq = os.path.expanduser(seq)\n",
    "#\n",
    "# Compteur utilisé plus bas\n",
    "i = 0\n",
    "\n",
    "# On crée la pointeur vers le fichier\n",
    "with open(seq, 'r') as file:\n",
    "    #\n",
    "    # Tant et aussi longtemps que le fichier contientdra une ligne\n",
    "    #\n",
    "    for i in range(11):\n",
    "        print(allLines[i].strip())\n",
    "    print(\"blablabla...\")"
   ]
  },
  {
   "cell_type": "markdown",
   "id": "b3e85c9f-3b11-49bb-ac76-529bc442a692",
   "metadata": {},
   "source": [
    "### Étape 3: Extraire la séquence du reste du fichier."
   ]
  },
  {
   "cell_type": "code",
   "execution_count": null,
   "id": "2f3e23eb-b28f-4ac3-a76b-6250c99c729b",
   "metadata": {
    "tags": []
   },
   "outputs": [],
   "source": [
    "#\n",
    "# Initialisons une variable vide\n",
    "#\n",
    "fullseq = \"\"\n",
    "#\n",
    "# On se dirige vers le fichier\n",
    "#\n",
    "with open(seq, 'r') as file:\n",
    "    #\n",
    "    # Tant et aussi longtemps que allLines contiendra un item\n",
    "    # Rappel: allLines est une liste d'items\n",
    "    #\n",
    "    for aLine in allLines:\n",
    "        #\n",
    "        # Si la ligne ne contient pas le caractère \">\"\n",
    "        # La valeur -1 spécifie que \">\" n'existe pas sur la ligne\n",
    "        #\n",
    "        if aLine.find('>')==-1:\n",
    "          #\n",
    "          # On ajoute la ligne à la variable fullseq, qui se trouve allongée à chaque ligne\n",
    "          #\n",
    "          fullseq = fullseq+aLine.strip()\n",
    "print(\"Impression de la sequence:\")\n",
    "#\n",
    "# Prenez note: l'affichage se fait sur plusieurs lignes mais en fait, \n",
    "# ce n'est qu'une seule ligne que la fenêtre \"replie\" pour la faire \n",
    "# entrer dans l'espace\n",
    "#\n",
    "print(fullseq)"
   ]
  },
  {
   "cell_type": "code",
   "execution_count": null,
   "id": "860b9cdc-e22c-4f18-a01a-6e04814297a6",
   "metadata": {
    "tags": []
   },
   "outputs": [],
   "source": [
    "#\n",
    "# Comme fullseq est une simple chaine de caractères, on peut utiliser la\n",
    "# méthode len() pour en connaitre le nombre de bases/acides aminés\n",
    "#\n",
    "print(\"Taille de la sequence:\")\n",
    "print(len(fullseq))"
   ]
  }
 ],
 "metadata": {
  "kernelspec": {
   "display_name": "Python 3 (ipykernel)",
   "language": "python",
   "name": "python3"
  },
  "language_info": {
   "codemirror_mode": {
    "name": "ipython",
    "version": 3
   },
   "file_extension": ".py",
   "mimetype": "text/x-python",
   "name": "python",
   "nbconvert_exporter": "python",
   "pygments_lexer": "ipython3",
   "version": "3.12.1"
  }
 },
 "nbformat": 4,
 "nbformat_minor": 5
}
