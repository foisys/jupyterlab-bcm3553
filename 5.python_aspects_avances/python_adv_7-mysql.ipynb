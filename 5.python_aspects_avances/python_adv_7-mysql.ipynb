{
 "cells": [
  {
   "cell_type": "markdown",
   "id": "f615dc2b-bce9-4dac-8631-26687c84bb22",
   "metadata": {},
   "source": [
    "# Aspects (plus) avancés pour la bioinformatique: exécuter des requêtes sur un logiciel de gestion de bases de données\n",
    "\n",
    "## Introduction\n",
    "\n",
    "Dans le cadre de nos expériences, on accumule un ensemble d'informations qu'il est parfois sage de garder dans un logiciel de bases de données (en anglais, c'est appelé un *Database Management System* ou DBMS). On accède alors à ces informations via des requêtes écrites dans un language particulier qui s'appelle *Structured Query Language*, communément appelé SQL. Un de ces logiciels très utilisé dans les labos et les services bio-informatique est [MySQL](https://mysql.com) (ou sa version à code source ouvert [MariaDB](https://mariadb.org)). L'installation et la configuration initiale de l'un ou l'autre n'est pas du ressort de ce tutoriel; on assume pour la suite que le logiciel, avec serveur et client, est installé et accessible pour au moins un utilisateur. \n",
    "\n",
    "Comment ça marche maintenant avec Python? Le fonctionnement d'un DBMS s'articule autour d'un serveur qui répond à des requêtes provenant d'applications clientes. Le serveur \"écoute\" sur un port les requêtes qui arrivent pour ensuite les exécuter et retourner un résultat à l'application, qui doit maintenant comprendre ce qui lui est retourné. Dans le système MySQL, le serveur est l'application `mysqld` et le client est l'application `mysql`. \n",
    "\n",
    "Pour un code Python, notre script devient le client mais il faut que celui-ci sache comment parler à `mysqld`... On doit utiliser un *connecteur*, une librairie qui se mets entre le script et `mysqld`, capable de gérer les interactions entre les deux. Un tel connecteur n'est pas installé par défaut mais `pip` règle ça rapidement:"
   ]
  },
  {
   "cell_type": "code",
   "execution_count": 1,
   "id": "b4be122d-04d9-4650-b142-90d77e14c070",
   "metadata": {},
   "outputs": [
    {
     "name": "stdout",
     "output_type": "stream",
     "text": [
      "Requirement already satisfied: mysql-connector-python in /Library/Frameworks/Python.framework/Versions/3.12/lib/python3.12/site-packages (9.2.0)\n"
     ]
    }
   ],
   "source": [
    "!pip install mysql-connector-python"
   ]
  },
  {
   "cell_type": "markdown",
   "id": "c1259916-2a1d-4f2a-a863-52c52de3baff",
   "metadata": {},
   "source": [
    "Si vous exécuter cette page Jupyter depuis un serveur Ubuntu, ceci est la commande qui fonctionne (évodemment, seulement si vous avez les permissions nécessaires...):"
   ]
  },
  {
   "cell_type": "code",
   "execution_count": null,
   "id": "0965ad17-3e4e-43c1-9d2d-8132ca35e10a",
   "metadata": {},
   "outputs": [],
   "source": [
    "!sudo apt install python3-mysql.connector"
   ]
  },
  {
   "cell_type": "markdown",
   "id": "248a1c68-8613-4f72-b150-34fa9998de39",
   "metadata": {},
   "source": [
    "On vérifie simplement que le module est accessible:"
   ]
  },
  {
   "cell_type": "code",
   "execution_count": 2,
   "id": "fb133b4b-f6d7-4b5a-85fb-a04949e03422",
   "metadata": {},
   "outputs": [],
   "source": [
    "import mysql.connector"
   ]
  },
  {
   "cell_type": "markdown",
   "id": "fb381ae7-cfb1-410c-b15c-68603d4b3349",
   "metadata": {},
   "source": [
    "Si aucune erreur n'est retournée par le script, alors tout fonctionne!"
   ]
  },
  {
   "cell_type": "markdown",
   "id": "f5200f79-de8a-4fc1-916f-f91b22d84c93",
   "metadata": {},
   "source": [
    "## Un exemple: une simple recherche sur une base de données locale\n",
    "\n",
    "### Création d'un usager dans le service MySQL\n",
    "Pour commencer cet exemple, il nous faut commencer par créer un usager :-) Par défaut, lors de l'initialisation du service, un usager appelé `root` (attention!! ce n'est pas le même `root` que celui de votre système d'opération!!); on ne doit jamais utilisé cet usager pour les opérations usuelles sur les bases de données mais essentiellement pour les tâches administratives. Il nous faut donc créer un usager ordinaire ;-) Pour réussir, il nous faut entrer dans MySQL avec notre compte `root` via une connexion console. Si ça marche, vous devriez voir quelque chose qui ressemble à ça:\n",
    "\n",
    "```\n",
    "foisys@monordi jupyterlab-bcm3553 % mysql -h localhost -u root -p\n",
    "Enter password: \n",
    "Welcome to the MySQL monitor.  Commands end with ; or \\g.\n",
    "Your MySQL connection id is 9\n",
    "Server version: 9.3.0 MySQL Community Server - GPL\n",
    "\n",
    "Copyright (c) 2000, 2025, Oracle and/or its affiliates.\n",
    "\n",
    "Oracle is a registered trademark of Oracle Corporation and/or its\n",
    "affiliates. Other names may be trademarks of their respective\n",
    "owners.\n",
    "\n",
    "Type 'help;' or '\\h' for help. Type '\\c' to clear the current input statement.\n",
    "\n",
    "mysql>\n",
    "```\n",
    "\n",
    "Si ça fonctionne, vous pouvez créer votre compte usager régulier comme suit:\n",
    "```\n",
    "mysql> CREATE USER 'foisys'@'localhost' IDENTIFIED BY 'password';\n",
    "```\n",
    "\n",
    "Permettons à cet usager de créer des bases de données (nécessaire pour la suite):\n",
    "```\n",
    "mysql> GRANT CREATE ON *.* TO 'foisys'@'localhost';\n",
    "```\n",
    "\n",
    "Évidemment, cet usager n'existe qu'à des fins de démonstration... Pour la suite, nous n'utiliserons plus l'usager `root`.\n",
    "\n",
    "### Création d'une base de données via Python\n",
    "\n",
    "Plus à venir..."
   ]
  }
 ],
 "metadata": {
  "kernelspec": {
   "display_name": "Python 3 (ipykernel)",
   "language": "python",
   "name": "python3"
  },
  "language_info": {
   "codemirror_mode": {
    "name": "ipython",
    "version": 3
   },
   "file_extension": ".py",
   "mimetype": "text/x-python",
   "name": "python",
   "nbconvert_exporter": "python",
   "pygments_lexer": "ipython3",
   "version": "3.12.1"
  }
 },
 "nbformat": 4,
 "nbformat_minor": 5
}
