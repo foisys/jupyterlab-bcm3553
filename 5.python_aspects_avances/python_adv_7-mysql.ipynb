{
 "cells": [
  {
   "cell_type": "markdown",
   "id": "f615dc2b-bce9-4dac-8631-26687c84bb22",
   "metadata": {},
   "source": [
    "# Aspects (plus) avancés pour la bioinformatique: exécuter des requêtes sur un logiciel de gestion de bases de données\n",
    "\n",
    "## Introduction\n",
    "\n",
    "Dans le cadre de nos expériences, on accumule un ensemble d'informations qu'il est parfois sage de garder dans un logiciel de bases de données (en anglais, c'est appelé un *Database Management System* ou DBMS). On accède alors à ces informations via des requêtes écrites dans un language particulier qui s'appelle *Structured Query Language*, communément appelé SQL. Un de ces logiciels très utilisé dans les labos et les services bio-informatique est [MySQL](https://mysql.com) (ou sa version à code source ouvert [MariaDB](https://mariadb.org)). L'installation et la configuration initiale de l'un ou l'autre n'est pas du ressort de ce tutoriel; on assume pour la suite que le logiciel, avec serveur et client, est installé et accessoble pour au moins un utilisateur. \n",
    "\n",
    "Comment ça marche maintenant avec Python? Le fonctionnement d'un DBMS s'articule autour d'un serveur qui répond à des requêtes provenant d'applications clientes. Le serveur \"écoute\" sur un port les requêtes qui arrivent pour ensuite les exécuter et retourner un résultat à l'application, qui doit maintenant comprendre ce qui lui est retourné. Dans le système MySQL, le serveur est l'application `mysqld` et le client est l'application `mysql`. \n",
    "\n",
    "Pour un code Python, notre script devient le client mais il faut que celui-ci sache comment parler à `mysqld`... On doit utiliser un *connecteur*, une librairie qui se mets entre le script et `mysqld`, capable de gérer les interactions entre les deux. Un tel connecteur n'est pas installé par défaut mais `pip` règle ça rapidement:"
   ]
  },
  {
   "cell_type": "code",
   "execution_count": 1,
   "id": "b4be122d-04d9-4650-b142-90d77e14c070",
   "metadata": {},
   "outputs": [
    {
     "name": "stdout",
     "output_type": "stream",
     "text": [
      "Requirement already satisfied: mysql-connector-python in /opt/miniconda3/lib/python3.12/site-packages (9.3.0)\n"
     ]
    }
   ],
   "source": [
    "!pip install mysql-connector-python"
   ]
  },
  {
   "cell_type": "markdown",
   "id": "c1259916-2a1d-4f2a-a863-52c52de3baff",
   "metadata": {},
   "source": [
    "Si vous êtes dans Ubuntu, ceci est la commande qui fonctionne:"
   ]
  },
  {
   "cell_type": "code",
   "execution_count": null,
   "id": "0965ad17-3e4e-43c1-9d2d-8132ca35e10a",
   "metadata": {},
   "outputs": [],
   "source": [
    "!sudo apt install python3-mysql.connector"
   ]
  },
  {
   "cell_type": "markdown",
   "id": "248a1c68-8613-4f72-b150-34fa9998de39",
   "metadata": {},
   "source": [
    "On vérifie simplement que le module est accessible:"
   ]
  },
  {
   "cell_type": "code",
   "execution_count": 2,
   "id": "fb133b4b-f6d7-4b5a-85fb-a04949e03422",
   "metadata": {},
   "outputs": [],
   "source": [
    "import mysql.connector"
   ]
  },
  {
   "cell_type": "markdown",
   "id": "fb381ae7-cfb1-410c-b15c-68603d4b3349",
   "metadata": {},
   "source": [
    "Si aucune erreur n'est retournée par le script, alors tout fonctionne!"
   ]
  },
  {
   "cell_type": "markdown",
   "id": "f5200f79-de8a-4fc1-916f-f91b22d84c93",
   "metadata": {},
   "source": [
    "## Un exemple: une simple recherche sur une base de données locale\n",
    "\n",
    "Plus à venir..."
   ]
  }
 ],
 "metadata": {
  "kernelspec": {
   "display_name": "Python 3 (ipykernel)",
   "language": "python",
   "name": "python3"
  },
  "language_info": {
   "codemirror_mode": {
    "name": "ipython",
    "version": 3
   },
   "file_extension": ".py",
   "mimetype": "text/x-python",
   "name": "python",
   "nbconvert_exporter": "python",
   "pygments_lexer": "ipython3",
   "version": "3.12.2"
  }
 },
 "nbformat": 4,
 "nbformat_minor": 5
}
