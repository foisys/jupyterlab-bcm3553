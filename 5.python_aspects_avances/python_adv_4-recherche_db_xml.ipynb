{
 "cells": [
  {
   "cell_type": "markdown",
   "id": "4347ef89-5a10-4413-80ee-6c7ed41d4b33",
   "metadata": {},
   "source": [
    "# Aspects (plus) avancés pour la bioinformatique: recherche dans une base de données distante, version XML et NCBI Entrez\n",
    "Le processus de collecte d'informations pour un processus d'annotation requiert des recherches sur des bases de données pré-existantes. De manière non-programmatique, on commence par aller sur une page web, on inscrit un ou plusieurs critères de recherche et le site nous retourne un ou des pages de résultats. Ok, c'est cool mais comment intégrer ça dans une structure de données? Il est tout è fait possible de le faire programmatiquement via Python. Dans les exemples qui suivent, nous allons utiliser les services E-Utils du NCBI pour faire notre recherche et notre collecte d'informations.\n",
    "\n",
    "Le NCBI (National Center for Biotechnology Information) est le \"uber\" site de stockage des données biologiques et chimiques (PubChem); le NCBI offre gratuitement un océan d'informations qu'on peut consulter pour créer des annotations selon nos besoins, accessibles via la suite d'outils EUtils dans un URL.\n",
    "\n",
    "Dans l'exemple qui suit, on recherchera un ensemble de variations génétiques en utilisant la base de données dbVar du NCBI pour notre ami, le gène CTTN. La logique de recherche des infos reste la même que pour l'uuilisation de MyGene.info:\n",
    "\n",
    " - On recherche un ensemble de données (ici, les variations génvtiques) se retrouvant associées au gène CTTN en utilisant l'utilisaire ESearch;\n",
    " - Pour chaque variation retrouvée, on veux avoir les informations disponibles sur cette variation en utilisant l'utilitaire EFetch.\n",
    "\n",
    "Pour transformer \"instantanément\" un flux xml en dictionnaire, il nous faudra utiliser le module xmltodict."
   ]
  },
  {
   "cell_type": "markdown",
   "id": "b897d57a-d745-44f4-a1be-dc0be28144b0",
   "metadata": {
    "tags": []
   },
   "source": [
    "### Installation des modules nécessaires\n",
    "\n",
    "Avant de commencer, assurons-nous uqe les modules nécessaires soient installés sur notre plateforme avec pip:"
   ]
  },
  {
   "cell_type": "code",
   "execution_count": 2,
   "id": "98d0b7ba-6920-4faa-92a9-5f69636924da",
   "metadata": {
    "tags": []
   },
   "outputs": [
    {
     "name": "stdout",
     "output_type": "stream",
     "text": [
      "Collecting xmltodict\n",
      "  Using cached xmltodict-0.13.0-py2.py3-none-any.whl (10.0 kB)\n",
      "Installing collected packages: xmltodict\n",
      "Successfully installed xmltodict-0.13.0\n"
     ]
    }
   ],
   "source": [
    "!pip install xmltodict"
   ]
  },
  {
   "cell_type": "code",
   "execution_count": 2,
   "id": "95e35eeb-4442-4fcb-9066-036efcf2b308",
   "metadata": {
    "tags": []
   },
   "outputs": [
    {
     "name": "stdout",
     "output_type": "stream",
     "text": [
      "{'eSearchResult': {'Count': '17007', 'RetMax': '2', 'RetStart': '0', 'IdList': {'Id': ['2135607633', '2135607342']}, 'TranslationSet': None, 'TranslationStack': {'TermSet': {'Term': 'CTTN[All Fields]', 'Field': 'All Fields', 'Count': '17007', 'Explode': 'N'}, 'OP': 'GROUP'}, 'QueryTranslation': 'CTTN[All Fields]'}}\n",
      "rs2135607633\n",
      "11:70436930\n",
      "HGVS=NC_000011.10:g.70436930T>G,NC_000011.9:g.70283036T>G,NG_029881.1:g.43425T>G,NW_021160005.1:g.198218T>G|SEQ=[T/G]|LEN=1|GENE=CTTN:2017\n",
      "rs2135607342\n",
      "11:70436802\n",
      "HGVS=NC_000011.10:g.70436802A>C,NC_000011.9:g.70282908A>C,NG_029881.1:g.43297A>C,NW_021160005.1:g.198090A>C|SEQ=[A/C]|LEN=1|GENE=CTTN:2017\n"
     ]
    }
   ],
   "source": [
    "import requests\n",
    "import xmltodict\n",
    "# Pas necassaire pour le travail à faire mais\n",
    "# simplement pour afficher ce qui revient du serveur\n",
    "import xml.dom.minidom\n",
    "\n",
    "#\n",
    "# URl statique: correspond à la portion invariable de l'URL\n",
    "#\n",
    "search_url = \"https://eutils.ncbi.nlm.nih.gov/entrez/eutils/esearch.fcgi?\"\n",
    "#\n",
    "# Preparation de la requete\n",
    "#\n",
    "headers = {'content-type': 'application/x-www-form-urlencoded'}\n",
    "#\n",
    "# Création des paramètres. \n",
    "# Notez que ça pourrait etre fait de maniere programmatique \n",
    "#\n",
    "# Je limite mon résultat aux deux premiers SNP\n",
    "#\n",
    "params = {\n",
    "    \"db\" : \"snp\",\n",
    "    \"term\": \"CTTN\",\n",
    "    \"retMax\": 2,\n",
    "    \"rettype\": \"XML\"\n",
    "}\n",
    "#\n",
    "# Envoyez la requete\n",
    "#\n",
    "res = requests.get(search_url, params=params,headers=headers)\n",
    "#\n",
    "# Retirez les commentaires pour voir..\n",
    "# Juste pour vous montrer de quoi à l'air le format XML :-)\n",
    "#\n",
    "#print(\"=========== Sortie XML ===========\\n\")\n",
    "#temp = xml.dom.minidom.parseString(res.content) \n",
    "#new_xml = temp.toprettyxml(indent=\" \") \n",
    "#print(new_xml) \n",
    "#print(\"==================================\\n\")\n",
    "\n",
    "# C'est avec ça que nous allons travailler!\n",
    "aDict = xmltodict.parse(res.content)\n",
    "print(\"Voici le contenu de notre dictionnaire:\")\n",
    "print(aDict)\n",
    "# On recupère le contenu de la clé eSearchResult\n",
    "# créé par le parsing du contenu XML\n",
    "aDict = aDict[\"eSearchResult\"]\n",
    "\n",
    "#\n",
    "# Maintenant on récupère les infos de chacun des éléments Id sous IdList\n",
    "#\n",
    "idList = aDict[\"IdList\"]\n",
    "idList = idList[\"Id\"]\n",
    "\n",
    "for i in idList:\n",
    "    fetch_url = \"https://eutils.ncbi.nlm.nih.gov/entrez/eutils/efetch.fcgi?db=snp&id=\"+i+\"&retmode=xml\"\n",
    "    res = requests.get(fetch_url,headers=headers)\n",
    "    aVar = xmltodict.parse(res.content)\n",
    "    # Imprimons l'identificateur rs\n",
    "    print(\"rs\"+i)\n",
    "    myDict = aVar[\"ExchangeSet\"]\n",
    "    print(myDict[\"DocumentSummary\"][\"CHRPOS\"])\n",
    "    print(myDict[\"DocumentSummary\"][\"DOCSUM\"])"
   ]
  },
  {
   "cell_type": "code",
   "execution_count": null,
   "id": "cc4bfcb8-468f-4c92-8db3-e1f1be761fd8",
   "metadata": {},
   "outputs": [],
   "source": []
  }
 ],
 "metadata": {
  "kernelspec": {
   "display_name": "Python 3 (ipykernel)",
   "language": "python",
   "name": "python3"
  },
  "language_info": {
   "codemirror_mode": {
    "name": "ipython",
    "version": 3
   },
   "file_extension": ".py",
   "mimetype": "text/x-python",
   "name": "python",
   "nbconvert_exporter": "python",
   "pygments_lexer": "ipython3",
   "version": "3.12.1"
  }
 },
 "nbformat": 4,
 "nbformat_minor": 5
}
