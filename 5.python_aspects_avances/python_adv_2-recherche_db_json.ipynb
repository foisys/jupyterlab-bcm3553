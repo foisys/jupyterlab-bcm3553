{
 "cells": [
  {
   "cell_type": "markdown",
   "id": "4347ef89-5a10-4413-80ee-6c7ed41d4b33",
   "metadata": {},
   "source": [
    "# Aspects (plus) avancés pour la bioinformatique: recherche dans une base de données distante, version JSON et MyGene.info\n",
    "<p>Le processus de collecte d'informations pour un processus d'annotation requiert des recherches sur des bases de données pré-existantes. De manière non-programmatique, on commence par aller sur une page web, on inscrit un ou plusieurs critères de recherche et le site nous retourne un ou des pages de résultats. Ok, c'est cool mais comment intégrer ça dans une structure de données? Il est tout à fait possible de le faire programmatiquement via Python. Dans les exemples qui suivent, nous allons utiliser le service MyGene.info pour faire notre recherche et notre collecte d'informations.\n",
    "    \n",
    "[https://www.mygene.info](MyGene.info)  nous permet également de rechercher les informations contenues dans un génome par position chromosomique, très intéressant lorsqu'on veut avoir de l'information rapidement sur un voisinage ;-) Reprenons l'information sur notre gène CTTN et regardons quels gènes se trouvent de part et d'autre dans un intervalle de 100000 nucléotides. Encore une fois, la clé est dans l'utilisation d'un URL un peu spécial!\n",
    "\n",
    "#### Code de démonstration"
   ]
  },
  {
   "cell_type": "code",
   "execution_count": 2,
   "id": "b7eb04bc-025f-4af7-a4ab-15ef2ef01af6",
   "metadata": {
    "tags": []
   },
   "outputs": [
    {
     "name": "stdout",
     "output_type": "stream",
     "text": [
      "q=chr11:70298404-70536584&species:9606\n",
      "{'took': 327, 'total': 183, 'max_score': 10.156576, 'hits': [{'_id': 'ENSG00000227726', '_score': 10.156576, 'taxid': 9606}, {'_id': '2017', '_score': 10.156576, 'entrezgene': '2017', 'name': 'cortactin', 'symbol': 'CTTN', 'taxid': 9606}, {'_id': '8500', '_score': 10.156576, 'entrezgene': '8500', 'name': 'PTPRF interacting protein alpha 1', 'symbol': 'PPFIA1', 'taxid': 9606}, {'_id': 'ENSG00000254495', '_score': 10.156576, 'taxid': 9606}, {'_id': 'ENSG00000255539', '_score': 10.156576, 'taxid': 9606}, {'_id': 'ENSG00000254484', '_score': 10.156576, 'taxid': 9606}, {'_id': 'ENSG00000254604', '_score': 10.156576, 'taxid': 9606}, {'_id': '22941', '_score': 10.156576, 'entrezgene': '22941', 'name': 'SH3 and multiple ankyrin repeat domains 2', 'symbol': 'SHANK2', 'taxid': 9606}, {'_id': 'ENSG00000246889', '_score': 10.156576, 'name': 'CTTN divergent transcript', 'symbol': 'CTTN-DT', 'taxid': 9606}, {'_id': '216871', '_score': 8.518418, 'entrezgene': '216871', 'name': 'glycolipid transfer protein domain containing 2', 'symbol': 'Gltpd2', 'taxid': 10090}]}\n",
      "========================\n",
      "Gene ID ENSG00000227726 : no more info!\n",
      "Gene ID 2017 : CTTN | cortactin\n",
      "Gene ID 8500 : PPFIA1 | PTPRF interacting protein alpha 1\n",
      "Gene ID ENSG00000254495 : no more info!\n",
      "Gene ID ENSG00000255539 : no more info!\n",
      "Gene ID ENSG00000254484 : no more info!\n",
      "Gene ID ENSG00000254604 : no more info!\n",
      "Gene ID 22941 : SHANK2 | SH3 and multiple ankyrin repeat domains 2\n",
      "Gene ID ENSG00000246889 : CTTN-DT | CTTN divergent transcript\n",
      "Gene ID 216871 : Gltpd2 | glycolipid transfer protein domain containing 2\n"
     ]
    }
   ],
   "source": [
    "import requests\n",
    "import simplejson\n",
    "\n",
    "# Il y a près de 350 champs possibles...\n",
    "fields = '?fields=genomic_pos'\n",
    "# Preparation de la requete\n",
    "headers = {'content-type': 'application/x-www-form-urlencoded'}\n",
    "mygene_url = \"https://mygene.info/v3/gene/2017\"+fields\n",
    "# Envoyez la requete\n",
    "res = requests.get(mygene_url,headers=headers)\n",
    "data = res.json()\n",
    "\n",
    "# Interceptons les valeurs nécessaires\n",
    "# Pourquoi l'item 0 du sous-dictionnaire?\n",
    "# Parce que le reste est sur une autre séquence!\n",
    "# Remarquez aussi la conversion en chaines de caractères\n",
    "chr = str(data['genomic_pos'][0]['chr'])\n",
    "\n",
    "posStart = data['genomic_pos'][0]['start'] - 100000\n",
    "posStart = str(posStart)\n",
    "posEnd = data['genomic_pos'][0]['end'] + 100000\n",
    "posEnd = str(posEnd)\n",
    "\n",
    "# Créons un nouvel URL de recherche\n",
    "query = \"q=chr\"+chr+\":\"+posStart+\"-\"+posEnd+\"&species:9606\"\n",
    "print(query)\n",
    "\n",
    "# Preparation de la requete\n",
    "mygene_url = \"https://mygene.info/v3/query?\"+query\n",
    "\n",
    "# Envoyez la requete\n",
    "res = requests.get(mygene_url,headers=headers)\n",
    "data = res.json()\n",
    "print(data)\n",
    "print(\"========================\")\n",
    "# Presentation un peu plus soignée :-)\n",
    "for i in data[\"hits\"]:\n",
    "    tmp = \"Gene ID \"+i[\"_id\"]\n",
    "    if \"name\" in i:\n",
    "        tmp = tmp+\" : \"+i[\"symbol\"]+\" | \"+i[\"name\"]\n",
    "    else:\n",
    "        tmp = tmp+\" : no more info!\"\n",
    "    print(tmp)\n"
   ]
  },
  {
   "cell_type": "code",
   "execution_count": null,
   "id": "45b4fcc3-74b2-4bfb-960b-e06e6307b429",
   "metadata": {},
   "outputs": [],
   "source": []
  }
 ],
 "metadata": {
  "kernelspec": {
   "display_name": "Python 3 (ipykernel)",
   "language": "python",
   "name": "python3"
  },
  "language_info": {
   "codemirror_mode": {
    "name": "ipython",
    "version": 3
   },
   "file_extension": ".py",
   "mimetype": "text/x-python",
   "name": "python",
   "nbconvert_exporter": "python",
   "pygments_lexer": "ipython3",
   "version": "3.12.2"
  }
 },
 "nbformat": 4,
 "nbformat_minor": 5
}
