{
 "cells": [
  {
   "cell_type": "markdown",
   "id": "4347ef89-5a10-4413-80ee-6c7ed41d4b33",
   "metadata": {},
   "source": [
    "# Aspects (plus) avancés pour la bioinformatique: obtenir une séquence directement de GenBank au NCBI\n",
    "De temps à autre, on a besoin d'une séquence particulière pour y mettre notre grain de sel: clonage, séquences orthologues, etc. Il est possible d'aller chercher directement ces séquences (de quelque nature que ce soit) via la méthode des URL spécialement écrits. Pas mal toutes les informations du NCBI sont disponibles en utilisant les outils E-Utilities, spécifiquemment la fonction `efetch`.\n",
    "Pour que cette méthode fonctionne, on doit obligatoirement spécifié certains paramètres:\n",
    "\n",
    " - `db`: la base de données du NCBI à utiliser. La liste compléte des bases de données est disponibles ici: [https://eutils.ncbi.nlm.nih.gov/entrez/eutils/einfo.fcgi](https://eutils.ncbi.nlm.nih.gov/entrez/eutils/einfo.fcgi)\n",
    " - `id`: indentificateur de l'item à récupérer dans la base de données spécifiée par db;\n",
    " - `rettype`: le format à utiliser pour les données qui vous reviendront;\n",
    " - `retmode`: le type de données qui reviendra.\n",
    "\n",
    "Dans les exemples qui suivront, nous allons rechercher des séquences par GeneID et par position chromosomique.\n",
    "\n",
    "### Extraction de séquences via identificateur unique"
   ]
  },
  {
   "cell_type": "code",
   "execution_count": 1,
   "id": "45b4fcc3-74b2-4bfb-960b-e06e6307b429",
   "metadata": {},
   "outputs": [
    {
     "name": "stdout",
     "output_type": "stream",
     "text": [
      "https://eutils.ncbi.nlm.nih.gov/entrez/eutils/efetch.fcgi?db=nuccore&id=NM_005231.4&rettype=fasta&retmode=text\n",
      ">NM_005231.4 Homo sapiens cortactin (CTTN), transcript variant 1, mRNA\n",
      "GGAACCGGAAGTAGAGCCTGGTGCCTGGGAGCGGCTGGCGCGGCGGAATCCAGGGCCGACCCGGGCCGGA\n",
      "CCGACCCCAGGCGGCGACGGAATCAGTCCCCAATGCCTGGAAATTCCTCATTGGATTACTGTGTTTTAAA\n",
      "CAGAATTTCGTGAACAGCCTTTTATCTCCAAGCGGAAAGAAAGATGTGGAAAGCTTCAGCAGGCCACGCT\n",
      "GTGTCCATCGCCCAGGATGACGCGGGGGCCGATGACTGGGAGACCGACCCTGATTTTGTGAATGATGTGA\n",
      "GTGAGAAGGAGCAAAGATGGGGTGCCAAGACGGTGCAGGGCTCCGGGCACCAGGAGCATATCAACATACA\n",
      "CAAGCTGAGGGAGAATGTCTTTCAAGAGCATCAGACCCTTAAGGAGAAGGAACTTGAAACAGGACCAAAA\n",
      "GCTTCCCATGGCTATGGAGGGAAATTTGGTGTGGAACAAGACCGAATGGATAAGTCAGCTGTCGGCCACG\n",
      "AATATCAGTCGAAACTTTCCAAGCACTGCTCGCAGGTGGACTCGGTCCGTGGCTTCGGAGGCAAGTTTGG\n",
      "TGTCCAGATGGACAGAGTTGATCAGTCTGCTGTAGGCTTTGAATACCAGGGGAAGACTGAGAAGCATGCC\n",
      "TCCCAGAAAGACTACTCCAGTGGTTTTGGCGGCAAGTATGGCGTGCAGGCCGACCGAGTAGACAAGAGCG\n",
      "CGGTGGGCTTCGACTACCAGGGCAAGACGGAGAAGCACGAGTCACAGAGAGATTACTCCAAAGGTTTCGG\n",
      "CGGCAAATACGGTATCGACAAGGACAAAGTGGATAAGAGCGCCGTTGGCTTTGAGTATCAAGGCAAAACG\n",
      "GAGAAGCACGAGTCCCAGAAAGACTATGTGAAAGGGTTTGGAGGAAAATTTGGTGTGCAGACAGACAGAC\n",
      "AAGACAAATGTGCCCTTGGCTGGGATCACCAGGAGAAATTGCAGCTGCATGAATCCCAAAAAGATTATAA\n",
      "GACTGGTTTTGGAGGCAAATTCGGTGTTCAGTCGGAGAGGCAGGACTCCGCTGCTGTGGGGTTTGATTAC\n",
      "AAGGAGAAGCTGGCCAAGCACGAGTCCCAGCAAGACTACTCCAAAGGATTCGGCGGGAAGTATGGGGTGC\n",
      "AGAAGGATCGGATGGATAAGAATGCGTCAACCTTTGAGGATGTCACCCAGGTGTCCTCTGCCTACCAGAA\n",
      "GACAGTACCTGTCGAAGCTGTGACCAGCAAAACAAGTAACATCAGAGCTAACTTTGAAAACCTCGCTAAG\n",
      "GAGAAAGAGCAGGAGGACAGGCGGAAGGCGGAGGCGGAGAGAGCCCAGCGGATGGCCAAGGAGCGGCAGG\n",
      "AGCAGGAAGAGGCCAGGAGGAAGCTGGAGGAGCAAGCCAGAGCCAAAACGCAAACGCCCCCTGTGTCGCC\n",
      "CGCACCTCAGCCAACCGAGGAGAGGCTGCCCTCGAGCCCCGTCTATGAGGATGCGGCTTCCTTCAAGGCA\n",
      "GAGCTGAGCTACAGAGGCCCTGTGAGTGGGACGGAGCCGGAGCCCGTGTACAGCATGGAGGCCGCTGACT\n",
      "ACCGAGAGGCCAGCAGCCAGCAGGGCCTGGCCTATGCCACAGAGGCTGTCTATGAAAGCGCAGAGGCCCC\n",
      "GGGCCACTATCCCGCAGAGGACAGCACCTACGATGAGTACGAGAACGATCTGGGGATCACAGCCGTCGCC\n",
      "CTGTACGACTACCAGGCTGCGGGCGATGATGAGATCTCATTTGACCCTGATGACATCATCACCAACATCG\n",
      "AGATGATTGACGACGGCTGGTGGCGCGGGGTGTGCAAGGGCCGGTACGGGCTCTTCCCAGCCAACTATGT\n",
      "GGAGCTGCGGCAGTAGGGCCCCCAGCCCCCCCCCGGAGCTGCGCCCTGGATCCTCACACTACAGATCAGG\n",
      "CCTTCTTTGGTTCTTGGGTGGTTTTGGGTTTTTTCTGTTTTTTTTTTTTTTTTTTTTTTTTTGAAGGTGG\n",
      "GGAGGGGAATATACACATTGCTTTTATATTTAATACTTTTGCTGATGCTTTTGAAAATGTTTATGCCACA\n",
      "GAATTTGCTAATATATTGTAATCACATTCCTTAGGAGGACTTTGGTAATTGGTTTTATGCATTGATGGTT\n",
      "TTTTTTTTCTTTTTTGCCAAATTGACTGTCACGCGGCAGCTTCAGGGAGCTCGCATTCTCTTGTGTTCGT\n",
      "GTTGCCCTCGTGCCCATCAAGTGCAGTCGGGACCTCCCAGGACAAGCACGAGGCCTCAGGTCGGCCCTGT\n",
      "GGCGGGTAGGCAGGAAGGACTGTCCCAGACGAGGGGCTTCCTCTAGAGTCTCACTGCTGGGGAGGAGAGG\n",
      "ACTGGGCCTGATGGAAGTTAACCCGGAGCTAAGTCACCCAGAGCACAGGAGCTGCCATGTCAGATGGGAA\n",
      "ATCTGCCTATGTCATACCGTGACAGCCCGCAGGATCAGGTGACTTCTAGCAGAGACCCTGGTTTTTTTCC\n",
      "TGTGCCCACTCCGGCTTGTCCTCATCTCTACCCATCCCCTGATGCCCAGGTCACCGGGAGGGCTGCTGGG\n",
      "AGCCTCTCCTGTCCCCGCCGGGCAGTGTCACTGAGTCCTTGAAATCCTCCCCTGCCCCGCGGGTCTCTGG\n",
      "ATTGGGACGCACAGTGCAGTTGAGGTCTGCGTCGGGCTTGGCTTTTCACAAAGGCTGATGTCTTAACTGT\n",
      "CACCCATATGGTCCCTGGGCCACCGGGCAGCCTGGGGCGGTGTGTGTGCCATGTCACAGCATGGCCTCTC\n",
      "GGCCTTGGGAAGGAAGGCAGTGCCTGCTCTGCTGTGAGCCGCCAGGAACCCTCCTCCTGTCAATGGGGGT\n",
      "GTAGTATTTTTGCCAAAATATCATGTTCAATTTCAGTAGTTTGATCAGTTGAAGGCTAGAAGTGTGAAGT\n",
      "GCAGATGAGTGTGTGTTCTTCCCCAAGGTCCCCCCACAGCTCCAGGACACCGCTGTCCTGGCATTTGTGG\n",
      "CCACTCACTTTGTAGGAAACTCATCTCCTTCCTGAGGAGCCGGGAGGCTGGACCAGTCCCGTCGTGCAGT\n",
      "CAGGTGGGCGGTGTGTCTTTCCAGAAGGTCACGTGGAAATGTCTCGGGACTTGGGTCCCGGAGTGCCCGT\n",
      "GAAGCGTGTTTTTGCTCCTGAGGTGCATTTTCTCATCATCCTTGCTTTACCACAATGAGCAATGAGGTCG\n",
      "GGTTTTATATGCAACTTATTGTATCTGAATTCCTGTAGCACACCTCATAGGTATGATTTTTTTAAATTAA\n",
      "AGAATTCAGAATAAACATTTTTTGATCCA\n",
      "\n",
      "\n",
      ">NP_005222.2 src substrate cortactin isoform a [Homo sapiens]\n",
      "MWKASAGHAVSIAQDDAGADDWETDPDFVNDVSEKEQRWGAKTVQGSGHQEHINIHKLRENVFQEHQTLK\n",
      "EKELETGPKASHGYGGKFGVEQDRMDKSAVGHEYQSKLSKHCSQVDSVRGFGGKFGVQMDRVDQSAVGFE\n",
      "YQGKTEKHASQKDYSSGFGGKYGVQADRVDKSAVGFDYQGKTEKHESQRDYSKGFGGKYGIDKDKVDKSA\n",
      "VGFEYQGKTEKHESQKDYVKGFGGKFGVQTDRQDKCALGWDHQEKLQLHESQKDYKTGFGGKFGVQSERQ\n",
      "DSAAVGFDYKEKLAKHESQQDYSKGFGGKYGVQKDRMDKNASTFEDVTQVSSAYQKTVPVEAVTSKTSNI\n",
      "RANFENLAKEKEQEDRRKAEAERAQRMAKERQEQEEARRKLEEQARAKTQTPPVSPAPQPTEERLPSSPV\n",
      "YEDAASFKAELSYRGPVSGTEPEPVYSMEAADYREASSQQGLAYATEAVYESAEAPGHYPAEDSTYDEYE\n",
      "NDLGITAVALYDYQAAGDDEISFDPDDIITNIEMIDDGWWRGVCKGRYGLFPANYVELRQ\n",
      "\n",
      "\n"
     ]
    }
   ],
   "source": [
    "import requests\n",
    "\n",
    "efetchURL = \"https://eutils.ncbi.nlm.nih.gov/entrez/eutils/efetch.fcgi?\"\n",
    "# ARNm de l'isoforme A de la CTTN\n",
    "cttn_rna = \"NM_005231.4\"\n",
    "# Seq. correspondante en acides aminés\n",
    "cttn_aa = \"NP_005222.2\"\n",
    "rettype = \"fasta\"\n",
    "retmode = \"text\"\n",
    "\n",
    "# Preparation de la requete\n",
    "headers = {'content-type': 'application/x-www-form-urlencoded'}\n",
    "eutils_url_rna = efetchURL+\"db=nuccore&id=\"+cttn_rna+\"&rettype=\"+rettype+\"&retmode=\"+retmode\n",
    "print(eutils_url_rna)\n",
    "\n",
    "# Envoyez la requete\n",
    "res = requests.get(eutils_url_rna,headers=headers)\n",
    "\n",
    "# Le flux de données est en binaire; il faut donc le convertir en texte on the fly\n",
    "seq_nuc = res.content.decode('UTF-8')\n",
    "print(seq_nuc)\n",
    "\n",
    "eutils_url_aa = efetchURL+\"db=protein&id=\"+cttn_aa+\"&rettype=\"+rettype+\"&retmode=\"+retmode\n",
    "\n",
    "res = requests.get(eutils_url_aa,headers=headers)\n",
    "\n",
    "# Le flux de données est en binaire; il faut donc le convertir en texte on the fly\n",
    "seq_aa = res.content.decode('UTF-8')\n",
    "print(seq_aa)\n",
    "\n",
    "# Après, faite ce qui doit être fait avec votre séquence :-)"
   ]
  },
  {
   "cell_type": "markdown",
   "id": "65fa450c-4239-41a2-80f1-80a8a514bd8f",
   "metadata": {},
   "source": [
    "### Extraction d'une portion de séquence provenant d'un identificateur unique"
   ]
  },
  {
   "cell_type": "code",
   "execution_count": 1,
   "id": "cfbb2c0d-57ff-4836-a830-d7da23fd6635",
   "metadata": {
    "tags": []
   },
   "outputs": [
    {
     "name": "stdout",
     "output_type": "stream",
     "text": [
      "['>NC_000011.10:70398529-135086622 Homo sapiens chromosome 11, GRCh38.p14 Primary Assembly', 'GGAACCGGAAGTAGAGCCTGGTGCCTGGGAGCGGCTGGCGCGGCGGAATCCAGGGCCGACCCGGGCCGGA', 'CCGACCCCAGGCGGCGGTGAGCGAGCGCGGCGTCCGCCCGGGGTGCAGGCCGGGCTCTGCTTCTTCCCTC']\n"
     ]
    }
   ],
   "source": [
    "import requests\n",
    "\n",
    "efetchURL = \"https://eutils.ncbi.nlm.nih.gov/entrez/eutils/efetch.fcgi?\"\n",
    "# Sequence du chr 11, ou se trouve CTTN\n",
    "cttn_gene = \"NC_000011.10\"\n",
    "# Positions des début et fin de l'exon 1\n",
    "cttn_x1_start = 70398529\n",
    "cttn_x1_stop = 70436575\n",
    "rettype = \"fasta\"\n",
    "retmode = \"text\"\n",
    "\n",
    "# Preparation de la requete\n",
    "headers = {'content-type': 'application/x-www-form-urlencoded'}\n",
    "params = {\n",
    "    \"db\" : \"nuccore\",\n",
    "    \"id\" : cttn_gene,\n",
    "    \"seq_start\" : cttn_x1_start,\n",
    "    \"seq_stopt\" : cttn_x1_stop,\n",
    "    \"rettype\" : rettype,\n",
    "    \"retmode\" : retmode\n",
    "}\n",
    "# Envoyez la requete\n",
    "res = requests.get(efetchURL,params=params,headers=headers)\n",
    "\n",
    "# Le flux de données est en binaire; il faut donc le convertir en texte on the fly\n",
    "seq_x1 = res.content.decode('UTF-8')\n",
    "# On reçoit une très longue chaine mélangeant commentaires et sequences MAIS \n",
    "# contenant le caractères '\\n' :-)\n",
    "allLines = seq_x1.split(\"\\n\")\n",
    "print(allLines[0:3])"
   ]
  },
  {
   "cell_type": "code",
   "execution_count": null,
   "id": "a8a2e04a-1778-4885-bde9-27f8f38e1a94",
   "metadata": {},
   "outputs": [],
   "source": []
  }
 ],
 "metadata": {
  "kernelspec": {
   "display_name": "Python 3 (ipykernel)",
   "language": "python",
   "name": "python3"
  },
  "language_info": {
   "codemirror_mode": {
    "name": "ipython",
    "version": 3
   },
   "file_extension": ".py",
   "mimetype": "text/x-python",
   "name": "python",
   "nbconvert_exporter": "python",
   "pygments_lexer": "ipython3",
   "version": "3.12.2"
  }
 },
 "nbformat": 4,
 "nbformat_minor": 5
}
