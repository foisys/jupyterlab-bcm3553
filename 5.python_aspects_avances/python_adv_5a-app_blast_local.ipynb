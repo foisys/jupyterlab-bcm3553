{
 "cells": [
  {
   "cell_type": "markdown",
   "id": "4347ef89-5a10-4413-80ee-6c7ed41d4b33",
   "metadata": {},
   "source": [
    "# Aspects (plus) avancés pour la bioinformatique: exécution d'un programme local\n",
    "\n",
    "Avec Python, on écrit souvent des programmes qui exécuteront un travail avec vos données sans recours à des outils externes mais on peut aussi utiliser Python pour utiliser notre poste de travail (que ce soit nu portable ou un serveur) pour exécuter des programmes spécialement dédiés à certaines fonctions qui sont hébergés sur cet ordinateur. Ça peut paraitre trivial mais il y a quand même des détails à noter pour que ça fonctionne bien :-)\n",
    "\n",
    "## Un exemple: Rouler BLAST sur votre poste de travail. \n",
    "\n",
    "Le logiciel d'alignement de séquences <i>pairwise</i> NCBI BLAST est, et de loin, le logiciel le plus utilisé en biologie moléculaire. Rappel: une séquence inconnue (contenant des nucléotides ou des acides aminés) est comparée contre toutes les séquences contenues dans une base de données; suite à l'exécution de BLAST, celui-ci retourne les résultats de la recherche de similarité entre la séquence inconnue et des séquences connues contenues dans une base de données.\n",
    "\n",
    "Un pré-requis absolu: le programme doit être soit disponible sur `$PATH`, soit accessible parce que vous connaissez sa localisatio ndans le système de fichier de votre poste de travail. DAns l'exemple que nous utiliserons, on assume que BLAST est sur `$PATH`. Quant à la nécessité d'avoir une base de données locales, on passera outre car BLAST à un paramétre, `-remote`, qui enverra notre reuête aux serveurs du NCBI pour utiliser leurs copies des bases de données. Dans notre exemple, nous utiliserons la base de données `refseq_protein` pour accélérer notre recherche.\n",
    "\n",
    "Une ligne de commande BLAST est minimalement contruit de la manière suivante (il y a une quantité impressionnante de possibilités...):\n",
    "\n",
    "```\n",
    "#\n",
    "# Disons que notre séquence en est une de protéines donc blastp\n",
    "#\n",
    "blastp -remote -query ma_sequence_aa.fa -out ma_sequence_aa.blast -db refseq_protein  \n",
    "```\n",
    "\n",
    "Mettre ça dans un script pourrait être intéressant: imaginons que vous voudriez tester l'effet de l'usage de diverses matrices de substitution sur les résultats de la recherche? Mettez vos crtitères dans une liste :-) \n",
    "\n",
    "Maintenant, comment interagir avec votre poste? Dans la littérature sur le sujet, il n'y a pas vraiment de consensus sur LA manière de faire car il existe par défaut dans une installation Python plusieurs façons de faire. Ici, nous utiliserons la méthode `subprocess` car elle nous permet des modes d'interaction intéressants pour interagir avec le poste effectuant le travail.\n",
    "\n"
   ]
  },
  {
   "cell_type": "code",
   "execution_count": 17,
   "id": "b7eb04bc-025f-4af7-a4ab-15ef2ef01af6",
   "metadata": {
    "tags": []
   },
   "outputs": [
    {
     "name": "stdout",
     "output_type": "stream",
     "text": [
      "b''\n",
      "b''\n",
      "b''\n",
      "b''\n",
      "b''\n",
      "b''\n"
     ]
    }
   ],
   "source": [
    "#\n",
    "# La librairie qui fait travail\n",
    "#\n",
    "import os\n",
    "import subprocess\n",
    "import time\n",
    "\n",
    "#\n",
    "# Imaginons nos matrices, \n",
    "# de la moins vers la plus stringente\n",
    "#\n",
    "matrix = [\"BLOSUM62\",\"BLOSUM80\",\"BLOSUM90\"]\n",
    "\n",
    "#\n",
    "# Ou se trouve/mettre les fichiers\n",
    "#\n",
    "aFileIn = os.path.abspath(\"../z.misc_files/data_seq/h.sapiens.cttn.iso.a.aa.fa\")\n",
    "aFileOut = os.path.abspath(\"../z.misc_files/data_seq/h.sapiens.cttn.iso.a.aa.blast\")\n",
    "\n",
    "db = \"refseq_protein\"\n",
    "\n",
    "cmd = [\"blastp\",\"-query\",aFileIn,\"-db\",db]\n",
    "#\n",
    "# Si nous avions une DB locale pour execution locale, on mettra cette valeur à False\n",
    "#\n",
    "remote = True\n",
    "\n",
    "if remote:\n",
    "    cmd.append(\"-remote\")\n",
    "#\n",
    "# On peut utiliser la méthode run ou la méthode Popen\n",
    "#\n",
    "# Je choisi d'ordinaire Popen car on a plus de controle sur ce qui se passe\n",
    "# On construit un tableau avec les valeurs nécessaires pour faire rouler... \n",
    "#\n",
    "# Juste une bonne pratique de vérifier que le fichier existe ;-)\n",
    "#\n",
    "if not os.path.exists(aFileIn):\n",
    "  exit(\"File named \"+aFileIn+\" does not exists...\")\n",
    "else:\n",
    "  for mat in matrix:\n",
    "    tmp = list.copy(cmd)\n",
    "    tmp.append(\"-matrix\")\n",
    "    tmp.append(mat)\n",
    "    tmp.append(\"-out\")\n",
    "    tmp.append(aFileOut+\".\"+mat)\n",
    "    #\n",
    "    # On passe tmp comme liste des parametres pour BLAST et on dit de capturer\n",
    "    # les sorties de la console (stdout) et les messages d'erreur (stderr) si\n",
    "    # on termine avec un état non-zéro.\n",
    "    #\n",
    "    run = subprocess.Popen(tmp,stdout=subprocess.PIPE, stderr=subprocess.PIPE)\n",
    "    #\n",
    "    # Ces variables vont contenir ce qui va sortir de BLAST. Si vous n'aviez pas \n",
    "    # spécifier un fichier de sortie, la variable out contiendrait votre résultat\n",
    "    # sous forme d'un tableau, à gérer en conséquence.\n",
    "    #\n",
    "    out, errors = run.communicate()\n",
    "\n",
    "    #print(out)\n",
    "    #print(errors)\n",
    "    tmp.clear()\n",
    "\n",
    "    #\n",
    "    # Important d'ajouter un délai entre les requetes pour ne pas se faire bloquer.\n",
    "    #\n",
    "    # 10 minutes, c'est peut etre beaucoup mais je sais que \n",
    "    # le NCBI ne me bloquera pas! \n",
    "    #\n",
    "    time.sleep(600)"
   ]
  },
  {
   "cell_type": "code",
   "execution_count": null,
   "id": "45b4fcc3-74b2-4bfb-960b-e06e6307b429",
   "metadata": {},
   "outputs": [],
   "source": []
  }
 ],
 "metadata": {
  "kernelspec": {
   "display_name": "Python 3 (ipykernel)",
   "language": "python",
   "name": "python3"
  },
  "language_info": {
   "codemirror_mode": {
    "name": "ipython",
    "version": 3
   },
   "file_extension": ".py",
   "mimetype": "text/x-python",
   "name": "python",
   "nbconvert_exporter": "python",
   "pygments_lexer": "ipython3",
   "version": "3.12.2"
  }
 },
 "nbformat": 4,
 "nbformat_minor": 5
}
