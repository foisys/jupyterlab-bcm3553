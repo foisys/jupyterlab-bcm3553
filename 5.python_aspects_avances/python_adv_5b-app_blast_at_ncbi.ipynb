{
 "cells": [
  {
   "cell_type": "markdown",
   "id": "4347ef89-5a10-4413-80ee-6c7ed41d4b33",
   "metadata": {},
   "source": [
    "# Aspects (plus) avancés pour la bioinformatique: exécution d'un programme distant via un URL\n",
    "\n",
    "## Comment faire une recherche BLAST en utilisant l'application hébergée au NCBI\n",
    "\n",
    "Nous n'avons pas nécessairement toutes les applications voulues sur notre poste de travail ou sur notre serveur... Il est possible d'exécuter une application à distance en tant que *web service*, c'est-à-dire accessible via un URL.\n",
    "\n",
    "Le service [BLAST URL API](https://blast.ncbi.nlm.nih.gov/doc/blast-help/developerinfo.html#developerinfo) permet de faire des alignements BLAST sur les serveurs du NCBI avec un simple (en fait pas si simple...) URL... mais pas directement :-(\n",
    "\n",
    "La tâche se déroule en trois temps:\n",
    "\n",
    "  - Il faut soumettre la tâche avec l'URL de soumission en spécifiant la séquence, le programme BLAST à utiliser, la base de données et tout autre paramètre pour faire le travail;\n",
    "  - Apràs la soumission, le serveur BLAST nous retourne un flux de données qui est en fait une page HTML. Dans tout ce code, il n'y a qu'un seul élément important pour nous, c'est le RID, c'est-à-dire l'identificateur de notre requête. Il est nécessaire pour récupérer le résultat de la tâche car cette méthode n'est pas interactive...\n",
    "  - Pour terminer, il nous faut récupérer nos résultats grâce à un autre URL permettant de limiter le nombre de résultats ou bien le format de sortie du résultat (texte ou bien XML par exemple).\n"
   ]
  },
  {
   "cell_type": "markdown",
   "id": "8af3d73b-8e8e-4b0c-8040-45a7de156f5e",
   "metadata": {},
   "source": [
    "#### Pré-requis nécessaire\n",
    "\n",
    "Il nous faut installer une librairie appelée *BeautifulSoup* qui nous permettra d'extraire la valeur du champ RID: "
   ]
  },
  {
   "cell_type": "code",
   "execution_count": 10,
   "id": "b766ec88-496c-4130-825d-f02819e4f589",
   "metadata": {},
   "outputs": [
    {
     "name": "stdout",
     "output_type": "stream",
     "text": [
      "Requirement already satisfied: beautifulsoup4 in /opt/miniconda3/lib/python3.12/site-packages (4.12.3)\n",
      "Requirement already satisfied: soupsieve>1.2 in /opt/miniconda3/lib/python3.12/site-packages (from beautifulsoup4) (2.6)\n"
     ]
    }
   ],
   "source": [
    "!pip install beautifulsoup4"
   ]
  },
  {
   "cell_type": "markdown",
   "id": "a962708f-433a-4945-9110-7b1ba8a26c88",
   "metadata": {},
   "source": [
    "#### Code de démonstration"
   ]
  },
  {
   "cell_type": "code",
   "execution_count": null,
   "id": "b7eb04bc-025f-4af7-a4ab-15ef2ef01af6",
   "metadata": {
    "tags": []
   },
   "outputs": [],
   "source": [
    "import requests\n",
    "from bs4 import BeautifulSoup\n",
    "from time import sleep\n",
    "\n",
    "# Demandé par le NCBI pour faire le suivi des requetes\n",
    "email = \"sylvain.foisy@umontreal.ca\"\n",
    "tool = \"bcm3553_demo_blast\"\n",
    "\n",
    "#\n",
    "# Consultez la documentation NCBI pour modifier selon vos besoins\n",
    "#\n",
    "# La liste des paramétres BLAST utilisables est ici:\n",
    "# https://blast.ncbi.nlm.nih.gov/doc/blast-help/urlapi.html#urlapi\n",
    "#\n",
    "# Parametre \"PROGRAM\"\n",
    "blastTool = \"blastn\"\n",
    "# Parametre \"DATABASE\"\n",
    "blastDb = \"core_nt\"\n",
    "\n",
    "#\n",
    "# Lire un fichier FASTA, ici de nucléotides\n",
    "# On se casse pas la tête avec la vérification...\n",
    "#\n",
    "readFile = open(\"../z.misc_files/data_seq/h.sapiens.cttn.iso.a.cdna.fa\",\"r\")\n",
    "seq = \"\"\n",
    "allLines = readFile.readlines()\n",
    "#\n",
    "# Quelle est la logique à utiliser? L'URL ne peut contenir que des caractères\n",
    "# conformes à l'alphabet IUPAC; il nous fait donc retirer le '>'. De plus,\n",
    "# l'URL ne peut contenir de retour de chariot dans la sequence envoyée; on\n",
    "# doit donc concaténer chaque ligne pour n'en faire qu'une seule\n",
    "#\n",
    "for aLine in allLines:\n",
    "    if aLine[0]!='>':\n",
    "        aLine  = aLine.replace('\\n','')\n",
    "        seq  = seq+aLine\n",
    "\n",
    "#\n",
    "# Portion statique de l'URL\n",
    "#\n",
    "blast_url = \"https://blast.ncbi.nlm.nih.gov/Blast.cgi?\"\n",
    "\n",
    "#\n",
    "# Portion spécifique à la soumission de la requete\n",
    "#\n",
    "# On utilise la méthode format pour envoyer les champs sequentiellement \n",
    "# dans la chaine de caracteres\n",
    "#\n",
    "cmds = \"CMD=Put&email={}&tool={}&PROGRAM={}&DATABASE={}&QUERY={}\".format(email,tool,blastTool,blastDb,seq)\n",
    "blast_url_post = blast_url+cmds\n",
    "\n",
    "# Preparation de la requete\n",
    "headers = {'content-type': 'application/x-www-form-urlencoded','connection':'keep-alive'}\n",
    "\n",
    "# Envoyez la requete\n",
    "res = requests.get(blast_url_post,headers = headers)\n",
    "#\n",
    "# Creons un objet BeautifulSoup contenant les donnes retournees\n",
    "#\n",
    "bowl = BeautifulSoup(res.text,\"html\")\n",
    "#\n",
    "# Recherchons LA ligne qui nous intéresse et\n",
    "# extrayons la donnee recherchee\n",
    "#\n",
    "# Logique: dans toutes les lignes avec le tag input, il nous faut trouver\n",
    "#          celle qui contient le champs rid\n",
    "#\n",
    "ridLine = bowl.find(\"input\", attrs={'id':\"rid\"})\n",
    "rid = ridLine.get('value')\n",
    "\n",
    "#\n",
    "# Une fois que l'analyse est complétée, utiliser le RID pour récupérer vos résultats d'alignement\n",
    "#\n",
    "# Pour laisser le temps à l'analyse de se faire et ne pas submerger le serveur...\n",
    "sleep(120)\n",
    "\n",
    "#\n",
    "# Portion specifique a la recuperation des resultats\n",
    "#\n",
    "cmds = \"CMD=Get&FORMAT_TYPE=Text&RID={}\".format(rid)\n",
    "blast_url_get = blast_url+cmds\n",
    "\n",
    "out = requests.get(blast_url_get,headers=headers)\n",
    "\n",
    "#\n",
    "# Écrivons nos résultats dans un fichier HTML\n",
    "#\n",
    "writeFile = open(\"../z.misc_files/data_seq/h.sapiens.cttn.iso.a.cdna.blastn.txt\",\"w\")\n",
    "writeFile.write(out.text)\n",
    "writeFile.close()"
   ]
  },
  {
   "cell_type": "code",
   "execution_count": null,
   "id": "7675b5ce-2c55-4fa8-b775-a69b968a555d",
   "metadata": {},
   "outputs": [],
   "source": []
  }
 ],
 "metadata": {
  "kernelspec": {
   "display_name": "Python 3 (ipykernel)",
   "language": "python",
   "name": "python3"
  },
  "language_info": {
   "codemirror_mode": {
    "name": "ipython",
    "version": 3
   },
   "file_extension": ".py",
   "mimetype": "text/x-python",
   "name": "python",
   "nbconvert_exporter": "python",
   "pygments_lexer": "ipython3",
   "version": "3.12.1"
  }
 },
 "nbformat": 4,
 "nbformat_minor": 5
}
