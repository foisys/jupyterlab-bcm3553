{
 "cells": [
  {
   "cell_type": "markdown",
   "id": "f9e0ca77-bdc0-4b90-b53c-afa6703beaf8",
   "metadata": {},
   "source": [
    "# Petit exercice: mettons les morceaux ensemble!\n",
    "\n",
    "Ok, on en sait suffisamment en Python pour tenter notre coup... Comment créer un script qui nous dira quel enzyme de restriction, provenant d'une liste donnée, est capable de couper une séquence d'ADN particulière.\n",
    "\n",
    "Qu'est-ce qu'un enzyme de restriction? C'est un enzyme reconnaissant une certaine sous-s&eacute;quence dans une plus grande séquence et qui coupera l'ADN. On a un problème car il existe deux types de ces enzymes:\n",
    "\n",
    "- Les enzymes de Type I coupent **à l'extérieur** du site de reconnaissance, souvent pas mal loin, quelque soit la séquence après le site;\n",
    "- Les enzymes de Type II coupent **à l'intérieur** du site de reconnaissance.\n",
    "\n",
    "Nous nous concentrerons sur le enzymes de Type II, plus facile à gérer. \n",
    "    \n",
    "Il nous faut également une source de données pour les infos concernant les enzymes de restriction; où trouver ça? Il existe un site référence: [REBASE chez la compagnie NEB](http://rebase.neb.com/rebase/rebase.html). Sur ce site, vous trouverez toutes les infos sur les enzymes connues, commercialement disponibles ou non. Elle est présentée dans la section \"Data files\". Quel fichier utilisé? Le format [DNA Strider](http://rebase.neb.com/rebase/rebase.f18.html) est probablement le plus simple: un seul enzyme par ligne et on peut distinguer les enzymes de classe I de ceux de classe II. Le seul problème est qu'il ne peut se charger programmatiquemment; il faut le télécharger en cliquant sur le lien et le sauver quelque part dans votre système de fichiers...\n",
    "\n",
    "Chaque site deviendra alors une expression régulière à rechercher mais il y a un piège... À vous de le découvrir!\n",
    "\n",
    "Un autre problème: reconnaitre où se trouve notre information de séquence... Nous utiliserons le format FASTA; pour mémoire:</p>\n",
    "```\n",
    ">Ceci est un exemple ADN\n",
    "ACGTTTAGCGCGTATAGCGTATGATGC\n",
    "```\n",
    "Notre problème? Ça aussi, c'est une séquence en format FASTA mais de protèines et on voit des \"bizarreries\":\n",
    "```\n",
    "> Ceci est un exemple proteine\n",
    "MWKASAGHAVSIAQDDAGADDWETDPDFVNDVSEK\n",
    "```\n",
    "Donc, il faudra s'assurer de la conformité du format ET du contenu. BTW: la solution pour les deux pièges ci-dessus s'appelle [IUPAC](https://en.wikipedia.org/wiki/Nucleic_acid_notation)..."
   ]
  }
 ],
 "metadata": {
  "kernelspec": {
   "display_name": "Python 3 (ipykernel)",
   "language": "python",
   "name": "python3"
  },
  "language_info": {
   "codemirror_mode": {
    "name": "ipython",
    "version": 3
   },
   "file_extension": ".py",
   "mimetype": "text/x-python",
   "name": "python",
   "nbconvert_exporter": "python",
   "pygments_lexer": "ipython3",
   "version": "3.12.1"
  }
 },
 "nbformat": 4,
 "nbformat_minor": 5
}
