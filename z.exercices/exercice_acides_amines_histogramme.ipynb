{
 "cells": [
  {
   "cell_type": "markdown",
   "id": "092f626e-a8f2-4d91-8539-b504bc9a6d7b",
   "metadata": {},
   "source": [
    "# Petit exercice: mettons les morceaux ensembles!\n",
    "\n",
    "Ok, tentons l'exercice suivant: comment représenter dans un graphe à barres, les différentes familles d'acides aminés contenues dans une séquences de protéine?\n",
    "\n",
    "Comment s'y prendre?\n",
    "\n",
    "- Lire le fichier\n",
    "- Valider que c'est une séquence d'acides aminés et non de nucléotides\n",
    "- Définir les classes d'acides aminés\n",
    "- Pour chaque acide aminé lû, le mettre dans la bonne classe\n",
    "- Une fois la lecture de la séquence terminée, calculer le nombre d'items dans chaque classe\n",
    "- Prendre ces valeurs pour créer notre graphe à barres.\n",
    "- Dans ce graphe, mettons titre, identification et valeurs des axes\n",
    "- Parce qu'on veut s'amuser, mettons des couleurs différentes :-)\n",
    "\n",
    "Vous pouvez prendre BioPython pour commencer et Matplotlib pour la suite!!"
   ]
  }
 ],
 "metadata": {
  "kernelspec": {
   "display_name": "Python 3 (ipykernel)",
   "language": "python",
   "name": "python3"
  },
  "language_info": {
   "codemirror_mode": {
    "name": "ipython",
    "version": 3
   },
   "file_extension": ".py",
   "mimetype": "text/x-python",
   "name": "python",
   "nbconvert_exporter": "python",
   "pygments_lexer": "ipython3",
   "version": "3.12.1"
  }
 },
 "nbformat": 4,
 "nbformat_minor": 5
}
