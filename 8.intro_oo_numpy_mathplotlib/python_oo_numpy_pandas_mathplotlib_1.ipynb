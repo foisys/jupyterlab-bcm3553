{
 "cells": [
  {
   "cell_type": "markdown",
   "id": "c913808a-97c9-484b-a719-821aa04dc6bc",
   "metadata": {},
   "source": [
    "# Python pour biochimistes: programmation orientée-objet et création de graphes\n",
    "\n",
    "## Introduction\n",
    "\n",
    "Une autre tâche courante est l'extraction de données tabulées à partir de fichiers `.csv` (*comma-spaced values*) ou `.xls/.xslx` (MS Excel) pour faire des calculs ou bien pour faire des graphiques. Python possède trois librairies très puissantes pour réussir ces tâches:\n",
    "\n",
    "- [Numpy](https://numpy.org), une puissante librairie pour des calculs et des analyses statistiques | [Documentation](https://numpy.org/doc/stable/)\n",
    "- [Pandas](https://pandas.pydata.org), augmente la puissance de Numpy en ajoutant encore plus de fonctions | [Documentation](https://pandas.pydata.org/docs/)\n",
    "- [Matplotlib](https://matplotlib.org), une librairie spécialisée pour la présentation graphique des analyses numériques | [Documentation](https://matplotlib.org/3.8.2/index.html)\n",
    "\n",
    "## Pré-requis\n",
    "\n",
    "Il faut s'assurer d'avoir les modules nécessaires dans notre environnement:"
   ]
  },
  {
   "cell_type": "code",
   "execution_count": 2,
   "id": "9d0fadfd-954d-42e0-b80a-f2a78fe84ea1",
   "metadata": {
    "scrolled": true
   },
   "outputs": [
    {
     "name": "stdout",
     "output_type": "stream",
     "text": [
      "Requirement already satisfied: numpy in /Library/Frameworks/Python.framework/Versions/3.12/lib/python3.12/site-packages (1.26.3)\n",
      "Requirement already satisfied: pandas in /Library/Frameworks/Python.framework/Versions/3.12/lib/python3.12/site-packages (2.1.4)\n",
      "Requirement already satisfied: matplotlib in /Library/Frameworks/Python.framework/Versions/3.12/lib/python3.12/site-packages (3.8.2)\n",
      "Collecting openpyxl\n",
      "  Downloading openpyxl-3.1.2-py2.py3-none-any.whl (249 kB)\n",
      "\u001b[2K     \u001b[90m━━━━━━━━━━━━━━━━━━━━━━━━━━━━━━━━━━━━━━━\u001b[0m \u001b[32m250.0/250.0 kB\u001b[0m \u001b[31m3.0 MB/s\u001b[0m eta \u001b[36m0:00:00\u001b[0m00:01\u001b[0m00:01\u001b[0m\n",
      "\u001b[?25hRequirement already satisfied: python-dateutil>=2.8.2 in /Library/Frameworks/Python.framework/Versions/3.12/lib/python3.12/site-packages (from pandas) (2.8.2)\n",
      "Requirement already satisfied: pytz>=2020.1 in /Library/Frameworks/Python.framework/Versions/3.12/lib/python3.12/site-packages (from pandas) (2023.3.post1)\n",
      "Requirement already satisfied: tzdata>=2022.1 in /Library/Frameworks/Python.framework/Versions/3.12/lib/python3.12/site-packages (from pandas) (2023.4)\n",
      "Requirement already satisfied: contourpy>=1.0.1 in /Library/Frameworks/Python.framework/Versions/3.12/lib/python3.12/site-packages (from matplotlib) (1.2.0)\n",
      "Requirement already satisfied: cycler>=0.10 in /Library/Frameworks/Python.framework/Versions/3.12/lib/python3.12/site-packages (from matplotlib) (0.12.1)\n",
      "Requirement already satisfied: fonttools>=4.22.0 in /Library/Frameworks/Python.framework/Versions/3.12/lib/python3.12/site-packages (from matplotlib) (4.47.2)\n",
      "Requirement already satisfied: kiwisolver>=1.3.1 in /Library/Frameworks/Python.framework/Versions/3.12/lib/python3.12/site-packages (from matplotlib) (1.4.5)\n",
      "Requirement already satisfied: packaging>=20.0 in /Library/Frameworks/Python.framework/Versions/3.12/lib/python3.12/site-packages (from matplotlib) (23.2)\n",
      "Requirement already satisfied: pillow>=8 in /Library/Frameworks/Python.framework/Versions/3.12/lib/python3.12/site-packages (from matplotlib) (10.2.0)\n",
      "Requirement already satisfied: pyparsing>=2.3.1 in /Library/Frameworks/Python.framework/Versions/3.12/lib/python3.12/site-packages (from matplotlib) (3.1.1)\n",
      "Collecting et-xmlfile (from openpyxl)\n",
      "  Downloading et_xmlfile-1.1.0-py3-none-any.whl (4.7 kB)\n",
      "Requirement already satisfied: six>=1.5 in /Library/Frameworks/Python.framework/Versions/3.12/lib/python3.12/site-packages (from python-dateutil>=2.8.2->pandas) (1.16.0)\n",
      "Installing collected packages: et-xmlfile, openpyxl\n",
      "Successfully installed et-xmlfile-1.1.0 openpyxl-3.1.2\n"
     ]
    }
   ],
   "source": [
    "!pip install numpy pandas matplotlib openpyxl"
   ]
  },
  {
   "cell_type": "markdown",
   "id": "507ef373-8457-4301-98d1-995ae3b42d6f",
   "metadata": {},
   "source": [
    "### Démonstration\n",
    "\n",
    "Pandas permet la création deux types d'objets:\n",
    "\n",
    "- Des objets de la classe `Series`, tout à fait semblables à des listes;\n",
    "- Des objets de la classe `DataFrame` qui sont comme des matrices de données bidimensionnelles, avec rangées et colonnes.\n",
    "\n",
    "C'est sur ces objets que nous pourrons faire nos tâches grâce aux méthodes qui leur sont associé."
   ]
  },
  {
   "cell_type": "code",
   "execution_count": 3,
   "id": "b4ed67e0-d759-4577-9e5e-218ca93c748c",
   "metadata": {},
   "outputs": [
    {
     "name": "stdout",
     "output_type": "stream",
     "text": [
      "           nom   prenom  exam_1  exam_2  exam_3\n",
      "0        Jones     Indy      90      72      58\n",
      "1        Jones    Henry      60      76      78\n",
      "2        Vader    Darth      28      41      28\n",
      "3     Empreror     Evil      39      47      30\n",
      "4       Windhu     Mace      66      64      60\n",
      "5       Kenobi  Obi-Wan      79      61      69\n",
      "6    Skywalker     Luke      21      47      78\n",
      "7        Brody   Marcus      70      53      64\n",
      "8    Schneider     Elsa      21      25      34\n",
      "9    Ravenwood   Marion      53      86      60\n",
      "10      Belloq     Rene      20      50      36\n",
      "11       Scott   Willie      72      90      61\n",
      "12     Amidala    Padme      57      78      50\n",
      "13       Round    Short      90      55      77\n",
      "14      Spalko    Irina      30      24      60\n",
      "15       Andor  Cassian      82      88      63\n",
      "16        Solo      Han      74      59      64\n",
      "17    Antilles    Wedge      81      85      63\n",
      "18  Calrissian    Lando      77      66      63\n",
      "19      Djarin      Din      56      81      68\n",
      "Noms des colonnes:\n",
      "=> nom\n",
      "=> prenom\n",
      "=> exam_1\n",
      "=> exam_2\n",
      "=> exam_3\n",
      "=> Nbre d'etudiants:20\n",
      "=> Nbre de colonnes de données:5\n",
      "Résultat de l'examen I (methode ordinale): 90\n",
      "Résultat de l'examen I (recherche explicite): 90\n",
      "nom       Jones\n",
      "prenom    Henry\n",
      "exam_1       60\n",
      "exam_2       76\n",
      "exam_3       78\n",
      "Name: 1, dtype: object\n",
      "<class 'pandas.core.series.Series'>\n",
      "     nom prenom  exam_1  exam_2  exam_3\n",
      "1  Jones  Henry      60      76      78\n",
      "<class 'pandas.core.frame.DataFrame'>\n"
     ]
    }
   ],
   "source": [
    "import pandas as pd\n",
    "import matplotlib as mpl\n",
    "\n",
    "#\n",
    "# Utilitaire de lecture des fichiers MS Excel directement\n",
    "#\n",
    "# Remarque: on peut spécifié la feuille désirée \n",
    "#\n",
    "dataF = pd.read_excel(\"../z.misc_files/data_tab/notes_examen.xlsx\")\n",
    "print(dataF)\n",
    "\n",
    "#\n",
    "# Obtenir le nom des colonnes. \n",
    "#\n",
    "headers = dataF.columns.values\n",
    "#\n",
    "# headers est une liste\n",
    "#\n",
    "print(\"Noms des colonnes:\")\n",
    "for i in headers:\n",
    "    print(\"=> \" + i)\n",
    "\n",
    "#\n",
    "# la méthode shpae retourne la dimensionalité de la matrice de données\n",
    "# [0] est le nombre de rangées, sans la ligne des noms de colonnes;\n",
    "# [1] est le nombre de colonnes\n",
    "#\n",
    "print(\"=> Nbre d'etudiants:\" + str(dataF.shape[0]))\n",
    "print(\"=> Nbre de colonnes de données:\" + str(dataF.shape[1]))\n",
    "\n",
    "# Un seul élément par recherche ordinale\n",
    "print(\"Résultat de l'examen I (methode ordinale): \"+str(dataF.iloc[0,2]))\n",
    "# Un seul élément par recherche explicite\n",
    "print(\"Résultat de l'examen I (recherche explicite): \"+str(dataF.loc[0,\"exam_1\"]))\n",
    "\n",
    "#\n",
    "# Extraction d'une rangée par position ordinale\n",
    "# Retourne une Serie, traitée comme une liste\n",
    "#\n",
    "row = dataF.iloc[1]\n",
    "print(row)\n",
    "print(type(row))\n",
    "#\n",
    "# Extraction d'une rangée par recherche explicite\n",
    "# Retourne un DataFrame comme résultat\n",
    "row = dataF.loc[(dataF[\"nom\"] == \"Jones\") & (dataF[\"prenom\"] == \"Henry\")]\n",
    "print(row)\n",
    "print(type(row))"
   ]
  },
  {
   "cell_type": "markdown",
   "id": "1d194b68-175e-4b7d-8da8-93a4ce98a372",
   "metadata": {},
   "source": [
    "## Faire des calculs sur les DataFrame\n",
    "\n",
    "Ok, comment utilisé un DataFrame? Calculons la moyenne de chaque examen ainsi que l'écart-type pour chacun."
   ]
  },
  {
   "cell_type": "code",
   "execution_count": 1,
   "id": "3edc3fd1-4d6f-493b-ac9d-9037599c42fa",
   "metadata": {},
   "outputs": [
    {
     "name": "stdout",
     "output_type": "stream",
     "text": [
      "Moyenne de l'examen 1 avec ecart-type: 58.3+/-23.9\n",
      "          exam_1    exam_2     exam_3\n",
      "count  20.000000  20.00000  20.000000\n",
      "mean   58.300000  62.40000  58.200000\n",
      "std    23.923342  19.84519  15.143524\n",
      "min    20.000000  24.00000  28.000000\n",
      "25%    36.750000  49.25000  56.000000\n",
      "50%    63.000000  62.50000  62.000000\n",
      "75%    77.500000  78.75000  65.000000\n",
      "max    90.000000  90.00000  78.000000\n",
      "Moyenne de l'examen 1 avec ecart-type (describe): 58.3+/-23.9\n"
     ]
    }
   ],
   "source": [
    "import pandas as pd\n",
    "import matplotlib as mpl\n",
    "\n",
    "#\n",
    "# Utilitaire de lecture des fichiers MS Excel directement\n",
    "#\n",
    "# Remarque: on peut spécifié la feuille désirée \n",
    "#\n",
    "dataF = pd.read_excel(\"../z.misc_files/data_tab/notes_examen.xlsx\")\n",
    "\n",
    "#\n",
    "# Simplement, utilisons les méthodes mean et std de pandas\n",
    "# pour un seul examen\n",
    "#\n",
    "mean = dataF[\"exam_1\"].mean()\n",
    "std = dataF[\"exam_1\"].std()\n",
    "print(\"Moyenne de l'examen 1 avec ecart-type: \" + str(mean) +\"+/-\"+str(\"{:.1f}\".format(std)))\n",
    "#\n",
    "# Retourne un DataFrame \n",
    "#\n",
    "stats = dataF.describe()\n",
    "print(stats)\n",
    "\n",
    "print(\"Moyenne de l'examen 1 avec ecart-type (describe): \" + str(stats.loc[\"mean\",\"exam_1\"]) + \"+/-\" + str(\"{:.1f}\".format(stats.loc[\"std\",\"exam_1\"])))"
   ]
  },
  {
   "cell_type": "markdown",
   "id": "39b2aa3e-0d71-45a1-b659-ddd67290933f",
   "metadata": {},
   "source": [
    "## Création d'un graphique avec les données d'un DataFrame\n",
    "\n",
    "Tentons quelque chose: un histogramme montrant la moyenne et l'écart-type pour chacun des examens d'une session "
   ]
  },
  {
   "cell_type": "code",
   "execution_count": 6,
   "id": "4fa05e1c-f877-443e-880e-44ae9f963e13",
   "metadata": {},
   "outputs": [
    {
     "name": "stdout",
     "output_type": "stream",
     "text": [
      "          exam_1    exam_2     exam_3\n",
      "count  20.000000  20.00000  20.000000\n",
      "mean   58.300000  62.40000  58.200000\n",
      "std    23.923342  19.84519  15.143524\n",
      "min    20.000000  24.00000  28.000000\n",
      "25%    36.750000  49.25000  56.000000\n",
      "50%    63.000000  62.50000  62.000000\n",
      "75%    77.500000  78.75000  65.000000\n",
      "max    90.000000  90.00000  78.000000\n",
      "58.3\n",
      "Pas mal de base :-)\n"
     ]
    },
    {
     "data": {
      "image/png": "[encoded data removed]",
      "text/plain": [
       "<Figure size 640x480 with 1 Axes>"
      ]
     },
     "metadata": {},
     "output_type": "display_data"
    },
    {
     "name": "stdout",
     "output_type": "stream",
     "text": [
      "Un peu plus informatif...\n"
     ]
    },
    {
     "data": {
      "image/png": "[encoded data removed]",
      "text/plain": [
       "<Figure size 640x480 with 1 Axes>"
      ]
     },
     "metadata": {},
     "output_type": "display_data"
    }
   ],
   "source": [
    "import pandas as pd\n",
    "import matplotlib.pyplot as mpl\n",
    "\n",
    "#\n",
    "# Utilitaire de lecture des fichiers MS Excel directement\n",
    "#\n",
    "dataF = pd.read_excel(\"../z.misc_files/data_tab/notes_examen.xlsx\")\n",
    "\n",
    "#\n",
    "# Retourne un DataFrame avec des statistiques descriptives\n",
    "# du DataFrame global\n",
    "#\n",
    "stats = dataF.describe()\n",
    "print(stats)\n",
    "print(stats.loc[\"mean\",\"exam_1\"])\n",
    "\n",
    "tests = [\"exam_1\",\"exam_2\",\"exam_3\"]\n",
    "\n",
    "allMeans = []\n",
    "allStds = []\n",
    "\n",
    "for i in tests:\n",
    "    allMeans.append(stats.loc[\"mean\",i])\n",
    "    allStds.append(stats.loc[\"std\",i])\n",
    "\n",
    "print(\"Pas mal de base :-)\")\n",
    "# Initialiser le graphe avec les tests et leurs valeurs moyennes\n",
    "mpl.bar(tests,allMeans)\n",
    "# Ajouter les écarts-types\n",
    "mpl.errorbar(tests,allMeans, yerr=allStds, fmt=\"o\", color=\"r\")\n",
    "# Afficher le graphe\n",
    "mpl.show()\n",
    "\n",
    "print(\"Un peu plus informatif...\")\n",
    "# Joujou avec les couleurs\n",
    "# Initialiser le graphe avec les tests et leurs valeurs moyennes\n",
    "bars = mpl.bar(tests,allMeans)\n",
    "# Ajouter les écarts-types\n",
    "errors = mpl.errorbar(tests,allMeans, yerr=allStds, fmt=\"o\", color=\"r\")\n",
    "#\n",
    "# On peut choisir la couleur de chaque colonne individuellement\n",
    "#\n",
    "bars[0].set_color(\"Yellow\")\n",
    "bars[1].set_color(\"Blue\")\n",
    "bars[2].set_color(\"Green\")\n",
    "\n",
    "mpl.xlabel(\"Évaluations sommatives\")\n",
    "mpl.ylabel(\"Pourcentage\")\n",
    "mpl.ylim(0,100)\n",
    "mpl.savefig(\"../z.misc_files/data_misc/test_figure.jpg\")\n",
    "mpl.show()"
   ]
  }
 ],
 "metadata": {
  "kernelspec": {
   "display_name": "Python 3 (ipykernel)",
   "language": "python",
   "name": "python3"
  },
  "language_info": {
   "codemirror_mode": {
    "name": "ipython",
    "version": 3
   },
   "file_extension": ".py",
   "mimetype": "text/x-python",
   "name": "python",
   "nbconvert_exporter": "python",
   "pygments_lexer": "ipython3",
   "version": "3.12.1"
  }
 },
 "nbformat": 4,
 "nbformat_minor": 5
}
