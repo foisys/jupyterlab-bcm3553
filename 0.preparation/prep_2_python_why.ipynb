{
 "cells": [
  {
   "cell_type": "markdown",
   "id": "cbf21b2c-458e-4774-be2a-115304f1aa14",
   "metadata": {},
   "source": [
    "# Python pour biochimistes: un langage de programmation abordable pour tous\n",
    "\n",
    "## Introduction\n",
    "\n",
    "Pourquoi un.e biochimiste/biologiste devrait apprendre à programmer? Très simple réponse: la biologie d'aujourd'hui produit de plus en plus de données sous la forme de fichiers et nécessite de plus en plus d'interactions avec des ensembles de données publiques rendues disponibles par l'Internet. Une fois cette constatation réalisée, quel language utilisé pour réussir nos analyses? Deux possibilités:\n",
    "\n",
    "- Un language compilé, tel que C++ et Java, qui nécessite l'utilisation d'une application, le compilateur, qui prend le code écrit et le tranforme en programme fonctionnel. Cette approche crée des programmes très rapides, optimisés pour une plateforme donnée mais vient aussi avec des problèmes: portabilité entre plateforme et compléxité.\n",
    "- Un langage interprété, tel que Python, Perl et PHP,  qui prend le code et, via une autre sorte d'application,  l'interpréteur, exécute le programme directement. Pour la majorité de ces langages, l'interpréteur existe pour une multitude de plateformes ce qui permet une portabilité optimale; cependant, les programmes interprétés sont souvent (mais pas toujours) plus lents que les programmes compilés. Avec les ordinateurs modernes, la différence de performance est souvent négligeable pour des programmes sans interfaces graphiques.\n",
    "\n",
    "Pourquoi Python alors? Python a plusieurs avantages pour le scientifique:\n",
    "\n",
    "- Il utilise une syntaxe prêt du language naturel ce qui rend l'écriture et la lecture du code relativement facile.\n",
    "- Les codes écrits peuvent être exécuté de manière procédurale (une étape à la fois), fonctionnel (création de fonctions appliquées à divers endroits du code) et orienté-objet (difficile à expliquer ici mais lire cette [page Wikipedia](https://en.wikipedia.org/wiki/Object-oriented_programming).\n",
    "- Un vaste écosystème de librairies spécialisées existe, permettant l'ajout de fonctionnalités qui ne sont pas dans Python directement, y compris l'acquisition de données en temps réel et la création d'interfaces graphiques.\n",
    "- Les programmes écrits pour la ligne de commande peuvent rapidement et relativement simplement s'adapter pour la création d'applications Web.\n",
    "- Une vaste documentation à [Python Docs Central](https://www.python.org/doc/) et à [Documentation des fonctions Python 3.12](https://docs.python.org/3/).\n",
    "\n",
    "Finalement, pourquoi Jupyter? Tout simplement parce que cet interface permet la création et l'utilisation des scripts écrits en Python d'un trait ou bien en blocs executables en séquences. De plus, il permet aussi l'accès à d'autres programmes tel que R directement. \n",
    "\n",
    "## Comment démarrer?\n",
    "\n",
    "Dans Jupyter, simplement créer un bloc de code, appelé aussi cellule, en cliquant sur l'icone \"+\" de cette fenêtre, en s'assurant que le type est \"Code\"."
   ]
  },
  {
   "cell_type": "code",
   "execution_count": 1,
   "id": "95349d79-5d02-4f11-aa1e-8b71b646af60",
   "metadata": {
    "tags": []
   },
   "outputs": [
    {
     "name": "stdout",
     "output_type": "stream",
     "text": [
      "BCM3553/6010, session A24: Bienvenue!!\n"
     ]
    }
   ],
   "source": [
    "# Inscrire une chaine de caractères entre les \n",
    "# guillemets et exécuter en pressant sur l'icone \n",
    "# ressemblant à une pointe de flèche dirigée \n",
    "# vers la droite.\n",
    "# Amusez-vous à la changer et réexécuter :-)\n",
    "print(\"BCM3553/6010, session A24: Bienvenue!!\")"
   ]
  },
  {
   "cell_type": "code",
   "execution_count": null,
   "id": "46424b77-b92c-4bbe-ae69-92c0acaf9c9c",
   "metadata": {},
   "outputs": [],
   "source": []
  }
 ],
 "metadata": {
  "kernelspec": {
   "display_name": "Python 3 (ipykernel)",
   "language": "python",
   "name": "python3"
  },
  "language_info": {
   "codemirror_mode": {
    "name": "ipython",
    "version": 3
   },
   "file_extension": ".py",
   "mimetype": "text/x-python",
   "name": "python",
   "nbconvert_exporter": "python",
   "pygments_lexer": "ipython3",
   "version": "3.12.1"
  }
 },
 "nbformat": 4,
 "nbformat_minor": 5
}
