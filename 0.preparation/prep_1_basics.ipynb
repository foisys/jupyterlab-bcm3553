{
 "cells": [
  {
   "cell_type": "markdown",
   "id": "66f4d29c-bc14-4cba-8b6f-1db8ea8552a9",
   "metadata": {},
   "source": [
    "# Programmation: développement dans un contexte de résolution de problème en sciences\n",
    "\n",
    "## Introduction\n",
    "Au cours de notre carrière, notre parcours professionnel s'est concentré sur l'application de la méthode scientifique: identification d'une problématique, élaboration d'hypothèses, exécution d'expériences et analyse des résultats avec retour sur les hypothèses. Lorsque nous avons besoin de la création d'un outil informatique, comment transposer cette façon de faire pour atteindre notre but? Ce n'est pas si différent d'une expérience au bench ;-)\n",
    "\n",
    "## 1 - Quelle est la problématique?\n",
    "\n",
    "Imaginons que nous voulions sous-cloner un fragment d'ADN provenant d'une séquence connue en utilisant des enzymes de restriction, une classe d'enzymes qui ont comme propriété de couper l'ADN en reconnaissant une séquence spécifique de nucléotides. Il nous faut un outil pour examiner les patrons de digestion de cet ADN avec tous les enzymes ou bien un sous-ensemble de ces enzymes. \n",
    "\n",
    "Qu'avons-nous comme éléments à considérer pour accomplir cette tâche? On doit:\n",
    "\n",
    "- Obtenir la séquence d'ADN désirée;\n",
    "- Obtenir une liste d'enzymes de restriction avec leur séquence reconnue;\n",
    "- Rechercheer les différents patrons de digestion dans la séquence;\n",
    "- Écrire une sortie dans un fichier.\n",
    "\n",
    "## 2 - Comment les données seront-elles acquises?\n",
    "\n",
    "La nature des données déterminera la méthode d'acquisition; par exemple;\n",
    "\n",
    "- Les données sont-elles statiques ((quasi-)immuables) ou bien sont-elles en constant changement (par exemple, les infos RSS d'un site web)?\n",
    "- Les données sont-elles locales (fichiers sur système de fichiers/flux de données provenant d'un équipement) ou bien distantes (sur le Web/équipement *Internet of Things*)? \n",
    "\n",
    "Il est important de répondre à ces questions car les réponses détermineront les approches programmatiques à utiliser.\n",
    "\n",
    "## 3 - Quel est le format des données à acquérir\n",
    "\n",
    "Les données nécessaires ne sont pas construites de manière désordonnée: elles ont un format. Par exemple:\n",
    "\n",
    "- Le format FASTA dicte que la première ligne du fichier commence toujours avec le caractère `>` suivi d'un maximum de 32K de caractères supplémentaires sans structure spécifique. La séquence à proprement parlée commence à la 2ème ligne et se termine avec la dernière ligne. Cependant, à aucun moment on sait si on lit une séquence d'ADN ou une séquence de protéine...\n",
    "- Le format Genbank est plus riche et plus difficile à lire... Le 1ère ligne commence toujours pas le mot clé \"LOCUS\" et mentionnera si c'est une séquence d'ADN (mot clé \"DNA\" ou \"mRNA\") ou une protéine (chaîne de caraactéres \"aa\"). La séquence commence à la ligne qui suit la ligne contenant le mot-clé \"ORIGIN\" pour se terminer avec \"//\", avec des espaces à tous les 10 caractères et une numérotation au début de chaque ligne.\n",
    "- Des exemples de formats possibles, couramment observés: [XML](https://en.wikipedia.org/wiki/XML), [JSON](https://en.wikipedia.org/wiki/JSON), [YAML](https://en.wikipedia.org/wiki/)...\n",
    "\n",
    "Donc, on voit, pas évident et il faudra cogiter quelque chose. Dans notre cas présent. pour les informations sur les sites de restrictions, ce n'est pas plus facile mais pas tout à fait... Le compagnie New England BioLabs maintient une base de données de tous les sites connus appelée REBASE et retrouvée sur [rebase.neb.com](https://rebase.neb.com). Sur le site, on a accès à une variété de la même information mais écrite de différente façon, selon le logiciel qui utilise REBASE. \n",
    "\n",
    "## 4 - Comment structurer l'information obtenue?\n",
    "\n",
    "Une fois en possession (ou sur le chemin de la possession...) des données, il faut maintenant les lire et les structurer. Si on parle de lire un fichier, il faut utiliser les fonctions de lecture de Python en gérant permissions, espaces blancs et retour de chariot. Si on capture un flux de données, il faut en comprendre le format d'envoi pour utiliser les bonnes fonctions également. Une fois ceci fait, il faut maintenant établir comment nous préserverons les infos recueillies dans une entité appelée une structure de données, possédant ses propres propriétés.\n",
    "\n",
    "## 5 - Comment obtenir l'information souhaitée en traitant les données?\n",
    "\n",
    "C'est la section où se fait le travail demandé! On utilise les éléments des structures de données afin d'accomplir le travail: c'est le coeur de l'algorithme à proprement parlé. Le résultat du traitement est préservé en mémoire dans sa propre structure de données.\n",
    "\n",
    "## 6 - Comment créer une représentation utile des résultats attendus?\n",
    "\n",
    "La structure de données contenant les résultats recherchés est maintenant utilisée pour construire une sortie: sur écran ou sur fichier.  "
   ]
  },
  {
   "cell_type": "code",
   "execution_count": null,
   "id": "3685a6f4-9f58-4909-9047-003a166d8bc7",
   "metadata": {},
   "outputs": [],
   "source": []
  }
 ],
 "metadata": {
  "kernelspec": {
   "display_name": "Python 3 (ipykernel)",
   "language": "python",
   "name": "python3"
  },
  "language_info": {
   "codemirror_mode": {
    "name": "ipython",
    "version": 3
   },
   "file_extension": ".py",
   "mimetype": "text/x-python",
   "name": "python",
   "nbconvert_exporter": "python",
   "pygments_lexer": "ipython3",
   "version": "3.12.1"
  }
 },
 "nbformat": 4,
 "nbformat_minor": 5
}
