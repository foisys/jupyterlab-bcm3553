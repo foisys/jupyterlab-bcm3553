{
 "cells": [
  {
   "cell_type": "markdown",
   "id": "eef3c5e4-8eaf-4df7-96f8-ec372a1e6b76",
   "metadata": {},
   "source": [
    "# Python pour biochimistes: programmation orientée-objet et la librairie BioPython\n",
    "\n",
    "## Introduction\n",
    "\n",
    "Le projet BioPython cherche à créer des outils d'analyse des données biologiques pour simplifier l'utilisation de Python pour des programmeurs du dimanche que sont la majorité des biochimistes! Le projet regroupe un ensemble impressionant de modules pour réaliser les tâches usuelles et même plus qui sont construits en utilisant le modèle orioenté objet.\n",
    "\n",
    "Par exemple, lire les fichiers de séquence dans divers formats (et même des fichiers qui ne sont pas des fichiers de séquence!!) devient très aisé. Le module `SeqIO` permet la lecture automatique d'un fichier et retourne un objet de type `SeqRecord`. Ce dernier contient une représentation standardisée des infos contenus dans le fichier pour des analyses ultérieures. On accéde aux champs d'infos avec différentes méthodes, qui peuvent variées d'un format à l'autre.\n",
    "\n",
    "## Démonstration\n",
    "\n",
    "### Étape 1:\n",
    "Donc, en premier, vérifions que BioPython est disponible sur le serveur:"
   ]
  },
  {
   "cell_type": "code",
   "execution_count": 23,
   "id": "e9dd00f2-2332-4c2b-8816-78005f833d6f",
   "metadata": {},
   "outputs": [
    {
     "name": "stdout",
     "output_type": "stream",
     "text": [
      "Requirement already satisfied: biopython in /Library/Frameworks/Python.framework/Versions/3.12/lib/python3.12/site-packages (1.83)\n",
      "Requirement already satisfied: numpy in /Library/Frameworks/Python.framework/Versions/3.12/lib/python3.12/site-packages (from biopython) (1.26.3)\n"
     ]
    }
   ],
   "source": [
    "!pip install biopython"
   ]
  },
  {
   "cell_type": "markdown",
   "id": "f198d98c-042a-4922-b753-950ac5b19503",
   "metadata": {},
   "source": [
    "### Étape 2:\n",
    "Lisons un fichier en format Genbank (pour faciliter la suite) et regardons ce que ça retourne comme contenu:"
   ]
  },
  {
   "cell_type": "code",
   "execution_count": 4,
   "id": "82dd5064-20ee-44a5-a169-d1ec2034f240",
   "metadata": {
    "tags": []
   },
   "outputs": [
    {
     "name": "stdin",
     "output_type": "stream",
     "text": [
      "PATH vers fichier? : ../z.misc_files/data_seq/h.sapiens.cttn.iso.a.cdna.gb\n"
     ]
    },
    {
     "name": "stdout",
     "output_type": "stream",
     "text": [
      "ID: NM_005231.4\n",
      "Name: NM_005231\n",
      "Description: Homo sapiens cortactin (CTTN), transcript variant 1, mRNA\n",
      "Number of features: 69\n",
      "/molecule_type=mRNA\n",
      "/topology=linear\n",
      "/data_file_division=PRI\n",
      "/date=05-JUL-2023\n",
      "/accessions=['NM_005231']\n",
      "/sequence_version=4\n",
      "/gi=1519242654\n",
      "/keywords=['RefSeq', 'MANE Select']\n",
      "/source=Homo sapiens (human)\n",
      "/organism=Homo sapiens\n",
      "/taxonomy=['Eukaryota', 'Metazoa', 'Chordata', 'Craniata', 'Vertebrata', 'Euteleostomi', 'Mammalia', 'Eutheria', 'Euarchontoglires', 'Primates', 'Haplorrhini', 'Catarrhini', 'Hominidae', 'Homo']\n",
      "/references=[Reference(title='Binding of USP4 to cortactin enhances cell migration in HCT116 human colon cancer cells', ...), Reference(title='Cortactin expression in a Norwegian cohort of human papilloma virus negative oral squamous cell carcinomas of the mobile tongue', ...), Reference(title='CBLC inhibits the proliferation and metastasis of breast cancer cells via ubiquitination and degradation of CTTN', ...), Reference(title='A cortactin CTTN coding SNP contributes to lung vascular permeability and inflammatory disease severity in African descent subjects', ...), Reference(title='[The expression of cortactin in colorectal cancer and its relationship with clinicopathological and prognostic parameters]', ...), Reference(title='Initial assessment of human gene diversity and expression patterns based upon 83 million nucleotides of cDNA sequence', ...), Reference(title='The product of the EMS1 gene, amplified and overexpressed in human carcinomas, is homologous to a v-src substrate and is located in cell-substratum contact sites', ...), Reference(title='Amplified region of chromosome band 11q13 in breast and squamous cell carcinomas encompasses three CpG islands telomeric of FGF3, including the expressed gene EMS1', ...), Reference(title='Cortactin, an 80/85-kilodalton pp60src substrate, is a filamentous actin-binding protein enriched in the cell cortex', ...), Reference(title='Identification and cloning of two overexpressed genes, U21B31/PRAD1 and EMS1, within the amplified chromosome 11q13 region in human carcinomas', ...)]\n",
      "/comment=REVIEWED REFSEQ: This record has been curated by NCBI staff. The\n",
      "reference sequence was derived from DA716772.1, AK222613.1,\n",
      "AK291097.1 and BC008799.2.\n",
      "This sequence is a reference standard in the RefSeqGene project.\n",
      "On Nov 22, 2018 this sequence version replaced NM_005231.3.\n",
      "Summary: This gene is overexpressed in breast cancer and squamous\n",
      "cell carcinomas of the head and neck. The encoded protein is\n",
      "localized in the cytoplasm and in areas of the cell-substratum\n",
      "contacts. This gene has two roles: (1) regulating the interactions\n",
      "between components of adherens-type junctions and (2) organizing\n",
      "the cytoskeleton and cell adhesion structures of epithelia and\n",
      "carcinoma cells. During apoptosis, the encoded protein is degraded\n",
      "in a caspase-dependent manner. The aberrant regulation of this gene\n",
      "contributes to tumor cell invasion and metastasis. Three splice\n",
      "variants that encode different isoforms have been identified for\n",
      "this gene. [provided by RefSeq, May 2010].\n",
      "Transcript Variant: This variant (1) is the longest transcript.\n",
      "Publication Note:  This RefSeq record includes a subset of the\n",
      "publications that are available for this gene. Please see the Gene\n",
      "record to access additional publications.\n",
      "COMPLETENESS: full length.\n",
      "/structured_comment=defaultdict(<class 'dict'>, {'Evidence-Data': {'Transcript exon combination': 'GQ900949.1, SRR3476690.713548.1 [ECO:0000332]', 'RNAseq introns': 'single sample supports all introns SAMEA1965299, SAMEA1966682 [ECO:0000348]'}, 'RefSeq-Attributes': {'MANE Ensembl match': 'ENST00000301843.13/ ENSP00000301843.8', 'RefSeq Select criteria': 'based on conservation, expression'}})\n",
      "Seq('GGAACCGGAAGTAGAGCCTGGTGCCTGGGAGCGGCTGGCGCGGCGGAATCCAGG...CCA')\n"
     ]
    },
    {
     "name": "stdout",
     "output_type": "stream",
     "text": [
      "ID: NM_005231.4\n",
      "Name: NM_005231\n",
      "Description: Homo sapiens cortactin (CTTN), transcript variant 1, mRNA\n",
      "Number of features: 69\n",
      "/molecule_type=mRNA\n",
      "/topology=linear\n",
      "/data_file_division=PRI\n",
      "/date=05-JUL-2023\n",
      "/accessions=['NM_005231']\n",
      "/sequence_version=4\n",
      "/gi=1519242654\n",
      "/keywords=['RefSeq', 'MANE Select']\n",
      "/source=Homo sapiens (human)\n",
      "/organism=Homo sapiens\n",
      "/taxonomy=['Eukaryota', 'Metazoa', 'Chordata', 'Craniata', 'Vertebrata', 'Euteleostomi', 'Mammalia', 'Eutheria', 'Euarchontoglires', 'Primates', 'Haplorrhini', 'Catarrhini', 'Hominidae', 'Homo']\n",
      "/references=[Reference(title='Binding of USP4 to cortactin enhances cell migration in HCT116 human colon cancer cells', ...), Reference(title='Cortactin expression in a Norwegian cohort of human papilloma virus negative oral squamous cell carcinomas of the mobile tongue', ...), Reference(title='CBLC inhibits the proliferation and metastasis of breast cancer cells via ubiquitination and degradation of CTTN', ...), Reference(title='A cortactin CTTN coding SNP contributes to lung vascular permeability and inflammatory disease severity in African descent subjects', ...), Reference(title='[The expression of cortactin in colorectal cancer and its relationship with clinicopathological and prognostic parameters]', ...), Reference(title='Initial assessment of human gene diversity and expression patterns based upon 83 million nucleotides of cDNA sequence', ...), Reference(title='The product of the EMS1 gene, amplified and overexpressed in human carcinomas, is homologous to a v-src substrate and is located in cell-substratum contact sites', ...), Reference(title='Amplified region of chromosome band 11q13 in breast and squamous cell carcinomas encompasses three CpG islands telomeric of FGF3, including the expressed gene EMS1', ...), Reference(title='Cortactin, an 80/85-kilodalton pp60src substrate, is a filamentous actin-binding protein enriched in the cell cortex', ...), Reference(title='Identification and cloning of two overexpressed genes, U21B31/PRAD1 and EMS1, within the amplified chromosome 11q13 region in human carcinomas', ...)]\n",
      "/comment=REVIEWED REFSEQ: This record has been curated by NCBI staff. The\n",
      "reference sequence was derived from DA716772.1, AK222613.1,\n",
      "AK291097.1 and BC008799.2.\n",
      "This sequence is a reference standard in the RefSeqGene project.\n",
      "On Nov 22, 2018 this sequence version replaced NM_005231.3.\n",
      "Summary: This gene is overexpressed in breast cancer and squamous\n",
      "cell carcinomas of the head and neck. The encoded protein is\n",
      "localized in the cytoplasm and in areas of the cell-substratum\n",
      "contacts. This gene has two roles: (1) regulating the interactions\n",
      "between components of adherens-type junctions and (2) organizing\n",
      "the cytoskeleton and cell adhesion structures of epithelia and\n",
      "carcinoma cells. During apoptosis, the encoded protein is degraded\n",
      "in a caspase-dependent manner. The aberrant regulation of this gene\n",
      "contributes to tumor cell invasion and metastasis. Three splice\n",
      "variants that encode different isoforms have been identified for\n",
      "this gene. [provided by RefSeq, May 2010].\n",
      "Transcript Variant: This variant (1) is the longest transcript.\n",
      "Publication Note:  This RefSeq record includes a subset of the\n",
      "publications that are available for this gene. Please see the Gene\n",
      "record to access additional publications.\n",
      "COMPLETENESS: full length.\n",
      "/structured_comment=defaultdict(<class 'dict'>, {'Evidence-Data': {'Transcript exon combination': 'GQ900949.1, SRR3476690.713548.1 [ECO:0000332]', 'RNAseq introns': 'single sample supports all introns SAMEA1965299, SAMEA1966682 [ECO:0000348]'}, 'RefSeq-Attributes': {'MANE Ensembl match': 'ENST00000301843.13/ ENSP00000301843.8', 'RefSeq Select criteria': 'based on conservation, expression'}})\n",
      "Seq('GGAACCGGAAGTAGAGCCTGGTGCCTGGGAGCGGCTGGCGCGGCGGAATCCAGG...CCA')\n"
     ]
    }
   ],
   "source": [
    "# Comme pour l'exemple précédent\n",
    "import os.path as path\n",
    "\n",
    "# Importons de la librairie BioPython\n",
    "# le module nécessaire\n",
    "from Bio import SeqIO, Seq\n",
    "\n",
    "#\n",
    "# Méthode interactive\n",
    "# Le script attendra l'entrée faite par l'usager\n",
    "#\n",
    "# Monter d'un niveau et aller chercher un fichier de démo\n",
    "# qui se trouve dans le répertoire z.misc_files sous demo_seq\n",
    "#\n",
    "seq = input(\"PATH vers fichier? :\")\n",
    "\n",
    "#\n",
    "# Il faut trouver ce que \"~\" veut dire... La méthode expanduser \"interprete\"\n",
    "# que \"~\" veut dire \"/Users/foisys\" sur Mac OS X :-)\n",
    "#\n",
    "seq = path.expanduser(seq)\n",
    "\n",
    "with open(seq,'r') as file:\n",
    "    #\n",
    "    # Remplacer fasta par gb et tester avec le fichier\n",
    "    # ../z.misc_files/data_seq/h.sapiens.cttn.iso.a.cdna.gb\n",
    "    #\n",
    "    # La méthide SeqIO.parse() retourne une objet de type Seq,\n",
    "    # facilement manipulable.\n",
    "    #\n",
    "    for record in SeqIO.parse(file, \"gb\"):\n",
    "        print(record)"
   ]
  },
  {
   "cell_type": "markdown",
   "id": "9af11c70-00bc-47be-8623-7af08fddcb65",
   "metadata": {},
   "source": [
    "### Étape 3:\n",
    "Extrayons la séquence de ce cDNA:"
   ]
  },
  {
   "cell_type": "code",
   "execution_count": 5,
   "id": "6a39087e-90e9-4930-a3e0-b9cf1624d761",
   "metadata": {
    "tags": []
   },
   "outputs": [
    {
     "name": "stdout",
     "output_type": "stream",
     "text": [
      "Impression de la sequence:\n",
      "GGAACCGGAAGTAGAGCCTGGTGCCTGGGAGCGGCTGGCGCGGCGGAATCCAGGGCCGACCCGGGCCGGACCGACCCCAGGCGGCGACGGAATCAGTCCCCAATGCCTGGAAATTCCTCATTGGATTACTGTGTTTTAAACAGAATTTCGTGAACAGCCTTTTATCTCCAAGCGGAAAGAAAGATGTGGAAAGCTTCAGCAGGCCACGCTGTGTCCATCGCCCAGGATGACGCGGGGGCCGATGACTGGGAGACCGACCCTGATTTTGTGAATGATGTGAGTGAGAAGGAGCAAAGATGGGGTGCCAAGACGGTGCAGGGCTCCGGGCACCAGGAGCATATCAACATACACAAGCTGAGGGAGAATGTCTTTCAAGAGCATCAGACCCTTAAGGAGAAGGAACTTGAAACAGGACCAAAAGCTTCCCATGGCTATGGAGGGAAATTTGGTGTGGAACAAGACCGAATGGATAAGTCAGCTGTCGGCCACGAATATCAGTCGAAACTTTCCAAGCACTGCTCGCAGGTGGACTCGGTCCGTGGCTTCGGAGGCAAGTTTGGTGTCCAGATGGACAGAGTTGATCAGTCTGCTGTAGGCTTTGAATACCAGGGGAAGACTGAGAAGCATGCCTCCCAGAAAGACTACTCCAGTGGTTTTGGCGGCAAGTATGGCGTGCAGGCCGACCGAGTAGACAAGAGCGCGGTGGGCTTCGACTACCAGGGCAAGACGGAGAAGCACGAGTCACAGAGAGATTACTCCAAAGGTTTCGGCGGCAAATACGGTATCGACAAGGACAAAGTGGATAAGAGCGCCGTTGGCTTTGAGTATCAAGGCAAAACGGAGAAGCACGAGTCCCAGAAAGACTATGTGAAAGGGTTTGGAGGAAAATTTGGTGTGCAGACAGACAGACAAGACAAATGTGCCCTTGGCTGGGATCACCAGGAGAAATTGCAGCTGCATGAATCCCAAAAAGATTATAAGACTGGTTTTGGAGGCAAATTCGGTGTTCAGTCGGAGAGGCAGGACTCCGCTGCTGTGGGGTTTGATTACAAGGAGAAGCTGGCCAAGCACGAGTCCCAGCAAGACTACTCCAAAGGATTCGGCGGGAAGTATGGGGTGCAGAAGGATCGGATGGATAAGAATGCGTCAACCTTTGAGGATGTCACCCAGGTGTCCTCTGCCTACCAGAAGACAGTACCTGTCGAAGCTGTGACCAGCAAAACAAGTAACATCAGAGCTAACTTTGAAAACCTCGCTAAGGAGAAAGAGCAGGAGGACAGGCGGAAGGCGGAGGCGGAGAGAGCCCAGCGGATGGCCAAGGAGCGGCAGGAGCAGGAAGAGGCCAGGAGGAAGCTGGAGGAGCAAGCCAGAGCCAAAACGCAAACGCCCCCTGTGTCGCCCGCACCTCAGCCAACCGAGGAGAGGCTGCCCTCGAGCCCCGTCTATGAGGATGCGGCTTCCTTCAAGGCAGAGCTGAGCTACAGAGGCCCTGTGAGTGGGACGGAGCCGGAGCCCGTGTACAGCATGGAGGCCGCTGACTACCGAGAGGCCAGCAGCCAGCAGGGCCTGGCCTATGCCACAGAGGCTGTCTATGAAAGCGCAGAGGCCCCGGGCCACTATCCCGCAGAGGACAGCACCTACGATGAGTACGAGAACGATCTGGGGATCACAGCCGTCGCCCTGTACGACTACCAGGCTGCGGGCGATGATGAGATCTCATTTGACCCTGATGACATCATCACCAACATCGAGATGATTGACGACGGCTGGTGGCGCGGGGTGTGCAAGGGCCGGTACGGGCTCTTCCCAGCCAACTATGTGGAGCTGCGGCAGTAGGGCCCCCAGCCCCCCCCCGGAGCTGCGCCCTGGATCCTCACACTACAGATCAGGCCTTCTTTGGTTCTTGGGTGGTTTTGGGTTTTTTCTGTTTTTTTTTTTTTTTTTTTTTTTTTGAAGGTGGGGAGGGGAATATACACATTGCTTTTATATTTAATACTTTTGCTGATGCTTTTGAAAATGTTTATGCCACAGAATTTGCTAATATATTGTAATCACATTCCTTAGGAGGACTTTGGTAATTGGTTTTATGCATTGATGGTTTTTTTTTTCTTTTTTGCCAAATTGACTGTCACGCGGCAGCTTCAGGGAGCTCGCATTCTCTTGTGTTCGTGTTGCCCTCGTGCCCATCAAGTGCAGTCGGGACCTCCCAGGACAAGCACGAGGCCTCAGGTCGGCCCTGTGGCGGGTAGGCAGGAAGGACTGTCCCAGACGAGGGGCTTCCTCTAGAGTCTCACTGCTGGGGAGGAGAGGACTGGGCCTGATGGAAGTTAACCCGGAGCTAAGTCACCCAGAGCACAGGAGCTGCCATGTCAGATGGGAAATCTGCCTATGTCATACCGTGACAGCCCGCAGGATCAGGTGACTTCTAGCAGAGACCCTGGTTTTTTTCCTGTGCCCACTCCGGCTTGTCCTCATCTCTACCCATCCCCTGATGCCCAGGTCACCGGGAGGGCTGCTGGGAGCCTCTCCTGTCCCCGCCGGGCAGTGTCACTGAGTCCTTGAAATCCTCCCCTGCCCCGCGGGTCTCTGGATTGGGACGCACAGTGCAGTTGAGGTCTGCGTCGGGCTTGGCTTTTCACAAAGGCTGATGTCTTAACTGTCACCCATATGGTCCCTGGGCCACCGGGCAGCCTGGGGCGGTGTGTGTGCCATGTCACAGCATGGCCTCTCGGCCTTGGGAAGGAAGGCAGTGCCTGCTCTGCTGTGAGCCGCCAGGAACCCTCCTCCTGTCAATGGGGGTGTAGTATTTTTGCCAAAATATCATGTTCAATTTCAGTAGTTTGATCAGTTGAAGGCTAGAAGTGTGAAGTGCAGATGAGTGTGTGTTCTTCCCCAAGGTCCCCCCACAGCTCCAGGACACCGCTGTCCTGGCATTTGTGGCCACTCACTTTGTAGGAAACTCATCTCCTTCCTGAGGAGCCGGGAGGCTGGACCAGTCCCGTCGTGCAGTCAGGTGGGCGGTGTGTCTTTCCAGAAGGTCACGTGGAAATGTCTCGGGACTTGGGTCCCGGAGTGCCCGTGAAGCGTGTTTTTGCTCCTGAGGTGCATTTTCTCATCATCCTTGCTTTACCACAATGAGCAATGAGGTCGGGTTTTATATGCAACTTATTGTATCTGAATTCCTGTAGCACACCTCATAGGTATGATTTTTTTAAATTAAAGAATTCAGAATAAACATTTTTTGATCCA\n"
     ]
    }
   ],
   "source": [
    "print(\"Impression de la sequence:\")\n",
    "print(record.seq)"
   ]
  },
  {
   "cell_type": "markdown",
   "id": "d8786c8f-3bc7-4c2d-a8fe-dd2dec4fc56e",
   "metadata": {},
   "source": [
    "### Étape 4:\n",
    "Obtenons son identificateur NCBI:"
   ]
  },
  {
   "cell_type": "code",
   "execution_count": 6,
   "id": "17957069-44d9-4886-b752-80b7bbbe3619",
   "metadata": {
    "tags": []
   },
   "outputs": [
    {
     "name": "stdout",
     "output_type": "stream",
     "text": [
      "Sequence ID:\n",
      "NM_005231.4\n"
     ]
    }
   ],
   "source": [
    "print(\"Sequence ID:\")\n",
    "print(record.id)"
   ]
  },
  {
   "cell_type": "markdown",
   "id": "7537d3df-4746-4607-bf1a-943710ed708f",
   "metadata": {},
   "source": [
    "### Étape 5:\n",
    "Comment obtenir la longueur du transcrit? Facilement car la variable record.seq est une chaîne de caractères:"
   ]
  },
  {
   "cell_type": "code",
   "execution_count": 7,
   "id": "b6e59232-8083-4c75-b478-57a40182bcc0",
   "metadata": {
    "tags": []
   },
   "outputs": [
    {
     "name": "stdout",
     "output_type": "stream",
     "text": [
      "Taille de la sequence:\n",
      "3249\n"
     ]
    }
   ],
   "source": [
    "print(\"Taille de la sequence:\")\n",
    "print(len(record.seq))"
   ]
  },
  {
   "cell_type": "markdown",
   "id": "87a44b9a-eb44-463a-95bd-bd2ca87d3c25",
   "metadata": {},
   "source": [
    "### Étape 6, pour commencer:\n",
    "Quelle est la protéine représentée par cette séquence de cDNA? Il faut obtenir les valeurs de position du début et de la fin du cadre de lecture utilisé:"
   ]
  },
  {
   "cell_type": "code",
   "execution_count": 8,
   "id": "c7f387dd-d253-4c13-a431-e4158d36b4cf",
   "metadata": {
    "tags": []
   },
   "outputs": [
    {
     "name": "stdout",
     "output_type": "stream",
     "text": [
      "Informations sur le CDS de la sequence:\n",
      "['MWKASAGHAVSIAQDDAGADDWETDPDFVNDVSEKEQRWGAKTVQGSGHQEHINIHKLRENVFQEHQTLKEKELETGPKASHGYGGKFGVEQDRMDKSAVGHEYQSKLSKHCSQVDSVRGFGGKFGVQMDRVDQSAVGFEYQGKTEKHASQKDYSSGFGGKYGVQADRVDKSAVGFDYQGKTEKHESQRDYSKGFGGKYGIDKDKVDKSAVGFEYQGKTEKHESQKDYVKGFGGKFGVQTDRQDKCALGWDHQEKLQLHESQKDYKTGFGGKFGVQSERQDSAAVGFDYKEKLAKHESQQDYSKGFGGKYGVQKDRMDKNASTFEDVTQVSSAYQKTVPVEAVTSKTSNIRANFENLAKEKEQEDRRKAEAERAQRMAKERQEQEEARRKLEEQARAKTQTPPVSPAPQPTEERLPSSPVYEDAASFKAELSYRGPVSGTEPEPVYSMEAADYREASSQQGLAYATEAVYESAEAPGHYPAEDSTYDEYENDLGITAVALYDYQAAGDDEISFDPDDIITNIEMIDDGWWRGVCKGRYGLFPANYVELRQ']\n",
      "[183:1836](+)\n"
     ]
    }
   ],
   "source": [
    "print(\"Informations sur le CDS de la sequence:\")\n",
    "#\n",
    "# Capturer toutes les infos sur les métadonnées\n",
    "#\n",
    "# record.features est en fait une liste :-)\n",
    "#\n",
    "list = record.features\n",
    "#\n",
    "# Intercepter le cadre de lecture\n",
    "#\n",
    "for i in list:\n",
    "  if(i.type == \"CDS\"):\n",
    "    #\n",
    "    # Juste pour etre certain :-)\n",
    "    # \n",
    "    print(i.qualifiers[\"translation\"])\n",
    "    #\n",
    "    # C'est l'information importante que nous devons\n",
    "    # utiliser!\n",
    "    #\n",
    "    print(i.location)"
   ]
  },
  {
   "cell_type": "markdown",
   "id": "39d2f7a8-653f-4e70-9428-2702806efcc6",
   "metadata": {},
   "source": [
    "### Étape 6, pour finir:\n",
    "Utilisons une des méthodes de la classe Seq:"
   ]
  },
  {
   "cell_type": "code",
   "execution_count": 9,
   "id": "5db5e726-9a59-4742-9887-0f4a8d41c125",
   "metadata": {},
   "outputs": [
    {
     "name": "stdout",
     "output_type": "stream",
     "text": [
      "Sequence traduite:\n",
      "MWKASAGHAVSIAQDDAGADDWETDPDFVNDVSEKEQRWGAKTVQGSGHQEHINIHKLRENVFQEHQTLKEKELETGPKASHGYGGKFGVEQDRMDKSAVGHEYQSKLSKHCSQVDSVRGFGGKFGVQMDRVDQSAVGFEYQGKTEKHASQKDYSSGFGGKYGVQADRVDKSAVGFDYQGKTEKHESQRDYSKGFGGKYGIDKDKVDKSAVGFEYQGKTEKHESQKDYVKGFGGKFGVQTDRQDKCALGWDHQEKLQLHESQKDYKTGFGGKFGVQSERQDSAAVGFDYKEKLAKHESQQDYSKGFGGKYGVQKDRMDKNASTFEDVTQVSSAYQKTVPVEAVTSKTSNIRANFENLAKEKEQEDRRKAEAERAQRMAKERQEQEEARRKLEEQARAKTQTPPVSPAPQPTEERLPSSPVYEDAASFKAELSYRGPVSGTEPEPVYSMEAADYREASSQQGLAYATEAVYESAEAPGHYPAEDSTYDEYENDLGITAVALYDYQAAGDDEISFDPDDIITNIEMIDDGWWRGVCKGRYGLFPANYVELRQ*\n"
     ]
    }
   ],
   "source": [
    "#\n",
    "# Pour faire la démonstration des manipulations possibles d'un objet Seq\n",
    "#\n",
    "# seqT est par défaut un objet Seq, étant un sous-ensemble de record.seq\n",
    "#\n",
    "# Remarquez que la notation BioPython part de 1 et non de 0\n",
    "#\n",
    "seqT = record.seq[183:1836]\n",
    "#\n",
    "# La fonction translate permet de faire la traduction; par défaut, elle \n",
    "# utilise le code universel.\n",
    "#\n",
    "# Voir la doc pour les autres paramètres utiles; par ex.: par défaut, c'est le\n",
    "# code génétique universel qui est utilisé.\n",
    "#\n",
    "seqT = seqT.translate()\n",
    "print(\"Sequence traduite:\")\n",
    "#\n",
    "# Comparez avec la valeur de i.qualifiers[\"translation\"]\n",
    "#\n",
    "print(seqT)"
   ]
  },
  {
   "cell_type": "code",
   "execution_count": null,
   "id": "d6d11f34-ea1e-4b35-94db-a6c5b238a4be",
   "metadata": {},
   "outputs": [],
   "source": [
    "\n"
   ]
  }
 ],
 "metadata": {
  "kernelspec": {
   "display_name": "Python 3 (ipykernel)",
   "language": "python",
   "name": "python3"
  },
  "language_info": {
   "codemirror_mode": {
    "name": "ipython",
    "version": 3
   },
   "file_extension": ".py",
   "mimetype": "text/x-python",
   "name": "python",
   "nbconvert_exporter": "python",
   "pygments_lexer": "ipython3",
   "version": "3.12.1"
  }
 },
 "nbformat": 4,
 "nbformat_minor": 5
}
