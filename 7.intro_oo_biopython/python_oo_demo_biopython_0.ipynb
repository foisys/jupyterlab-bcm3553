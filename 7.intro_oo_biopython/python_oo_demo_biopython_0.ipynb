{
 "cells": [
  {
   "cell_type": "markdown",
   "id": "eef3c5e4-8eaf-4df7-96f8-ec372a1e6b76",
   "metadata": {},
   "source": [
    "# Python pour biochimistes: programmation orientée-objet et la librairie BioPython\n",
    "\n",
    "## Introduction\n",
    "\n",
    "Comme fait en amont, plusieurs fonctions utilisées demandent une certaine connaissance sur la manière de communiquer ou sur la façon dont les données nous sont retourné par les flux de données. Ça prend du temps et nous sommes des biologistes/biochimistes avant tout... N'y a-t-il pas une meilleure façon de faire? Oui! Le projet BioPython cherche à créer des outils d'analyse des données biologiques pour simplifier l'utilisation de Python pour des programmeurs du dimanche que sont la majorité des biochimistes! Le projet regroupe un ensemble impressionant de modules pour réaliser les tâches usuelles et même plus qui sont construits en utilisant le modèle orioenté objet.\n",
    "\n",
    "Une documentation exhaustive se trouve sur le site web (https://www.biopython.org) mais voici quelques raccourcis:\n",
    "\n",
    "- Un tutoriel: [https://biopython.org/docs/latest/Tutorial/index.html](https://biopython.org/docs/latest/Tutorial/index.html)\n",
    "- Un livre de recettes complémentaire: https://biopython.org/wiki/Category%3ACookbook\n",
    "- De la documentation plus exhaustive sur les modules Seq et SeqIO: https://biopython.org/wiki/Seq et https://biopython.org/wiki/SeqIO\n",
    "- La documentation pour API: [https://biopython.org/docs/latest/api](https://biopython.org/docs/latest/api) (Aide à comprendre comment utiliser les fonctions)"
   ]
  },
  {
   "cell_type": "code",
   "execution_count": null,
   "id": "e55bd43b-bdd9-4db2-a6ce-055908e23db6",
   "metadata": {},
   "outputs": [],
   "source": []
  }
 ],
 "metadata": {
  "kernelspec": {
   "display_name": "Python 3 (ipykernel)",
   "language": "python",
   "name": "python3"
  },
  "language_info": {
   "codemirror_mode": {
    "name": "ipython",
    "version": 3
   },
   "file_extension": ".py",
   "mimetype": "text/x-python",
   "name": "python",
   "nbconvert_exporter": "python",
   "pygments_lexer": "ipython3",
   "version": "3.12.1"
  }
 },
 "nbformat": 4,
 "nbformat_minor": 5
}
