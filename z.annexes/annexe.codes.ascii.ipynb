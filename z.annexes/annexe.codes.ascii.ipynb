{
 "cells": [
  {
   "attachments": {},
   "cell_type": "markdown",
   "id": "6cc1230e-50b1-4cae-93bb-45a1389f8230",
   "metadata": {
    "jp-MarkdownHeadingCollapsed": true
   },
   "source": [
    "# Informations complémentaires: codes ASCII pour l'encodage des scores de qualité de séquençage dans les fichiers FASTQ\n",
    "\n",
    "## Introduction\n",
    "\n",
    "Le séquençage à haut débit a nécessité la mise en oeuvre d'un nouveau format, le format FASTQ, qui permet de représenter de manière textuelle à la fois la séquence lue et son score de qualité dans un ensemble de 4 lignes:\n",
    "```\n",
    "@SEQ_ID_UNIQUE:Plus:BLA:BLA:BLA\n",
    "ATCGGGCATTTATGCTGTATATTAGCGCGATAGCGCGT\n",
    "+SEQ_ID_UNIQUE:Plus:BLA:BLA:BLA\n",
    "?????@IIIIIII?I?I?I?I@@@@@?III?I@I?I??\n",
    "```\n",
    "\n",
    "Comme la séquence utilise la syntaxe FASTA codant les nucléotides avec l'alphabet à une lettre, comment coder le score de qualité, une valeur numérique allant de 0 à 40 et plus, avec un seul caractère? En utilisant le code ASCII, une table de conversion standardisé permettant de faire cette transposition.\n",
    "\n",
    "Noter qu'il y a deux manieres distinctes pour utiliser cette table. Pourquoi? Parce qu'on ne peut partir de de l'indice 0 car les 32 premiers chiffres sont réservés pour le fonctionnement des logiciels et des systèmes d'opération, Il nous faut donc se décaler (_offset_). Quel décalage utilisé?\n",
    "\n",
    "- Si vous utiliser des fichiers obtenus de plateformes Sanger ou bien Illumina en version ultérieure à 1.8, on applique +33. Ça nous fait donc démarrer avec le caractère \"!\".\n",
    "- Si vous utiliser des fichiers provenant de versions plus anciennes de la plateforme Solexa/Illumina (antérieure à v.1.8), on applique +64. On démarre donc avec le caractère \"@\"\n",
    "\n",
    "Le tableau qui suit est tiré du site [www.alpharithms.com](https://www.alpharithms.com/ascii-table-512119/):\n",
    "\n",
    "![table codes ASCII](https://www.alpharithms.com/s3/assets/img/ascii-chart/ascii-table-alpharithms-scaled.jpg)"
   ]
  }
 ],
 "metadata": {
  "kernelspec": {
   "display_name": "Python 3 (ipykernel)",
   "language": "python",
   "name": "python3"
  },
  "language_info": {
   "codemirror_mode": {
    "name": "ipython",
    "version": 3
   },
   "file_extension": ".py",
   "mimetype": "text/x-python",
   "name": "python",
   "nbconvert_exporter": "python",
   "pygments_lexer": "ipython3",
   "version": "3.12.1"
  }
 },
 "nbformat": 4,
 "nbformat_minor": 5
}
