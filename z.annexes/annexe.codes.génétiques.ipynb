{
 "cells": [
  {
   "attachments": {},
   "cell_type": "markdown",
   "id": "dd0b0a7d-0f2e-41ce-8a42-7c9af5f1f8e9",
   "metadata": {},
   "source": [
    "# Informations complémentaires: transpositions codon => acide aminé via le code génétique\n",
    "\n",
    "Dans le modèle le plus courant, un organisme vivant passe son information contenu dans une molécule d'ADN (le gène) à une molécule d'ARN (le transcrit) pour que cet ARN soit ensuite traduit par le ribosome afin de cosntruire une protéine. Le défi: l'ARN est construit avec une alphabet comprenant 4 lettres (les nucléotides) alors que la protéine est construite avec un alphabet contenant 20 lettres (ou plus: sélénocystéine et pyrrolysine). Ce genre de transition est une tache assez fréquente en bioinformatique où on veut savoir, par exemple, toutes les protéines possibles en traduisant *in silico* une séquence d'ADN.\n",
    "\n",
    "Pour faire cette traduction nous avons besoin d'un dictionnaire: le **code génétique**.\n",
    "\n",
    "<div><img src=\"./annexe.files/annexe.fig.code.genetique.jpg\" style=\"height: 500px\"/></div>\n",
    "\n",
    "Tiré de Campbell, 5ème édition, fig. 17.6\n",
    "\n",
    "Ce tableau correspond au code génétique universel mais il faut aussi tenir compte de certaines exceptions:\n",
    "\n",
    "- L'acide aminé sélénocysteine (Sec ou U) est codé par le codon UGA (qui est d'ordinaire un codon d'arrêt) dans certains ARNm contenant des séquences SECIS (voir [ici](https://en.wikipedia.org/wiki/Selenocysteine))\n",
    "- L'acide aminé pyrrolysine (Pyl ou O) est codé par le codon UAG (un autre codon d'arrêt dans le code génétique universel) dans les ARNm provenant de certains organismes comme des bactéries ou des archea extrêmophiles.\n",
    "- Dans certains organismes et les organelles de certains autres (essentiellement dans la mitochondrie), des [variations existent](https://en.wikipedia.org/wiki/DNA_and_RNA_codon_tables#Alternative_codons). Si nécessaire, en tenir compte dans votre cas particulier :-)\n"
   ]
  }
 ],
 "metadata": {
  "kernelspec": {
   "display_name": "Python 3 (ipykernel)",
   "language": "python",
   "name": "python3"
  },
  "language_info": {
   "codemirror_mode": {
    "name": "ipython",
    "version": 3
   },
   "file_extension": ".py",
   "mimetype": "text/x-python",
   "name": "python",
   "nbconvert_exporter": "python",
   "pygments_lexer": "ipython3",
   "version": "3.12.1"
  }
 },
 "nbformat": 4,
 "nbformat_minor": 5
}
