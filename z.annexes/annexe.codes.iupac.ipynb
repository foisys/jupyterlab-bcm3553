{
 "cells": [
  {
   "cell_type": "markdown",
   "id": "af392dc4-4de4-4053-81c6-d3ba03494750",
   "metadata": {},
   "source": [
    "# Informations complémentaires: codes IUPAC pour les nucléotides et les acides aminés\n",
    "\n",
    "En bio-informatique, l'information est souvent encodée en utilisant un alphabet standardisé. Les outils demandent souvent des formats très spécifiques et il est souvent nécessaire de passer d'un alphabet à un autre.\n",
    "\n",
    "L'Union internationale de chimie pure et appliquée (IUPAC) a conventionné la nomenclature des nucléotides et des acides aminés dans leur représentation à une lettre (nucléotide/acide aminé) ou à 3 lettres (acides aminé).\n",
    "\n",
    "### Nomenclature IUPAC: nucléotides\n",
    "\n",
    "|Nucléotide|Code à une lettre|\n",
    "|--------|--------|\n",
    "| Adénine | A |\n",
    "| Cytosine | C |\n",
    "| Guanine | G |\n",
    "| Thymine | T |\n",
    "| Purine (A ou G) | R |\n",
    "| Pyrimidine (C ou T) | Y |\n",
    "| A ou C | M |\n",
    "| G ou T | K |\n",
    "| C ou G (3 liaisons hydrogène) | S |\n",
    "| A ou T (2 liaisons hydrogène) | W |\n",
    "| Pas-A (C, G, ou T) | B |\n",
    "| Pas-C (A, G, ou T) | D |\n",
    "| Pas-G (A, C, ou T) | H |\n",
    "| Pas-T/Pas-U (A, C, ou G) | V |\n",
    "| N'importe quel | N |\n",
    "\n",
    "#### Nomenclature IUPAC: acides aminés\n",
    "\n",
    "| Acide aminé | Code à une lettre | Code à trois lettres |\n",
    "|--------|--------|--------|\n",
    "| Alanine | A | Ala |\n",
    "| Acide aspartique ou asparagine | B | Asx |\n",
    "| Cystéine | C | Cys |\n",
    "| Acide aspartique | D | Asp |\n",
    "| Acide glutamique | E | Glu |\n",
    "| Phenylalanine | F | Phe |\n",
    "| Glycine | G | Gly |\n",
    "| Histidine | H | His |\n",
    "| Isoleucine | I | Ile |\n",
    "| Lysine | K | Lys |\n",
    "| Leucine | L | Leu |\n",
    "| Méthionine | M | Met |\n",
    "| Asparagine | N | Asn |\n",
    "| Proline | P | Pro |\n",
    "| Glutamine | Q | Gln |\n",
    "| Arginine | R | Arg |\n",
    "| Serine | S | Ser |\n",
    "| Thréonine | T | Thr |\n",
    "| Valine | V | Val |\n",
    "| Tryptophane | W | Trp |\n",
    "| N'importe quel | X | Xaa |\n",
    "| Tyroine | Y | Tyr |\n",
    "| Glutamine ou acide alutamique | Z | Glx |\n"
   ]
  }
 ],
 "metadata": {
  "kernelspec": {
   "display_name": "Python 3 (ipykernel)",
   "language": "python",
   "name": "python3"
  },
  "language_info": {
   "codemirror_mode": {
    "name": "ipython",
    "version": 3
   },
   "file_extension": ".py",
   "mimetype": "text/x-python",
   "name": "python",
   "nbconvert_exporter": "python",
   "pygments_lexer": "ipython3",
   "version": "3.12.1"
  }
 },
 "nbformat": 4,
 "nbformat_minor": 5
}
