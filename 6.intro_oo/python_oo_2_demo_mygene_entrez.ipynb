{
 "cells": [
  {
   "cell_type": "markdown",
   "id": "eef3c5e4-8eaf-4df7-96f8-ec372a1e6b76",
   "metadata": {},
   "source": [
    "# Python pour biochimistes: BioPython pour interroger des bases de données distantes\n",
    "\n",
    "## Introduction\n",
    "\n",
    "Dans un cahier précédent, nous avons développé la logique nécessaire pour accéder des ressources distantes: ouverture d'un flux de données (*handle*), construction d'un URL contenant les éléments de la requete, extraction de l'info, etc. C'est pas si complexe mais ça reste toujours un exercice long et pas toujours plaisant car ça demande de connaitre la façon d'entrer en contact avec la ressource distante et comprendre sa structure. Pourquoi ne pas utiliser une approche orientée-objet pour faciliter notre vie: encapsuler les actions à prendre sous forme de méthodes avec un usage prévisible?\n",
    "\n",
    "BioPython, via `Bio.Entrez`, n'est pas la seule façon de rechercher de l'information grâce à l'approche orientée-objet. Le site [Mygene.info](https://Mygene.info) est une extraordinaire ressource totalement complémentaire à NCBI Entrez en utilisant une approche très différente. Plutôt que d'avoir à rechercher dans quelle base de données recherchée, Mygene.info a construit dans une seule ressource toutes les informations publiquement accessibles dans une approche gène-centrique. Il nous suffit d'installer la librairie `mygene` (https://pypi.org/project/mygene/) :-)"
   ]
  },
  {
   "cell_type": "markdown",
   "id": "47ce8ed6-4876-4485-b780-a830db99e830",
   "metadata": {},
   "source": [
    "## Protocole pour obtenir des infos sur notre gène préféré via Mygene.info\n",
    "\n",
    "### Étape 1 - Installation de la librairie `mygene` \n",
    "\n",
    "Rien de plus facile!"
   ]
  },
  {
   "cell_type": "code",
   "execution_count": 1,
   "id": "b600d3a1-33fa-4632-a39f-b029d6e020d6",
   "metadata": {},
   "outputs": [
    {
     "name": "stdout",
     "output_type": "stream",
     "text": [
      "Requirement already satisfied: mygene in /Library/Frameworks/Python.framework/Versions/3.12/lib/python3.12/site-packages (3.2.2)\n",
      "Requirement already satisfied: biothings-client>=0.2.6 in /Library/Frameworks/Python.framework/Versions/3.12/lib/python3.12/site-packages (from mygene) (0.3.1)\n",
      "Requirement already satisfied: requests>=2.3.0 in /Library/Frameworks/Python.framework/Versions/3.12/lib/python3.12/site-packages (from biothings-client>=0.2.6->mygene) (2.31.0)\n",
      "Requirement already satisfied: charset-normalizer<4,>=2 in /Library/Frameworks/Python.framework/Versions/3.12/lib/python3.12/site-packages (from requests>=2.3.0->biothings-client>=0.2.6->mygene) (3.3.2)\n",
      "Requirement already satisfied: idna<4,>=2.5 in /Library/Frameworks/Python.framework/Versions/3.12/lib/python3.12/site-packages (from requests>=2.3.0->biothings-client>=0.2.6->mygene) (3.6)\n",
      "Requirement already satisfied: urllib3<3,>=1.21.1 in /Library/Frameworks/Python.framework/Versions/3.12/lib/python3.12/site-packages (from requests>=2.3.0->biothings-client>=0.2.6->mygene) (2.1.0)\n",
      "Requirement already satisfied: certifi>=2017.4.17 in /Library/Frameworks/Python.framework/Versions/3.12/lib/python3.12/site-packages (from requests>=2.3.0->biothings-client>=0.2.6->mygene) (2023.11.17)\n",
      "\n",
      "\u001b[1m[\u001b[0m\u001b[34;49mnotice\u001b[0m\u001b[1;39;49m]\u001b[0m\u001b[39;49m A new release of pip is available: \u001b[0m\u001b[31;49m25.1.1\u001b[0m\u001b[39;49m -> \u001b[0m\u001b[32;49m25.2\u001b[0m\n",
      "\u001b[1m[\u001b[0m\u001b[34;49mnotice\u001b[0m\u001b[1;39;49m]\u001b[0m\u001b[39;49m To update, run: \u001b[0m\u001b[32;49mpip install --upgrade pip\u001b[0m\n"
     ]
    }
   ],
   "source": [
    "!pip install mygene"
   ]
  },
  {
   "cell_type": "markdown",
   "id": "8e63ac1d-80f5-4bd9-a811-59b43c765b45",
   "metadata": {},
   "source": [
    "### Étape 2 - Recherche avec notre gène préféré \n",
    "\n",
    "Dans Mygene.info comme dans Entrez, la première étape est de rechercher l'information permettant d'identifier de manière non-équivoque le gène qui nous intéresse. La premi;re étape est donc la recherche de cette information. "
   ]
  },
  {
   "cell_type": "code",
   "execution_count": 2,
   "id": "5d42498a-52e0-4ff5-be7c-44b7ca2ca894",
   "metadata": {},
   "outputs": [
    {
     "name": "stdout",
     "output_type": "stream",
     "text": [
      "[{'_id': '2017', '_score': 143.45253, 'entrezgene': '2017'}, {'_id': 'ENSG00000246889', '_score': 116.01934}, {'_id': 'ENSG00000288166', '_score': 116.01934}, {'_id': '121233926', '_score': 116.01934, 'entrezgene': '121233926'}]\n",
      "{'_id': '2017', '_version': 3, 'genomic_pos': [{'chr': '11', 'end': 70436584, 'ensemblgene': 'ENSG00000085733', 'start': 70398404, 'strand': 1}, {'chr': 'HG2115_PATCH', 'end': 197872, 'ensemblgene': 'ENSG00000288401', 'start': 159692, 'strand': 1}]}\n"
     ]
    }
   ],
   "source": [
    "import mygene\n",
    "\n",
    "#\n",
    "# Création de l'objet de base pour faire le reste \n",
    "#\n",
    "# Le constructeur gère les interactions avec Mygene.info\n",
    "#\n",
    "mg = mygene.MyGeneInfo()\n",
    "\n",
    "out = mg.query(\"cttn\", scopes='symbol', fields='entrezgene', species='human')\n",
    "#\n",
    "#\n",
    "#\n",
    "print(out[\"hits\"])\n",
    "\n",
    "#\n",
    "# Comment interpréter nos résultats? Il faut avoir un peu d'expérience ;-)\n",
    "#\n",
    "# On voit que seulement 3/4 des résultats a une donnée entrezgene et que\n",
    "# 2 des 3 ont des valeurs id très élevées...\n",
    "#\n",
    "# Obtenons TOUTES les infos sur CTTN; attention, c'est beaucoup!!\n",
    "#\n",
    "cttn = mg.getgene(2017)\n",
    "print(cttn)\n",
    "\n",
    "#\n",
    "# Une approche est évidemment de limiter aux champs que nous désirons obtenir\n",
    "#\n",
    "# La liste des champs possibles est ici: https://docs.mygene.info/en/latest/doc/data.html\n",
    "#\n",
    "cttn = mg.getgene(2017,fields=\"genomic_pos\")\n",
    "print(cttn)\n",
    "#\n",
    "# Comme cttn est une liste, il est alors facile d'utiliser les fonctions de liste pour \n",
    "# ensuite utiliser Bio.Entrez pour obtenir les séquences\n",
    "#"
   ]
  },
  {
   "cell_type": "markdown",
   "id": "b4c62fe9-0896-4258-aee1-65f85d1dcdf7",
   "metadata": {},
   "source": [
    "### Étape 3 - Recherche des gènes dans un segment génomique \n",
    "\n",
    "Dans Mygene.info, on peut faire des recherches sur les gènes se trouvant dans un segment avec la même approche. Il faut simplement définir autrement la chaine de caractères, en incluant le chromosome, le début et la fin du segment et, évidemment, l'espéce utilisée."
   ]
  },
  {
   "cell_type": "code",
   "execution_count": 19,
   "id": "e2b8bed6-69f3-4b28-b48e-0612ff101e3b",
   "metadata": {},
   "outputs": [
    {
     "name": "stdout",
     "output_type": "stream",
     "text": [
      "{'took': 110, 'total': 8, 'max_score': 10.163101, 'hits': [{'_id': '100313770', '_score': 10.163101, 'entrezgene': '100313770', 'name': 'microRNA 548k', 'symbol': 'MIR548K', 'taxid': 9606}, {'_id': '8500', '_score': 10.163101, 'entrezgene': '8500', 'name': 'PTPRF interacting protein alpha 1', 'symbol': 'PPFIA1', 'taxid': 9606}, {'_id': '8772', '_score': 10.163101, 'entrezgene': '8772', 'name': 'Fas associated via death domain', 'symbol': 'FADD', 'taxid': 9606}, {'_id': '2017', '_score': 10.163101, 'entrezgene': '2017', 'name': 'cortactin', 'symbol': 'CTTN', 'taxid': 9606}, {'_id': '22941', '_score': 10.163101, 'entrezgene': '22941', 'name': 'SH3 and multiple ankyrin repeat domains 2', 'symbol': 'SHANK2', 'taxid': 9606}, {'_id': '55107', '_score': 10.163101, 'entrezgene': '55107', 'name': 'anoctamin 1', 'symbol': 'ANO1', 'taxid': 9606}, {'_id': '101928443', '_score': 10.163101, 'entrezgene': '101928443', 'name': 'long intergenic non-protein coding RNA 2753', 'symbol': 'LINC02753', 'taxid': 9606}, {'_id': '106480082', '_score': 3.27842, 'entrezgene': '106480082', 'name': 'RNA, U6 small nuclear 1175, pseudogene', 'symbol': 'RNU6-1175P', 'taxid': 9606}]}\n"
     ]
    }
   ],
   "source": [
    "span = mg.query('q=chr11:69900000-70500000', species=9606, entrezonly=True)\n",
    "print(span)"
   ]
  }
 ],
 "metadata": {
  "kernelspec": {
   "display_name": "Python 3 (ipykernel)",
   "language": "python",
   "name": "python3"
  },
  "language_info": {
   "codemirror_mode": {
    "name": "ipython",
    "version": 3
   },
   "file_extension": ".py",
   "mimetype": "text/x-python",
   "name": "python",
   "nbconvert_exporter": "python",
   "pygments_lexer": "ipython3",
   "version": "3.12.1"
  }
 },
 "nbformat": 4,
 "nbformat_minor": 5
}
