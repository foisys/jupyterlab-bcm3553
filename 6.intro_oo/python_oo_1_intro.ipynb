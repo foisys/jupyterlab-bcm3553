{
 "cells": [
  {
   "cell_type": "markdown",
   "id": "63b3ee7f-3967-4fe7-905b-5204f619fb97",
   "metadata": {},
   "source": [
    "# Python pour biochimistes: une introduction à la notion de la programmation orientée-objet\n",
    "\n",
    "## Introduction\n",
    "\n",
    "La programmation orientée-objet est un sujet complexe mais qui dans la mise en action au quotidien est relativement simple. Ça \"consiste en la définition et l'interaction de briques logicielles appelées objets ; un objet représente un concept, une idée ou toute entité du monde physique, comme une voiture, une personne ou encore une page d'un livre. Il possède une structure interne et un comportement, et il sait interagir avec ses pairs. Il s'agit donc de représenter ces objets et leurs relations ; l'interaction entre les objets via leurs relations permet de concevoir et réaliser les fonctionnalités attendues, de mieux résoudre le ou les problèmes. Dès lors, l'étape de modélisation revêt une importance majeure et nécessaire pour la POO. C'est elle qui permet de transcrire les éléments du réel sous forme virtuelle.\" (Wikipédia)\n",
    "\n",
    "En pratique? \n",
    "\n",
    "- Des objets aux propriétés définies sont créés par une instantiation d'une classe.\n",
    "- La classe contient les méthodes ou fonctions concernant la manipulation de ce type d'objets\n",
    "- Le programmeur interagit avec les propriétés de l'objet en invoquant les méthodes de cette classe.\n",
    "\n",
    "Un exemple: définissons une classe caractérisant les cercles."
   ]
  },
  {
   "cell_type": "code",
   "execution_count": 2,
   "id": "4607614e-419a-4b75-8add-e352b9ed83cf",
   "metadata": {
    "tags": []
   },
   "outputs": [
    {
     "name": "stdout",
     "output_type": "stream",
     "text": [
      "Cercle avec un rayon de 8\n",
      "Surface de unCercle: 201.06192982974676\n",
      "Surface de unCercle (arrondie):201.0619\n",
      "Perimetre de unCercle: 50.26548245743669\n",
      "Perimetre de unCercle (arrondi):50.2655\n",
      "\n",
      "Modification du rayon de l'objet unCercle:\n",
      "Nouvelle valeur :14\n",
      "Surface de unCercle: 615.7521601035994\n",
      "Surface de unCercle: 87.96459430051421\n"
     ]
    }
   ],
   "source": [
    "class Cercle:\n",
    "    # Pour avoir une valeur de pi\n",
    "    import math\n",
    "    #\n",
    "    # La méthode __init__ est le \"constructeur\" nécessaire à \n",
    "    # l'instantiation d'un objet de la classe\n",
    "    #\n",
    "    # Le mot-clé \"self\" est nécessaire pour spécifier les propriétés de l'objet\n",
    "    # créé\n",
    "    #\n",
    "    # Si on ne met que le mot-clé self, on déclare seulement Cercle() \n",
    "    #\n",
    "    def __init__(self, radius):\n",
    "        self.radius = radius\n",
    "    \n",
    "    def getArea(self):\n",
    "        self.area = self.math.pi * self.radius**2\n",
    "        return self.area\n",
    "    \n",
    "    def getPerim(self):\n",
    "        self.perim = 2* self.math.pi * self.radius\n",
    "        return self.perim\n",
    "\n",
    "#\n",
    "# Créons un cercle avec un rayon de 10 unités\n",
    "# \n",
    "unCercle = Cercle(8)\n",
    "#\n",
    "# Obtenons les valeurs avec les méthodes de l'objet Cercle\n",
    "#\n",
    "print(f\"Cercle avec un rayon de {unCercle.radius}\")\n",
    "print(\"Surface de unCercle: \"+str(unCercle.getArea()))\n",
    "# Comment limiter le nombre de chiffres suivant le point :-)\n",
    "x= \"{:.4f}\".format(unCercle.getArea())\n",
    "print(\"Surface de unCercle (arrondie):\"+x)\n",
    "print(\"Perimetre de unCercle: \"+str(unCercle.getPerim()))\n",
    "x= \"{:.4f}\".format(unCercle.getPerim())\n",
    "print(\"Perimetre de unCercle (arrondi):\"+x)\n",
    "\n",
    "#\n",
    "# On peut changer la valeur mise dans le constructeur initial \n",
    "#\n",
    "unCercle.radius = 14\n",
    "print(\"\\nModification du rayon de l\\'objet unCercle:\")\n",
    "print(\"Nouvelle valeur :\"+str(unCercle.radius))\n",
    "print(\"Surface de unCercle: \"+str(unCercle.getArea()))\n",
    "print(\"Surface de unCercle: \"+str(unCercle.getPerim()))"
   ]
  },
  {
   "cell_type": "markdown",
   "id": "aecc0696-c7df-48ff-84f7-0adc5171faf9",
   "metadata": {},
   "source": [
    "## La programmation orientée objet et Python pour la science\n",
    "\n",
    "Plusieurs librairies utilisées en science utilisent la paradigme de la programmation orientée objet pour accomplir leur tâche:\n",
    "\n",
    "- [BioPython](https://www.biopython.org) : bioinformatique\n",
    "- [ChemPy](https://github.com/bjodah/chempy) | [RDKit](https://www.rdkit.org) : chemoinformatique\n",
    "- [Astropy](https://www.astropy.org) : physique\n",
    "- [Numpy](https://www.numpy.org): mathématiques\n",
    "- Et plus encore!"
   ]
  }
 ],
 "metadata": {
  "kernelspec": {
   "display_name": "Python 3 (ipykernel)",
   "language": "python",
   "name": "python3"
  },
  "language_info": {
   "codemirror_mode": {
    "name": "ipython",
    "version": 3
   },
   "file_extension": ".py",
   "mimetype": "text/x-python",
   "name": "python",
   "nbconvert_exporter": "python",
   "pygments_lexer": "ipython3",
   "version": "3.12.1"
  }
 },
 "nbformat": 4,
 "nbformat_minor": 5
}
