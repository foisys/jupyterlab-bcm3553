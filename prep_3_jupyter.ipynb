{
 "cells": [
  {
   "cell_type": "markdown",
   "id": "55a6cf8e-b10f-4580-a158-1d8f3ae8fa27",
   "metadata": {},
   "source": [
    "# Préparation de l'environnement de développement\n",
    "\n",
    "## Introduction\n",
    "\n",
    "Pour résoudre notre problème, on a besoin d'un outil: un language de programmation. Ce language doit nous permettre de communiquer avec le matériel de l'ordinateur afin d'exécuter les tâches nécessaires pour accomplir nos tâches: lecture et écriture sur le système de fichier, traitement de l'information, connexions avec le monde extérieur si nécessaire et bien d'autres choses.\n",
    "\n",
    "## Nos outils\n",
    "\n",
    "Comment  utiliser un language de programmation? La manière la plus simple se fait via un simple fichier en format texte, écrit via un éditeur de texte. Simple mais limité... Une approche plus payante est l'utilisation d'un environnement de développement intégré. Duh? C'est un logiciel offrant des fonctionnalités complémentaires comme l'indentation automatique ou l'autocorrection. Il existe une multitude de ces outils mais un d'entre eux qui est très populaire est Jupyter.  Pourquoi? Parce qu'en plus d'écrire du code, il est facile de compléter ce code avec de la documentation dans la même plateforme.\n",
    "\n",
    "## Installation locale\n",
    "\n",
    "Donc comment faire avec Jupyter?\n",
    "\n",
    "Premièrement, il faut avoir Python 3 installé sur votre ordinateur. Sur un Mac ou sur un poste Linux/Unix, c'est déjà fait ;-) Sur Windows, il faut installer le package provenant du site de Python: [Page des installateurs Windows 10 et plus et Windows 7 et moins](https://www.python.org/downloads/windows).  Il est très facile alors d'installer Jupyter Lab:\n",
    "\n",
    "`% pip3 install jupyterlab`\n",
    "\n",
    "On démarre notre environement ainsi:\n",
    "\n",
    "`% mkdir mon_projet`\n",
    "\n",
    "`% jupyter lab --notebook-dir= ./mon_projet`\n",
    "\n",
    "Une fenêtre du fureteur s'ouvrira et on peut commencer!\n",
    "\n",
    "## Jupyter sur le Web: Google Colab.\n",
    "\n",
    "Si on ne veut pas faire local, on peut passer par le Web :-) Jupyter est le coeur de l'application [Google Colab](https://colab.research.google.com/): .\n",
    "\n",
    "Premier exercice: créer votre accès à Colab!\n",
    "\n",
    "## Aspects un peu plus avancés\n",
    "\n",
    "### Comment accéder à la console du terminal derrière le Notebook\n",
    "\n",
    "Est-il possible d'envoyer des commandes directement sur le serveur hébergeant le service Jupyter? Of course! En utilisant la caractère magique \"!\" dans une fenêtre de code:"
   ]
  },
  {
   "cell_type": "code",
   "execution_count": 2,
   "id": "d9a8f1c2-bf10-450b-8fe9-b24bf738fb9c",
   "metadata": {},
   "outputs": [
    {
     "name": "stdout",
     "output_type": "stream",
     "text": [
      "total 48\n",
      "-rw-r--r--  1 foisys  staff  5930 28 jan 14:09 prep_1_basics.ipynb\n",
      "-rw-r--r--  1 foisys  staff  4480 28 jan 14:05 prep_2_python_why.ipynb\n",
      "-rw-r--r--  1 foisys  staff  6684 28 jan 14:17 prep_3_jupyter.ipynb\n"
     ]
    }
   ],
   "source": [
    "!ls -l ."
   ]
  },
  {
   "cell_type": "markdown",
   "id": "7dba1385-a00d-41a0-8d11-986d33c7bbeb",
   "metadata": {},
   "source": [
    "### Invoquer Jupyter Lab hébergé sur un autre ordinateur\n",
    "\n",
    "Est-il possible d'accéder à une instance de Jupyter Lab qui n'est pas sur votre poste de travail? Sans problème :-)\n",
    "\n",
    "#### 1 - Sur le serveur distant, créer un mot de passe pour accéder à Jupyter\n",
    "\n",
    "Ici, en assumant que Jupyter Lab est installé dans votre compte sur cet ordinateur distant, on se connecte à notre compte à distance. Pour simplifier l'accès (pas besoin d'utiliser le jeton de connexion), créons un mot de passe : \n",
    "\n",
    "`% jupyter lab --generate-config`\n",
    "\n",
    "`% jupyter lab password`\n",
    "\n",
    "#### 2 - Sur le serveur distant, démarrer Jupyter Lab en mode redirection\n",
    "\n",
    "On démarre Jupyter Lab en lui spécifiant de ne pas ouvrir de page web locale et d'\"écouter\" le traffic sur un port qui sera redirigé: \n",
    "\n",
    "`% jupyter lab --no-browser --port <id_port> --notebook-dir=<my_notebooks>`\n",
    "\n",
    "`% jupyter lab --no-browser --port 8889 --notebook-dir=myLocation`\n",
    "\n",
    "#### 3 - Sur votre poste de travail, rediriger le traffic SSH entre votre poste et le serveur distant\n",
    "\n",
    "En utilisant SSH pour se connecter au serveur distant, il s'agit de rediriger le traffic entre les deux machines en utilisant le port spécifié ci-dessus: \n",
    "\n",
    "`% ssh -N -L localhost:<local-port>:localhost:<remote-port> <remote-user>@<remote-host>`\n",
    "\n",
    "`% ssh -N -L localhost:8889:localhost:8889 mon.usager@mon.serveur.distant`\n",
    "\n",
    "#### 4 - Sur votre poste de travail,  accéder à Jupyter\n",
    "\n",
    "Il suffit maintenant d'ouvrir une page web dans votre fureteur préféré à `https://localhost:<id_port>` et en utilisant le mot de passe ;-) "
   ]
  },
  {
   "cell_type": "code",
   "execution_count": null,
   "id": "17b31260-06d4-42ad-8c9d-bb7bb5ebb7c9",
   "metadata": {},
   "outputs": [],
   "source": []
  }
 ],
 "metadata": {
  "kernelspec": {
   "display_name": "Python 3 (ipykernel)",
   "language": "python",
   "name": "python3"
  },
  "language_info": {
   "codemirror_mode": {
    "name": "ipython",
    "version": 3
   },
   "file_extension": ".py",
   "mimetype": "text/x-python",
   "name": "python",
   "nbconvert_exporter": "python",
   "pygments_lexer": "ipython3",
   "version": "3.12.1"
  }
 },
 "nbformat": 4,
 "nbformat_minor": 5
}
